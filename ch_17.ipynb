{
 "cells": [
  {
   "cell_type": "markdown",
   "metadata": {},
   "source": [
    "## 17 變異數分析\n",
    "\n",
    "前面的章節主要是針對單個變數進行統計分析，如描述性統計、參數估計等。然而，僅對單個變數進行分析所能獲得的訊息是有限的。以某公司股票的股價為例，對其進行單變數分析，我們最多只能獲得其概率分佈，然後據此來對股價進行預測。透過這樣的方式，盡管也能進行預測，但預測的可信度是非常有限的。然而，如果我們知道明天該公司會宣告發放股利，那們由此可判斷明天股價上漲的概率極高。所以，在分析某個變數的時候，往往還會需要其他變數的訊息。這樣，統計分析工作就涉及到了多個變數，不同於單變數分析，對於多個變數的統計分析，我們更多地關注多個變數之間存在的聯繫，以幫助提高預測的準確性。下面先來介紹一種對變數間關係的定性分析方法－－變異數分析（Analysis of Variance，ANOVA）。"
   ]
  },
  {
   "cell_type": "markdown",
   "metadata": {},
   "source": [
    "### 17.1 變異數分析之思想\n",
    "\n",
    "在正式介紹變異數分析之前，我們先來看一個問題：「不同行業股票的收益率是否相同？」。答案如果是「不同行業的股票有著明顯不同的收益率」，並在不同行業的股票收益率相互獨立的前提下，我們可以進一步提出疑問：食品行業的收益率會比金融行業的收益率更高嗎？再考慮總體經濟學中的失業問題中，失業率會因為地區的不同而不同。如果地區確實是影響失業率的一個重要的因素，那們台北的失業率會比高雄的失業率更高還是更低？\n",
    "\n",
    "總結起來，上述兩個問題的前一半關注的都是，一個因子（Factor）變數（如行業和地區）是否會影響某一個變數（如收益率和失業率）的數值。因子變數的取值可以是不同的狀態，我們稱這些狀態為水平。例如，行業因子變數，其取值不是 1.14、3.1415926 諸如此類的數值，而是「食品行業」「金融行業」這樣的水平。欲研究的被影響變數被稱為反應變數（Response Variable）。這兩個問題的後一半歸結起來關注的是：兩個不同的水平下（食品行業 VS 金融行業，台北 VS 高雄）反應變數（如股票收益率，失業率）是如何取值的？哪種情況下反應變數的取值更高？\n",
    "\n",
    "若要探究一個因子變數對反應變數的影響，變異數分析是一個較為適合的工具。變異數分析從反應變數（如上述的股票收益率和失業率）的變異數入手，研究諸多因子（如行業、地區等因素）中哪些因子對觀測變數有顯著影響。變異數分析的重點不在於預測（它無法預測出明天金融行業股票的走勢如何），而在於分析和比較各組之間的差異。例如，分析食品行業和金融行業股票收益率的差異，如果我們發現，這兩個行業的股票收益率是有顯著差異的，則可以得到下述結論：行業是影響股票收益率的一個重要的因素。\n",
    "\n",
    "準確地說，變異數分析的研究對像是各個組別反應變數均值之間可能存在的差異，其中組別的劃分是以因子變數為依據的。由於需要借助變異數來觀察均值是否相同，所以被叫做變異數分析。透過變異數分析，可以檢定分組所依據的因子變數對反應變數是否具有重要的影響。如果反應變數在不同組別中的均值是相同的，則可以認為分組所依據的因子變數對反應變數沒有影響（如果所有地區的平均失業率都是一樣的，地區對失業率就沒有重要的影響）。反之，可以推斷分組所依據的因子變數是影響該反應變數的重要因素。請注意，不一定要求所有水平下反應變數的均值都不同，才能說明該因子變數是有重要影響的。只要存在至少兩個組別的均值顯著不同，就可以認為該因子變數對反應變數是有影響的。例如，哪怕只有台北和高雄的失業率不同，其他地區的失業率都一樣的，也可以說明地區是對失業率有影響的。\n",
    "\n",
    "根據所研究的因素的數量，可以將變異數分為單因素變異數分析、多因素變異數分析和析因變異數分析。單因素變異數分析即是只研究一個因子的變異數分析，如前面談到的失業率，股票收益率等例子都屬於單因素變異數分析。多因素變異數分析則是研究多個因子的變異數分析，最常見的多因素變異數分析為二因素變異數分析，即研究兩個因子的變異數分析，比如探討施肥量和灌溉量對於糧食產量的影響即是一個二因素變異數分析。多因素變異數分析研究的是每個因子是否對因變數有著重要的影響，而不是這些因子整體對因變數是否有著重要影響。析因變異數分析則是在多因素變異數分析的基礎上加入了因子之間的乘項，其原因是一個因子對反應變數的影響大小可能受到另一個因子的平的影響。舉個簡單的例子。假設有兩個因子－－是否酗酒與年齡段。是否酗酒有兩個水平，即「是」和「否」；年齡段也有兩個水平，即「青年」和「老年」。我們都知道酗酒對身體有負面影響，同時老年人酗酒對身體的傷害比年輕人酗酒對身體的傷害更大，也就是說，是否酗酒對身體的影響在不同的年齡段水平是不一樣的。為了體現出這種影響，可以加入是否酗酒與年齡段的乘項，進行析因變異數分析。\n",
    "\n",
    "在現實世界中，影響一個反應變數的因素往往有很多種，多因素變異數分析即體現了這一點。但是，盡管有著很多影響因素，有時我們只想研究其中的一兩種，而不是全部。值得注意的是，在變異數分析中，如果發現一個因素對反應變數有著重要的影響，這並不能保證該因素真的對反應變數有影響。之所以得到這樣的結果的原因可能是，有另外一個與該因素相關的因素對反應變數產生了影響，我們把這種因素叫做干擾因素（Confounding Factor）。為了避免干擾因素的影響，需要加入其他變數以控制干擾因素。如果加入的是因子變數，我們採取的就是隨機區組設計（Randomized Block Design）。如果加入的是連續變數 ，那麼該變數舊式共變數，我們所進行的舊式共變異數分析（Aanlysis of Covariance，ANCOVA）。"
   ]
  },
  {
   "cell_type": "markdown",
   "metadata": {},
   "source": [
    "### 17.2 變異數分析之原理\n",
    "\n",
    "變異數分析的目的在於分析因子對反應變數有無顯著影響；亦即，在因子的不同水平下，反應變數的均值是否有顯著差異。一般來說，影響反應變數的因素有兩大類：\n",
    "\n",
    "##### 1. 不可控的隨機因素\n",
    "\n",
    "即使兩塊一模一樣的土地、施加完全一樣的肥料、灌溉一樣數量的水、給予完全一樣的光照，得到的糧食產量也不見得會完全一樣。有太多無法控制的隨機因素會影響產量，例如這塊土地種植的大豆的基因或許比另一塊土地上大豆的基因好。即使是同一品種、同一棵植物上獲取的大豆也不見得相同。若要研究行業對股票的收益率的影響，除了行業間收益率可能存在差異以外，還存在其他不可控的隨機因素會影響股票的收益率。\n",
    "\n",
    "##### 2. 研究中施加對結果\n",
    "\n",
    "若要研究施肥量對於糧食產量的影響，施肥量則是對結果會產生影響的可控因素。\n",
    "\n",
    "這些因素都會使我們收集到的反應變數產生波動。變異數分析透過分析不同來源的波動（不可控隨機 VS 可控因素）對總波動（反應變數的總體變化）的貢獻大小，進而確定可控因素（因子）對反應變數影響力的大小。如果反應變數的波動主要由可控因素引起，可控因素對於總波動的貢獻較大，則說明可控因素對於反應變數有顯著的影響。例如，如果不同施肥量條件下的糧食的產量大小相似，不同組別之間產量無變化，僅有的變化是由種子質量等不可控的隨機因素引起，我們無法得出「施肥量是影響糧食產量的一個重要因素」的結論。如果產量的變化很大程度上是由「施肥量」這個因素引起，即使這個產量整體變化差異很小，也可以說「施肥量」是產量的一個影響因素，只不過這個因素的影響作用有限。"
   ]
  },
  {
   "cell_type": "markdown",
   "metadata": {},
   "source": [
    "#### 17.2.1 離差平方和\n",
    "\n",
    "現在以單因素變異數分析為例，說明變異數分析的假設檢定過程。假設現在因子變數共有 $M$ 個水平，每個水平下試驗或觀測對象有 $N_j$ 個（$j=1,2,...,M$）。令 $Y_{ij}$ 表示第 $j$ 個水平組別下第 $i$ 個反應變數，其中 $i=1,2,...,N_j$。令 $\\mu_j$ 代表第 $j$ 個水平組別下反應變數的均值，$\\mu_0$ 代表所有反應變數的均值。若因子水平對反應變數無影響，則不同因子水平下反應變數的均值是相同的，這就是變異數分析之虛無假設：\n",
    "\n",
    "$$H_0:\\mu_1=\\mu_2=...=\\mu_M=\\mu_0$$\n",
    "\n",
    "現在我們觀測到不同因子水平下之樣本數據 $y_{ij}$ （$j=1,2,...,M$，$i=1,2,...,N_j$）  \n",
    "這樣第 $j$ 組之樣本均值為：\n",
    "\n",
    "$$\\overline{y}_j=\\cfrac{y_{1j}+y_{2j}+...+y_{N_jj}}{N_j}=\\cfrac{1}{N_j}\\sum_{i=1}^{N_j}y_{ij},\\quad j=1,2,...,M.$$\n",
    "\n",
    "而全樣本之平均值為：\n",
    "\n",
    "$$\\overline{y}\n",
    "=\\cfrac{1}{N}\\!\\sum_{j=1}^{M}\\!\\!\\sum_{i=1}^{N_j}y_{ij}\n",
    "=\\cfrac{1}{N}\\!\\sum_{j=1}^{M}\\!{N_j}\\!\\left(\\cfrac{1}{N_j}\\!\\sum_{i=1}^{N_j}y_{ij}\\right)\n",
    "=\\cfrac{1}{N}\\!\\sum_{j=1}^{M}\\!{N_j}\\overline{y}_{j}$$\n",
    "\n",
    "其中 $N=\\sum_{j=1}^{M}N_j$ 為全樣本之數量。變異數分析之實質是檢定 $\\overline{y}$ 是否與 $\\overline{y}_j$ 相異。\n",
    "\n",
    "現在樣本觀測值 $y_{ij}$ 與全樣本均值 $\\overline{y}$ 之差異可分為兩個部分：\n",
    "\n",
    "$$y_{ij}-\\overline{y}=y_{ij}-\\overline{y}_j+\\overline{y}_j-\\overline{y}\\qquad(21.1)$$\n",
    "\n",
    "其中 $y_{ij}-\\overline{y}_j$ 被稱為組內偏差，$\\overline{y}_j-\\overline{y}$ 被稱為組間偏差。接下來，將式 (21.1) 左右兩邊平方並加總，可得反應樣本數據波動情況的指標－－總離差平方和（Total Sum of Squares，TSS），又稱為總變異：\n",
    "\n",
    "$$\\sum_{j=1}^{M}\\sum_{i=1}^{N_j}\\left(y_{ij}-\\overline{y}\\right)^2\n",
    "=\\sum_{j=1}^{M}\\sum_{i=1}^{N_j}\\left(y_{ij}-\\overline{y}_j\\right)^2\n",
    "+\\sum_{j=1}^{M}\\sum_{i=1}^{N_j}\\left(\\overline{y}_j-\\overline{y}\\right)^2\n",
    "+2\\sum_{j=1}^{M}\\sum_{i=1}^{N_j}\\left(y_{ij}-\\overline{y}_j\\right)\\left(\\overline{y}_{j}-\\overline{y}\\right)\\ (21.2)$$\n",
    "\n",
    "由於 $\\sum_{i=1}^{N_j}\\left(y_{ij}-\\overline{y}_j\\right)=0$，故式 (21.2) 中最後一項為 0，可簡化為：\n",
    "\n",
    "$$\n",
    "\\begin{split}\n",
    "\\sum_{j=1}^{M}\\sum_{i=1}^{N_j}\\left(y_{ij}-\\overline{y}\\right)^2\n",
    "&=\\sum_{j=1}^{M}\\sum_{i=1}^{N_j}\\left(y_{ij}-\\overline{y}_j\\right)^2\n",
    "+\\sum_{j=1}^{M}\\sum_{i=1}^{N_j}\\left(\\overline{y}_j-\\overline{y}\\right)^2\\\\\n",
    "&=\\sum_{j=1}^{M}\\sum_{i=1}^{N_j}\\left(y_{ij}-\\overline{y}_j\\right)^2\n",
    "+\\sum_{j=1}^{M}N_j\\left(\\overline{y}_j-\\overline{y}\\right)^2\n",
    "\\end{split}\n",
    "$$\n",
    "\n",
    "其中，等號右邊第一項為組內偏差平方和，又被稱為誤差平方和（Error Sum of Squares，ESS）、隨機變異、或組內變異；第二項為組間偏差平方和，又被稱為因子平方和（Factor Sum of Squares，FSS）、因子變異、或組間變異。"
   ]
  },
  {
   "cell_type": "markdown",
   "metadata": {},
   "source": [
    "#### 17.2.2 自由度\n",
    "\n",
    "從 TSS、FSS、ESS 之數學表達式可以看出，反應變數的個數對離平方和大小可能有影響，變數個數越多，離差平方和就有可能越大；變數個數越少，離差平方和就有可能越小。為了消除變數個數對離差平方和大小的影響，我們用離差平方和進行平均，得到平均變異（Mean Square），來衡量不同來源的波動。在引入各平均變異的定義之前，我們先來瞭解一下自由度的概念。\n",
    "\n",
    "自由度是指當以樣本的統計量來估計母體的參數時，樣本中能夠獨立或自由變動的數據的個數。例如在前面章節中提到的，樣本變異數的計算式為：\n",
    "\n",
    "$$S=\\cfrac{1}{n-1}\\sum_{i=1}^nN_j\\left(x_i-\\overline{x}\\right)^2\\quad(21.3)$$\n",
    "\n",
    "其中分母 $n\\!-\\!1$ 就是自由度。為什麼式(21.3)中可以自由變動的樣本個數為 $n\\!-\\!1$ 而不是 $n$？因為該式隱藏了 $\\frac{1}{n}\\!\\sum_{i=1}^{n}\\!x_i\\!=\\!\\overline{x}$ 的這一均值約束，為了滿足這個均值約束，$n$ 個樣本不能都自由變動。考慮三個樣本數據：a,b,c，若這三個數的平均數是 3，即$\\frac{1}{3}\\left(a\\!+\\!b\\!+\\!c\\right)=3$，那麼可以自由變動的數就只有 2 個，例如一旦 a,b 確定，那麼 $c$ 只能為 $3\\!\\times\\!3\\!-\\!\\left(a\\!+\\!b\\right)$ 而不能自由變動。按照這樣的思路，可以確定出 TSS、FSS 和 ESS 的自由度。\n",
    "\n",
    "總結起來，我們進行變異數分析的對象共有 $N$ 個樣本觀測值，分佈在 $M$ 個組中，第 $j$ 個組的樣本量為 $N_j$。\n",
    "\n",
    " * TSS 是衡量的是 $N$ 個樣本之總波動水平，這裡所有的 $N$ 個樣本並不獨立，它們滿足一個約束條件（均值為 $\\overline{y}$）：\n",
    " \n",
    " $$\\sum_{j=1}^{M}\\sum_{i=1}^{N_j}\\left(y_{ij}-\\overline{y}\\right)=0$$\n",
    " \n",
    " 故真正獨立的變數只有 $N-1$ 個，TSS 的自由度為 $N-1$。\n",
    " \n",
    " * FSS 衡量的是由於因子水平變化導致的反應變數取值之波動。但是，$M$ 個因子組別之均值並不獨立，$\\overline{y}_j,j=1,...,M$ 滿足一個約束條件：\n",
    " \n",
    " $$\\sum_{j=1}^{M}N_j\\left(\\overline{y}_j-\\overline{y}\\right)=0$$\n",
    " \n",
    " 因此也丟失一個自由度，FSS 的自由度是 $M-1$，其平均組間變異（因子變異數）為：\n",
    " \n",
    " $$M\\!S\\!F=\\frac{F\\!S\\!S}{M-1}=\\frac{1}{M-1}\\sum_{j=1}^{M}N_j\\left(\\overline{y}_j-\\overline{y}\\right)^2$$\n",
    " \n",
    " * ESS 反應的是由於樣本與其所處因子水平的組別均值之差異而產生的波動，需滿足 $M$ 個約束條件，\n",
    " \n",
    " $$\\sum_{i=1}^{N_j}\\left(y_{ij}-\\overline{y}_j\\right)=0,\\quad j=1,...,N$$\n",
    " \n",
    " 進而失去的 $M$ 個自由度，所以 ESS 的自由度是 $N-M$，其平均組內變異（隨機變異數）為：\n",
    " \n",
    " $$M\\!S\\!E=\\frac{1}{N-M}\\sum_{j=1}^{M}\\sum_{i=1}^{N_j}\\left(y_{ij}-\\overline{y}_j\\right)^2$$\n",
    " \n",
    "TSS、FSS 和 ESS 的自由度滿足以下關係：$N-1=(M-1)+(N-M)$。"
   ]
  },
  {
   "cell_type": "markdown",
   "metadata": {},
   "source": [
    "#### 17.2.3 顯著性檢定\n",
    "\n",
    "假設反應變數 $Y_{ij}$ 滿足條件：根據因子水平劃分的任一 $j$ 組，$Y_{ij}\\big(i=1,2,...,N_j\\big)$ 為一組獨立同分佈變數，且服從常態分佈，即 $Y_{ij}\\sim N\\big(\\mu_j,\\sigma_0^2\\big)$。基於這個假設，可證明出平均組間變異和平均組內變異之期望值滿足下列式子：\n",
    "\n",
    "$$\n",
    "\\begin{split}\n",
    "\\mathsf{E}\\big(M\\!S\\!F\\big)&=\\sigma_0^2+\\frac{1}{M-1}\\sum_{j=1}^{M}N_j\\big(\\mu_j-\\mu_0\\big)^2\\\\\n",
    "\\mathsf{E}\\big(M\\!S\\!E\\big)&=\\sigma_0^2\n",
    "\\end{split}\n",
    "$$\n",
    "\n",
    "在虛無假設 $H_0:\\mu_1=\\mu_2=...=\\mu_M=\\mu_0$ 下，$\\mathsf{E}\\big(M\\!S\\!F\\big)=\\mathsf{E}\\big(M\\!S\\!E\\big)=\\sigma_0^2$，而且變異數分析之統計量：\n",
    "\n",
    "$$\\varphi=\\frac{M\\!S\\!F}{M\\!S\\!E}=\\frac{F\\!S\\!S\\ /\\ (M-1)}{E\\!S\\!S\\ /\\ (N-M)}$$\n",
    "\n",
    "服從 $F\\big(M\\!-\\!1,N\\!-\\!M\\big)$ 分佈。$\\varphi$ 統計量越大，說明平均組間變異 MSF 與平均組內變異 MSE 差異很大，且 $M\\!S\\!F > M\\!S\\!E$，故 MSF 成為樣本總波動之主要貢獻，因子影響十分顯著；$\\varphi$ 統計量很小時，說明平均組內變異 MSE 是主要的變異來源，因子影響不顯著。我們可以查閱 $F$ 分佈的臨界值表，或者計算 $p$ 值來判斷該統計量是否顯著。\n",
    "\n",
    "現在，我們來總結一下變異數分析的一般步驟：\n",
    "\n",
    "1. 根據感興趣的因素（因子）之不同取值（水平）將反應變數分成 $M$ 個組；\n",
    "\n",
    "2. 提出虛無假設 $H_0:$ 因子對於反應變數沒有影響；對立假設 $H_1:$ 因子對於反應變數有影響；\n",
    "\n",
    "3. 求出樣本數據中每組的樣本平均值及全樣本均值，算出平均組內變異數 MSF 和平均組間變異 MSE；\n",
    "\n",
    "4. 建構 $\\varphi$ 統計量並計算 $\\varphi$ 值：\n",
    "\n",
    "$$\\varphi=\\frac{MSF}{MSE}\\sim F\\big(M\\!-\\!1,N\\!-\\!M\\big)$$\n",
    "\n",
    "5. 由顯著性水平 $\\alpha$（通常取 0.001,0.05,0.1 等）查 $F$ 分佈表的臨界值 $F_{\\alpha}\\big(M\\!-\\!1,N\\!-\\!M\\big)$（或計算 $\\varphi$ 值對應的 $p$ 值）來判斷是接受虛無假設還是拒絕虛無假設；\n",
    "\n",
    " * 如果 $\\varphi>F_\\alpha\\big(M-1,N-M\\big)$（或 $p<\\alpha$）則拒絕虛無假設，可以推斷認為因子變數對反應變數有影響；\n",
    " \n",
    " * 如果 $\\varphi<F_\\alpha\\big(M-1,N-M\\big)$（或 $p>\\alpha$）則接受虛無假設，可以推斷認為因子變數對反應變數沒有影響。"
   ]
  },
  {
   "cell_type": "markdown",
   "metadata": {},
   "source": [
    "### 17.3 變異數分析之 Python 實作\n",
    "\n",
    "statsmodel 中的 anova 模組可以幫助我們進行變異數分析。利用 anova 模組進行變異數分析的一般途徑是：先建立一個線性回歸模型 $^3$，然後再將該模型作為參數傳入專門的函數之中，下面，我們呼叫該模組分別進行單因素變異數分析與多因素變異數分析。"
   ]
  },
  {
   "cell_type": "markdown",
   "metadata": {},
   "source": [
    "#### 17.3.1 單因素變異數分析\n",
    "\n",
    "現再來考慮一個簡單的問題，即行業對股票收益率的影響。直覺上來說，行業對股票收益率有重要的影響，不同行業的股票的平均收益率是不一樣的。以美國為例，網際網路等高科技行業的平均股票收益率就比其他行業要高。接下來，針對中國大陸股票市場，我們用變異數分析來驗證一下這個根據經驗形成的直覺。不過值得注意的是，變異數分析的假設條件式各組別各反應變數之間要求獨立同分佈，此處例子可能不恰當，僅以說明 Python 實踐變異數分析之過程。\n",
    "\n",
    "選擇測試數據為2014年的中國大陸股票市場各產業指數的年度收益率，表 17.1 為該數據的前幾項：\n",
    "\n",
    "> 表 17.1: 股票收益率表\n",
    "\n",
    "  Code|Year|Return   |Industry   \n",
    "------|:--:|--------:|-----------\n",
    "000001|2014|  0.57298|貨幣金融服務\n",
    "000002|2014| 0.827567|房地產業    \n",
    "000003|2014| 0.336481|醫藥製造業  \n",
    "000004|2014|     0.64|房地產業    \n",
    "000005|2014| 0.477997|房地產業    \n",
    "\n",
    "> $^{3}$ **關於線性迴歸模型，請參見下一章。**\n",
    "\n",
    "接下來，用 Python 撰寫程式碼進行變異數分析。"
   ]
  },
  {
   "cell_type": "code",
   "execution_count": 2,
   "metadata": {},
   "outputs": [
    {
     "data": {
      "text/html": [
       "<div>\n",
       "<style scoped>\n",
       "    .dataframe tbody tr th:only-of-type {\n",
       "        vertical-align: middle;\n",
       "    }\n",
       "\n",
       "    .dataframe tbody tr th {\n",
       "        vertical-align: top;\n",
       "    }\n",
       "\n",
       "    .dataframe thead th {\n",
       "        text-align: right;\n",
       "    }\n",
       "</style>\n",
       "<table border=\"1\" class=\"dataframe\">\n",
       "  <thead>\n",
       "    <tr style=\"text-align: right;\">\n",
       "      <th></th>\n",
       "      <th>Code</th>\n",
       "      <th>Year</th>\n",
       "      <th>Return</th>\n",
       "      <th>Industry</th>\n",
       "    </tr>\n",
       "  </thead>\n",
       "  <tbody>\n",
       "    <tr>\n",
       "      <th>0</th>\n",
       "      <td>1</td>\n",
       "      <td>2014</td>\n",
       "      <td>0.572980</td>\n",
       "      <td>货币金融服务</td>\n",
       "    </tr>\n",
       "    <tr>\n",
       "      <th>1</th>\n",
       "      <td>2</td>\n",
       "      <td>2014</td>\n",
       "      <td>0.827567</td>\n",
       "      <td>房地产业</td>\n",
       "    </tr>\n",
       "    <tr>\n",
       "      <th>2</th>\n",
       "      <td>4</td>\n",
       "      <td>2014</td>\n",
       "      <td>0.336481</td>\n",
       "      <td>医药制造业</td>\n",
       "    </tr>\n",
       "    <tr>\n",
       "      <th>3</th>\n",
       "      <td>5</td>\n",
       "      <td>2014</td>\n",
       "      <td>0.640000</td>\n",
       "      <td>房地产业</td>\n",
       "    </tr>\n",
       "    <tr>\n",
       "      <th>4</th>\n",
       "      <td>6</td>\n",
       "      <td>2014</td>\n",
       "      <td>0.477997</td>\n",
       "      <td>房地产业</td>\n",
       "    </tr>\n",
       "  </tbody>\n",
       "</table>\n",
       "</div>"
      ],
      "text/plain": [
       "   Code  Year    Return Industry\n",
       "0     1  2014  0.572980   货币金融服务\n",
       "1     2  2014  0.827567     房地产业\n",
       "2     4  2014  0.336481    医药制造业\n",
       "3     5  2014  0.640000     房地产业\n",
       "4     6  2014  0.477997     房地产业"
      ]
     },
     "execution_count": 2,
     "metadata": {},
     "output_type": "execute_result"
    }
   ],
   "source": [
    "# 讀取數據\n",
    "import pandas as pd\n",
    "import statsmodels.stats.anova as anova\n",
    "from statsmodels.formula.api import ols\n",
    "\n",
    "year_return=pd.read_csv('.\\\\PythonBook_code_data\\\\part 2\\\\016\\\\TRD_Year.csv',\\\n",
    "                       encoding='gbk')\n",
    "year_return.head()"
   ]
  },
  {
   "cell_type": "code",
   "execution_count": 3,
   "metadata": {},
   "outputs": [
    {
     "name": "stdout",
     "output_type": "stream",
     "text": [
      "                 df      sum_sq   mean_sq         F        PR(>F)\n",
      "C(Industry)    74.0   60.517228  0.817800  4.177614  4.382045e-28\n",
      "Residual     2302.0  450.634318  0.195758       NaN           NaN\n"
     ]
    }
   ],
   "source": [
    "# 進行變異數分析：\n",
    "model=ols('Return ~ C(Industry)',\\\n",
    "         data=year_return.dropna()).fit()\n",
    "table1 = anova.anova_lm(model)\n",
    "print(table1)"
   ]
  },
  {
   "cell_type": "markdown",
   "metadata": {},
   "source": [
    "上述結果表明，$p=4.38e-028$，在 0.05 的顯著性水平下，$p$ 值遠遠小於 0.05，故我們應該拒絕虛無假設，認為不同行業股票 2014 年的年收益率不一樣。因此，我們的直覺得到了驗證，即行業是影響股票收益率的一個重要因素的結論。"
   ]
  },
  {
   "cell_type": "markdown",
   "metadata": {},
   "source": [
    "#### 17.3.2 多因素變異數分析\n",
    "\n",
    "假設我們想要探討婚姻狀況和受教育水平這兩個因素對個人收入的影響，我們運用多因素變異數分析技術。PSID.csv 包含了 1993 年美國個人收入的相關數據，我們可以利用該數據來進行多因素變異數分析。在 Python 實作上，類比於單因素分析，在線性迴歸模型裡加入多個要研究的因素即可。具體程式碼如下："
   ]
  },
  {
   "cell_type": "code",
   "execution_count": 4,
   "metadata": {},
   "outputs": [
    {
     "data": {
      "text/html": [
       "<div>\n",
       "<style scoped>\n",
       "    .dataframe tbody tr th:only-of-type {\n",
       "        vertical-align: middle;\n",
       "    }\n",
       "\n",
       "    .dataframe tbody tr th {\n",
       "        vertical-align: top;\n",
       "    }\n",
       "\n",
       "    .dataframe thead th {\n",
       "        text-align: right;\n",
       "    }\n",
       "</style>\n",
       "<table border=\"1\" class=\"dataframe\">\n",
       "  <thead>\n",
       "    <tr style=\"text-align: right;\">\n",
       "      <th></th>\n",
       "      <th>Unnamed: 0</th>\n",
       "      <th>intnum</th>\n",
       "      <th>persnum</th>\n",
       "      <th>age</th>\n",
       "      <th>educatn</th>\n",
       "      <th>earnings</th>\n",
       "      <th>hours</th>\n",
       "      <th>kids</th>\n",
       "      <th>married</th>\n",
       "    </tr>\n",
       "  </thead>\n",
       "  <tbody>\n",
       "    <tr>\n",
       "      <th>0</th>\n",
       "      <td>1</td>\n",
       "      <td>4</td>\n",
       "      <td>4</td>\n",
       "      <td>39</td>\n",
       "      <td>12.0</td>\n",
       "      <td>77250</td>\n",
       "      <td>2940</td>\n",
       "      <td>2</td>\n",
       "      <td>married</td>\n",
       "    </tr>\n",
       "    <tr>\n",
       "      <th>1</th>\n",
       "      <td>2</td>\n",
       "      <td>4</td>\n",
       "      <td>6</td>\n",
       "      <td>35</td>\n",
       "      <td>12.0</td>\n",
       "      <td>12000</td>\n",
       "      <td>2040</td>\n",
       "      <td>2</td>\n",
       "      <td>divorced</td>\n",
       "    </tr>\n",
       "    <tr>\n",
       "      <th>2</th>\n",
       "      <td>3</td>\n",
       "      <td>4</td>\n",
       "      <td>7</td>\n",
       "      <td>33</td>\n",
       "      <td>12.0</td>\n",
       "      <td>8000</td>\n",
       "      <td>693</td>\n",
       "      <td>1</td>\n",
       "      <td>married</td>\n",
       "    </tr>\n",
       "  </tbody>\n",
       "</table>\n",
       "</div>"
      ],
      "text/plain": [
       "   Unnamed: 0  intnum  persnum  age  educatn  earnings  hours  kids   married\n",
       "0           1       4        4   39     12.0     77250   2940     2   married\n",
       "1           2       4        6   35     12.0     12000   2040     2  divorced\n",
       "2           3       4        7   33     12.0      8000    693     1   married"
      ]
     },
     "execution_count": 4,
     "metadata": {},
     "output_type": "execute_result"
    }
   ],
   "source": [
    "# 讀取數據\n",
    "PSID=pd.read_csv('.\\\\PythonBook_code_data\\\\part 2\\\\016\\PSID.csv')\n",
    "PSID.head(3)"
   ]
  },
  {
   "cell_type": "code",
   "execution_count": 5,
   "metadata": {},
   "outputs": [
    {
     "name": "stdout",
     "output_type": "stream",
     "text": [
      "                df        sum_sq       mean_sq          F         PR(>F)\n",
      "C(married)     6.0  1.956487e+10  3.260811e+09  15.551238   9.355695e-18\n",
      "C(educatn)    19.0  2.082990e+11  1.096311e+10  52.284500  9.947527e-180\n",
      "Residual    4829.0  1.012553e+12  2.096818e+08        NaN            NaN\n"
     ]
    }
   ],
   "source": [
    "# 多因素變異數分析\n",
    "model=ols('earnings ~C(married)+C(educatn)',\\\n",
    "         data=PSID.dropna()).fit()\n",
    "table2 = anova.anova_lm(model)\n",
    "print(table2)"
   ]
  },
  {
   "cell_type": "markdown",
   "metadata": {},
   "source": [
    "$p$ 值 9.355695e-18 和 9.947526e-180 均遠小於 0.05，即婚姻狀況和受教育水平的係數都顯著，說明這兩個因素對收入水平有著重要的影響。"
   ]
  },
  {
   "cell_type": "markdown",
   "metadata": {},
   "source": [
    "#### 17.3.3 析因變異數分析\n",
    "\n",
    "析因變異數分析與多元素變異數分析差不多，僅是多了一個因子的乘項。例如說，在上面的例子中，添加 married 與 educatn 的乘項，以檢定這兩者對收入的影響的大小是否與另一個因子的水平有關。"
   ]
  },
  {
   "cell_type": "code",
   "execution_count": 6,
   "metadata": {},
   "outputs": [
    {
     "name": "stdout",
     "output_type": "stream",
     "text": [
      "                           df        sum_sq       mean_sq          F  \\\n",
      "C(married)                6.0  1.956487e+10  3.260811e+09  15.476286   \n",
      "C(educatn)               19.0  2.082990e+11  1.096311e+10  52.032505   \n",
      "C(married):C(educatn)   114.0  2.179318e+10  1.911683e+08   0.907312   \n",
      "Residual               4745.0  9.997585e+11  2.106973e+08        NaN   \n",
      "\n",
      "                              PR(>F)  \n",
      "C(married)              1.163913e-17  \n",
      "C(educatn)             1.370590e-178  \n",
      "C(married):C(educatn)   7.490949e-01  \n",
      "Residual                         NaN  \n"
     ]
    }
   ],
   "source": [
    "model=ols('earnings ~ C(married)*C(educatn)', data=PSID.dropna()).fit()\n",
    "table3 = anova.anova_lm(model)\n",
    "print(table3)"
   ]
  },
  {
   "cell_type": "markdown",
   "metadata": {},
   "source": [
    "第三個係數的 $p$ 值 0.5823>0.05，即結果並不顯著。所以，婚姻狀況和受教育水平對收入的影響大小並不依賴於另一者的水平。"
   ]
  }
 ],
 "metadata": {
  "kernelspec": {
   "display_name": "Python 3",
   "language": "python",
   "name": "python3"
  },
  "language_info": {
   "codemirror_mode": {
    "name": "ipython",
    "version": 3
   },
   "file_extension": ".py",
   "mimetype": "text/x-python",
   "name": "python",
   "nbconvert_exporter": "python",
   "pygments_lexer": "ipython3",
   "version": "3.6.5"
  }
 },
 "nbformat": 4,
 "nbformat_minor": 4
}
