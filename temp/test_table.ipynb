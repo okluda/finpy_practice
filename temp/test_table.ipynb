{
 "cells": [
  {
   "cell_type": "code",
   "execution_count": null,
   "metadata": {},
   "outputs": [],
   "source": [
    "from IPython.display import Latex\n",
    "# Latex(r'f(x)')"
   ]
  },
  {
   "cell_type": "code",
   "execution_count": 17,
   "metadata": {},
   "outputs": [
    {
     "data": {
      "text/html": [
       "<button \"$('.input, .prompt, .output_stderr, .output_error').toggle();\">Toggle Code</button>"
      ]
     },
     "metadata": {},
     "output_type": "display_data"
    }
   ],
   "source": [
    "from IPython.display import display_html\n",
    "display_html(\"\"\"<button \"$('.input, .prompt, .output_stderr, .output_error').toggle();\">Toggle Code</button>\"\"\", raw=True)"
   ]
  },
  {
   "cell_type": "code",
   "execution_count": 21,
   "metadata": {},
   "outputs": [
    {
     "data": {
      "text/html": [
       "<table>\n",
       "<thead>\n",
       "<tr><th style=\"text-align: right;\">     your</th><th style=\"text-align: right;\">  headers</th><th style=\"text-align: right;\">     here</th></tr>\n",
       "</thead>\n",
       "<tbody>\n",
       "<tr><td style=\"text-align: right;\">4.790e-01</td><td style=\"text-align: right;\">4.037e-01</td><td style=\"text-align: right;\">3.848e-01</td></tr>\n",
       "<tr><td style=\"text-align: right;\">3.023e-01</td><td style=\"text-align: right;\">2.438e-01</td><td style=\"text-align: right;\">6.145e-01</td></tr>\n",
       "<tr><td style=\"text-align: right;\">8.643e-01</td><td style=\"text-align: right;\">3.934e-01</td><td style=\"text-align: right;\">6.122e-01</td></tr>\n",
       "</tbody>\n",
       "</table>"
      ],
      "text/plain": [
       "<IPython.core.display.HTML object>"
      ]
     },
     "execution_count": 21,
     "metadata": {},
     "output_type": "execute_result"
    }
   ],
   "source": [
    "import numpy as np\n",
    "from tabulate import tabulate\n",
    "from IPython.display import HTML\n",
    "yourdata = np.random.random((3,3))\n",
    "HTML(tabulate(yourdata, headers= ['your', 'headers', 'here'], floatfmt='.3e', tablefmt='html'))"
   ]
  },
  {
   "cell_type": "markdown",
   "metadata": {},
   "source": [
    "$$\\newcommand\\T{\\Rule{0pt}{1em}{.3em}}\n",
    "\\begin{array}{|c|c|}\n",
    "\\hline X & P(X = i) \\T \\\\\\hline\n",
    "  1 \\T & 1/6 \\\\\\hline\n",
    "  2 \\T & 1/6 \\\\\\hline\n",
    "  3 \\T & 1/6 \\\\\\hline\n",
    "  4 \\T & 1/6 \\\\\\hline\n",
    "  5 \\T & 1/6 \\\\\\hline\n",
    "  6 \\T & 1/6 \\\\\\hline\n",
    "\\end{array}$$"
   ]
  }
 ],
 "metadata": {
  "kernelspec": {
   "display_name": "Python 3",
   "language": "python",
   "name": "python3"
  },
  "language_info": {
   "codemirror_mode": {
    "name": "ipython",
    "version": 3
   },
   "file_extension": ".py",
   "mimetype": "text/x-python",
   "name": "python",
   "nbconvert_exporter": "python",
   "pygments_lexer": "ipython3",
   "version": "3.6.5"
  }
 },
 "nbformat": 4,
 "nbformat_minor": 4
}
