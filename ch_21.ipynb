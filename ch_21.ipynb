{
 "cells": [
  {
   "cell_type": "markdown",
   "metadata": {},
   "source": [
    "## 21 資本資產定價模型（CAPM）\n",
    "\n",
    "### 21.1資本資產定價模型的核心思想\n",
    "\n",
    "回顧上一章，Markowitz 模型用嚴謹的數理工具告訴投資者應該如何建構自己投資組合，不過在 20 世紀 50 年代該模型提出時，計算機並未普及、而且計算能力非常有限，實際投資中應用 Markowitz 模型是一項計算量大、難度強、成本高的工作。基於這些問題，學者們開始嘗試從實證的角度出發，深入挖掘 Markowitz 模型，希望能夠簡化 Markowitz 模型、將其應用在現實投資中。在 20 世紀 60 年代初，三位學者 Sharpe（1964）、Lintner（1965）、Mossin（1966）在 Markowitz 模型框架下不約而同推導出奠定現代投資學的經典模型：資本資產模型（Capital asset pricing model，CAPM）。三位學者經過嚴格地推導都得到以下結論：對於任意的資產組合 $q$，其收益率 $R_q$ 滿足以下關係式：\n",
    "\n",
    "$$\\mathrm{E}(R_q)-R_f=\\beta_{qm}[\\mathrm{E}(R_m)-R_f]\\label{eq:21.1}\\tag{21.1}$$\n",
    "\n",
    "公式 ($\\ref{eq:21.1}$) 被稱為傳統的 CAPM 模型，式中 $R_m$ 是巿場投資組合之收益率，該組合是市場上所有風險資產的組合，包括股票等金融資產、也包括黃金等實物資產。現實中，建構這樣的投資組合不大可能實作，因此實務上常以大盤指數來指代市場投資組合，根據大盤指數計算出來的收益率被看作 $R_m$；$\\beta_{qm}=\\cfrac{\\sigma(R_q,R_m)}{\\sigma^2(R_m)}$ 為投資組合 $q$ 的 Beta 值，其中 $\\sigma(R_q,R_m)$ 為資產組合收益率與市場投資組合收益率之問的共變異數，$\\sigma^2(R_m)$ 為市場投資組合的變異數，Beta 值反應出資產組合 $q$ 的系統風險；$\\mathrm{E}(R_m)-R_f$ 為風險投資組 $q$ 比無風險資產高出的期望收益率，高出來的部分是因為投資人在持有風險組合 $q$ 時承擔了更多的風險，因此 $\\mathrm{E}(R_q)-R_f$ 被稱為風險溢酬（Risk premium）。\n",
    "\n",
    "傳統 CAPM 模型中投資組合 $q$ 可以是任意投資組台，因此可以是單支股票 $i$，我們就可以得到當前常見的 CAPM 模型之表示式：\n",
    "\n",
    "$$\\mathrm{E}(R_i)=R_f+\\beta_i[\\mathrm{E}(R_m)-R_f]\\label{eq:21.2}\\tag{21.2}$$\n",
    "\n",
    "其中 $\\beta_{i}=\\cfrac{\\sigma(R_i,R_m)}{\\sigma^2(R_m)}$ 可以反應出單支股票的系統風險水平，若 $\\beta_i=1$ ，則股票 $i$ 的價格和大盤指數的波動性是一致的；若 $|\\beta_i|<1$，則股票 $i$ 的價格波動程度小於大盤指數；若 $|\\beta_i|>1$，股票 $i$ 的價格波動更大一些。$\\beta$ 值為正說明股票的價格與大盤指數同方向變動，反之則反向變動。CAPM 模型說明，單支股票的期望收益是無風險收益加上系統性風險溢酬，非系統風險可以透過分散投資消除，因此沒有對應的風險溢酬。如果將公式 ($\\ref{eq:21.2}$) 用圖形表示出來，縱軸為不同股票或投資組合收益率之期望值，橫軸為對應的 Beta 值，可以得到一直線、這條直線被稱為證券市場（Security Market Line），該直線截距為 $R_f$、斜率為 $\\mathrm{E}(R_m)-R_f$\n",
    "\n",
    "圖21.1 證券市場線"
   ]
  },
  {
   "cell_type": "markdown",
   "metadata": {},
   "source": [
    "#### 21.2 CAPM 模型的應用\n",
    "\n",
    "CAPM 模型一經提出，迅速在學術界和實務界得到廣泛應用。在學術界，CAPM 模型在研究企業金融（Corporate Finance）方面已經成為學者們必用的偵測模型；在投資（Investment）方面的研究中，CAPM 模型也被用來驗證新的投資策略是否奏效；也有學者從模型本身出發，嘗試讓 CAPM 模型進一步貼近現實。在投資界，CAPM 模型可謂經久不衰，很多券商會提供個股的 $\\beta$ 值以供投資者參照；Alpha 策略也成為專業投資人必備的技能。在企業財務管理領域，CAPM 的流行程度可以從 Graham 和 Harvery（2001）[<sup>10</sup>](#fn10) 的問卷調查結果中看出，他們對 392 位 CFO 發放了調查問卷，結果發現有 73% 的 CFO 總是或者經常使用 CAPM 模型來作為融資成本的參照。在金融界著名的特許金融分析師（Chartered Financial Analyst，CFA）考試中，CAPM 模型是必考的內容。"
   ]
  }
 ],
 "metadata": {
  "kernelspec": {
   "display_name": "Python 3",
   "language": "python",
   "name": "python3"
  },
  "language_info": {
   "codemirror_mode": {
    "name": "ipython",
    "version": 3
   },
   "file_extension": ".py",
   "mimetype": "text/x-python",
   "name": "python",
   "nbconvert_exporter": "python",
   "pygments_lexer": "ipython3",
   "version": "3.6.5"
  }
 },
 "nbformat": 4,
 "nbformat_minor": 4
}
