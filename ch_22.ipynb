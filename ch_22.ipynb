{
 "cells": [
  {
   "cell_type": "code",
   "execution_count": 1,
   "metadata": {},
   "outputs": [],
   "source": [
    "# This allows multiple outputs from a single jupyter notebook cell:\n",
    "from IPython.core.interactiveshell import InteractiveShell\n",
    "InteractiveShell.ast_node_interactivity = \"all\"\n",
    "\n",
    "%matplotlib inline"
   ]
  },
  {
   "cell_type": "markdown",
   "metadata": {},
   "source": [
    "## 22 Fama-French 三因子模型\n",
    "\n",
    "### 22.1 Fama-French 三因子模型的基本思想\n",
    "自 CAPM 模型提出以後，不斷有學者對其進行實證驗證和應用。有證據表明，市場風險溢酬因子無法充分解釋個別風險資產的收益率，學者們不斷探尋影響資產定價的其他因子。Banz (1981)[<sup>12</sup>](#fn12) 指出企業股票的市值（Market Equity，股票價格 $x$ 在外流通股數）會影響到股票的收益率，投資市值小的企業之績效表現優於投資市值大的企業。Banz 把市值與股票收益率相關的現象稱為規模效應（Size Effect）。Basu (1977)[<sup>13</sup>](#fn13) 發現低本益比（Price to Earnings Ratio，P/E Ratio）的股票之收益率會有比較高的 Alpha 值；他在 1983 年[<sup>14</sup>](#fn14) 綜合考慮規模效應後，依舊發現投資低本益比的股票回報更高。Bhandari (1988)[<sup>15</sup>](#fn15) 在考慮了市場風險和規模效應後，發現槓桿比例（Leverage）高的企業收益率較大。也有很多學者[<sup>16</sup>](#fn16) 發現股票的收益率與股票的淨值市價比（Book to Market Equity Ratio，B/M Ratio）有關，高 B/M Ratio的股票會得到更高的報酬，學者們這種現象稱為價值效應（Value Effect）。從這些實證結果來看，CAPM 模型並不足以充分解釋資產的收益率，很多因子可能都可以用在資產定價模型中。\n",
    "\n",
    "<div id=\"fn12\"><sup>12</sup> BBB</div>\n",
    "<div id=\"fn13\"><sup>13</sup> BBB</div>\n",
    "<div id=\"fn14\"><sup>14</sup> BBB</div>\n",
    "<div id=\"fn15\"><sup>15</sup> BBB</div>\n",
    "<div id=\"fn16\"><sup>16</sup> BBB</div>\n",
    "\n",
    "Fama 和 French 於 1992[<sup>17</sup>](#fn17) 、1993年[<sup>18</sup>](#fn18) 對美國股票市場中股票收益率的決定因素進行全面性地研究分析。他們發現單獨使用 Beta 或者和分別與市值、P/E 比、槓桿比例、B/M 比結合在一起來解釋股票收益率時，Beta 的解釋能力很弱。而市值、P/E 比、槓桿比例、B/M 比各因子單獨用來解釋收益率時，每個因子的解釋能力都很強，當把這些因子組合起來時，市值、B/M 比會弱化槓桿比例、P/E 比的解釋能力。因此，Fama 和 French 從可以解釋股票收益率的眾多因素中提取出 3 個重要的影響因子，即市場風險溢酬因子、規模因子和淨值市價比因子，仿照 CAPM 模型用這三個因子建立起線性模型來解釋股票的收益率，這就是著名的三因子模型（Fama-French Three Factor Model）。\n",
    "\n",
    "\n",
    "三因子模型中的三個因子均為投資組合的收益率：市場風險溢酬因子對應的是市場投資組合的收益率，規模因子對應的做多市值較小企業、做空市值較大企業的投資組合之收益率，淨值市價比因子對應的是做多高 B/M 比企業、做空低 B/M 比企業的投資組合之收益率。三因子模型的具體形式如下：\n",
    "\n",
    "$$\\mathrm{E}(R_{it})-R_{ft}=b_i[\\mathrm{E}(R_{mt})-R_{ft}]+s_i\\mathrm{E}(\\mathit{SMB}_t)+h_i\\mathrm{E}(\\mathit{HML}_t)$$\n",
    "\n",
    "其中SMB（Small Minus Big）為規模因子，也就是小企業比大企業高出收益率；HML（High Minus Low）代表淨值市價比因子，用高 B/M 比股票收益率減去低 B/M 比企業的收益率得到；$b_i$、$s_i$ 和 $h_i$ 為分別為投資組合（或單支股票）的收益率對三個因子的敏感係數。實證上常常用：\n",
    "\n",
    "$$R_{it}-R_{ft}=\\alpha_i+b_i(R_{mt}-R_{ft})++s_i\\mathit{SMB}_t+h_i\\mathit{HML}_t+\\varepsilon_{it}$$\n",
    "\n",
    "\n",
    "來做回歸檢驗，式中 $\\alpha_i$ 為超額收益率。實證研究應用時，投資組合（或個股）收益率 $R_{it}$、無風險收益率 $R_{ft}$、市場投資組合 $R_{mt}$、規模因子組合 $mathit{SMB}_t$ 和淨值市價比因子組合 $\\mathit{HML}_t$ 的資料都是已知的，透過線性回歸擬合最小化殘差平方和，我們可以得到參數 $\\alpha_i$、$b_i$、$s_i$ 和 $h_i$ 的估計值，檢驗超額收益及三個因子的係數是否顯著地異於0，也就是檢驗三個因子是否能夠解釋收益率。\n",
    "\n",
    "<div id=\"fn17\"><sup>17</sup> BBB</div>\n",
    "<div id=\"fn18\"><sup>18</sup> BBB</div>\n",
    "\n",
    "**三因子的具體分組過程與計算**\n",
    "$\\mathrm{SMB}_i$ 和 $\\mathrm{HML}_i$ 的計算（參照 Fama 和 French (1993) ）：\n",
    "\n",
    "$\\mathrm{SMB}_i$ 對應的是做多市值較小企業、做空市值較大企業的投資組合之收益率，因此我們需要確定什麼是「市值較小」和「市值較大」企業。這裡的市值對應旳是企業股票的市值（之後稱為 Size），等於股票價格 $P$ 乘以在外流通股數 $Q$。上巿企業 $k$ 在時點 $t$ 的市值即為 $\\mathit{ME}_{kt}=P_{kt}\\times Q_{kt}$。將所有上市企業的 Size 計算出來後按照從小到大的順序排序，找出 Size 的中位數，將 Size 低於中位數的企業定義為 Small 組、Size 高於中位數的企業定義為 Big 組。\n",
    "\n",
    "$\\mathrm{HML}_i$ 對應的是做多高 B/M 比企業、做空低 B/M 比企業的投資組合之收益率，所以也是要確定「B/M 比高低」的企業。首先，上市企業 $k$ 在時點 $t$ 的 $\\mathrm{B/M\\ Ratio}_kt= \\mathit{BE}_{kt}/\\mathit{ME}_{kt}$，其中 $\\mathit{BE}_{kt}$ 為企業在時點 $t$ 股權的賬面價值（Book Common Equity），可以從財務報表相關資料程式庫獲得。計算出所有上市企業的 B/M 比之後，按照從小到大的順序排序，然後將排在前 30% 的企業劃為 Low 組將後 30% 的企業劃為 High 組、將中間 40% 定義為 Medium 組。\n",
    "\n",
    "我們根據 Size 和 B/M 比劃分的組別可以得到 6 組投資組合，分別是 S/L、S/M、S/H、B/L、B/M、B/H，其中兩個字母代表同時屬於兩個組別，比如 S/L 是指由 Size 上屬於 Small組、B/M 比上屬於 Low 組的上市企業組成的投資組合。得到 6 個投資組合後，我們用按市值比例加權平均的方式來計算每組的平均收益率，具體做法為：用每個投資組合中每支股票的市值除以整個組內所有企業的市值總和得到個股權重，再對整個組內所有個股收益率加權平均即可以得到該組的收益率比如 B/M 組由 $K$ 個企業組成，$t$ 時點時每個企業的市值分別為，$M_{1t},M_{2t},...,M_{Kt}$，各企業的股票收益率分別為 $R_{1t},R_{2t},...,R_{Kt}$，那麼 B/M 投資組合的收益率：\n",
    "\n",
    "$$\n",
    "\\begin{split}\n",
    "BM_t&=\\frac{M_{1t}}{\\sum_KM_{kt}}R_{1t}+\\frac{M_{2t}}{\\sum_KM_{kt}}R_{2t}+...+\\frac{M_{Kt}}{\\sum_KM_{kt}}R_{Kt}\\\\\n",
    "&=\\sum_KM_{kt}R_{kt}/\\sum_KM_{kt}\n",
    "\\end{split}\n",
    "$$\n",
    "\n",
    "我們將 6 個投資組合的收益率識別為：SL,SM,SH,BL,BM,BH。\n",
    "根據 Fama 和 French (1993) 的設定，\n",
    "\n",
    "$$\n",
    "\\begin{split}\n",
    "\\mathit{SMB}_t&=\\frac{1}{3}(\\mathit{SL}_t+\\mathit{SM}_t+\\mathit{SH}_t)-\\frac{1}{3}(\\mathit{BL}_t+\\mathit{BM}_t+\\mathit{BH}_t)\\\\\n",
    "\\mathit{HML}_t&=\\frac{1}{2}(\\mathit{SL}_t+\\mathit{BL}_t)-\\frac{1}{2}(\\mathit{SH}_t+\\mathit{BH}_t)\n",
    "\\end{split}\n",
    "$$\n",
    "\n",
    "從整個過程來看，$\\mathit{SMB}_t$ 和 $\\mathit{HML}_t$ 的計算稍稍有些複雜。不過，現在的數據商提供計算好這三個因子數據給使用者。在接下來的例子中，為了重點突出三因子模型的實證應用，直接使用數據商提供的因子資料。\n",
    "\n",
    "### 22.2 三因子模型之 Python 實作\n",
    "\n",
    "以個股「統一」股票為例來說明三因子模型中參數的估計過程。第一步，獲取統一~股票的收益率資料。"
   ]
  },
  {
   "cell_type": "code",
   "execution_count": 2,
   "metadata": {},
   "outputs": [
    {
     "data": {
      "text/html": [
       "<div>\n",
       "<style scoped>\n",
       "    .dataframe tbody tr th:only-of-type {\n",
       "        vertical-align: middle;\n",
       "    }\n",
       "\n",
       "    .dataframe tbody tr th {\n",
       "        vertical-align: top;\n",
       "    }\n",
       "\n",
       "    .dataframe thead th {\n",
       "        text-align: right;\n",
       "    }\n",
       "</style>\n",
       "<table border=\"1\" class=\"dataframe\">\n",
       "  <thead>\n",
       "    <tr style=\"text-align: right;\">\n",
       "      <th></th>\n",
       "      <th>Date</th>\n",
       "      <th>Hon Hai Precision</th>\n",
       "      <th>TSMC</th>\n",
       "      <th>Uni-President</th>\n",
       "    </tr>\n",
       "  </thead>\n",
       "  <tbody>\n",
       "    <tr>\n",
       "      <th>0</th>\n",
       "      <td>2014-01-02</td>\n",
       "      <td>0.3745</td>\n",
       "      <td>-0.9479</td>\n",
       "      <td>0.5587</td>\n",
       "    </tr>\n",
       "    <tr>\n",
       "      <th>1</th>\n",
       "      <td>2014-01-03</td>\n",
       "      <td>-1.2438</td>\n",
       "      <td>-1.9139</td>\n",
       "      <td>-0.9259</td>\n",
       "    </tr>\n",
       "    <tr>\n",
       "      <th>2</th>\n",
       "      <td>2014-01-06</td>\n",
       "      <td>-0.5038</td>\n",
       "      <td>0.0000</td>\n",
       "      <td>0.0000</td>\n",
       "    </tr>\n",
       "  </tbody>\n",
       "</table>\n",
       "</div>"
      ],
      "text/plain": [
       "         Date  Hon Hai Precision  TSMC           Uni-President\n",
       "0  2014-01-02             0.3745        -0.9479         0.5587\n",
       "1  2014-01-03            -1.2438        -1.9139        -0.9259\n",
       "2  2014-01-06            -0.5038         0.0000         0.0000"
      ]
     },
     "execution_count": 2,
     "metadata": {},
     "output_type": "execute_result"
    },
    {
     "data": {
      "text/plain": [
       "Date\n",
       "2014-01-02    0.5587\n",
       "2014-01-03   -0.9259\n",
       "2014-01-06    0.0000\n",
       "Name: Uni-President, dtype: float64"
      ]
     },
     "execution_count": 2,
     "metadata": {},
     "output_type": "execute_result"
    }
   ],
   "source": [
    "import pandas as pd\n",
    "stock=pd.read_csv('.\\\\PythonBook_code_data\\\\part3\\\\022\\\\retdata.csv',sep='\\t')\n",
    "stock.head(n=3)\n",
    "\n",
    "stock.index = pd.to_datetime(stock.Date)\n",
    "UniPresident = stock.iloc[:,3]\n",
    "UniPresident.head(n=3)"
   ]
  },
  {
   "cell_type": "markdown",
   "metadata": {},
   "source": [
    "接下來，我們讀取因子資料"
   ]
  },
  {
   "cell_type": "code",
   "execution_count": 3,
   "metadata": {},
   "outputs": [
    {
     "data": {
      "text/html": [
       "<div>\n",
       "<style scoped>\n",
       "    .dataframe tbody tr th:only-of-type {\n",
       "        vertical-align: middle;\n",
       "    }\n",
       "\n",
       "    .dataframe tbody tr th {\n",
       "        vertical-align: top;\n",
       "    }\n",
       "\n",
       "    .dataframe thead th {\n",
       "        text-align: right;\n",
       "    }\n",
       "</style>\n",
       "<table border=\"1\" class=\"dataframe\">\n",
       "  <thead>\n",
       "    <tr style=\"text-align: right;\">\n",
       "      <th></th>\n",
       "      <th>YY/MM/DD</th>\n",
       "      <th>Market Risk Premium</th>\n",
       "      <th>Size Factor (3 Factor)</th>\n",
       "      <th>Book to Market Factor</th>\n",
       "      <th>Risk-free Interest Rate</th>\n",
       "    </tr>\n",
       "  </thead>\n",
       "  <tbody>\n",
       "    <tr>\n",
       "      <th>0</th>\n",
       "      <td>2015-01-05</td>\n",
       "      <td>-0.3523</td>\n",
       "      <td>0.3276</td>\n",
       "      <td>1.2267</td>\n",
       "      <td>1.355</td>\n",
       "    </tr>\n",
       "    <tr>\n",
       "      <th>1</th>\n",
       "      <td>2015-01-06</td>\n",
       "      <td>-2.4461</td>\n",
       "      <td>1.2977</td>\n",
       "      <td>0.4697</td>\n",
       "      <td>1.355</td>\n",
       "    </tr>\n",
       "    <tr>\n",
       "      <th>2</th>\n",
       "      <td>2015-01-07</td>\n",
       "      <td>0.3387</td>\n",
       "      <td>0.1506</td>\n",
       "      <td>0.4279</td>\n",
       "      <td>1.355</td>\n",
       "    </tr>\n",
       "  </tbody>\n",
       "</table>\n",
       "</div>"
      ],
      "text/plain": [
       "     YY/MM/DD  Market Risk Premium  Size Factor (3 Factor)  \\\n",
       "0  2015-01-05              -0.3523                  0.3276   \n",
       "1  2015-01-06              -2.4461                  1.2977   \n",
       "2  2015-01-07               0.3387                  0.1506   \n",
       "\n",
       "   Book to Market Factor  Risk-free Interest Rate  \n",
       "0                 1.2267                    1.355  \n",
       "1                 0.4697                    1.355  \n",
       "2                 0.4279                    1.355  "
      ]
     },
     "execution_count": 3,
     "metadata": {},
     "output_type": "execute_result"
    },
    {
     "data": {
      "text/plain": [
       "Index(['YY/MM/DD', 'Market Risk Premium', 'Size Factor (3 Factor)',\n",
       "       'Book to Market Factor', 'Risk-free Interest Rate'],\n",
       "      dtype='object')"
      ]
     },
     "execution_count": 3,
     "metadata": {},
     "output_type": "execute_result"
    },
    {
     "data": {
      "text/html": [
       "<div>\n",
       "<style scoped>\n",
       "    .dataframe tbody tr th:only-of-type {\n",
       "        vertical-align: middle;\n",
       "    }\n",
       "\n",
       "    .dataframe tbody tr th {\n",
       "        vertical-align: top;\n",
       "    }\n",
       "\n",
       "    .dataframe thead th {\n",
       "        text-align: right;\n",
       "    }\n",
       "</style>\n",
       "<table border=\"1\" class=\"dataframe\">\n",
       "  <thead>\n",
       "    <tr style=\"text-align: right;\">\n",
       "      <th></th>\n",
       "      <th>YY/MM/DD</th>\n",
       "      <th>Market Risk Premium</th>\n",
       "      <th>Size Factor (3 Factor)</th>\n",
       "      <th>Book to Market Factor</th>\n",
       "      <th>Risk-free Interest Rate</th>\n",
       "    </tr>\n",
       "    <tr>\n",
       "      <th>YY/MM/DD</th>\n",
       "      <th></th>\n",
       "      <th></th>\n",
       "      <th></th>\n",
       "      <th></th>\n",
       "      <th></th>\n",
       "    </tr>\n",
       "  </thead>\n",
       "  <tbody>\n",
       "    <tr>\n",
       "      <th>2015-01-05</th>\n",
       "      <td>2015-01-05</td>\n",
       "      <td>-0.3523</td>\n",
       "      <td>0.3276</td>\n",
       "      <td>1.2267</td>\n",
       "      <td>0.084425</td>\n",
       "    </tr>\n",
       "    <tr>\n",
       "      <th>2015-01-06</th>\n",
       "      <td>2015-01-06</td>\n",
       "      <td>-2.4461</td>\n",
       "      <td>1.2977</td>\n",
       "      <td>0.4697</td>\n",
       "      <td>0.084425</td>\n",
       "    </tr>\n",
       "    <tr>\n",
       "      <th>2015-01-07</th>\n",
       "      <td>2015-01-07</td>\n",
       "      <td>0.3387</td>\n",
       "      <td>0.1506</td>\n",
       "      <td>0.4279</td>\n",
       "      <td>0.084425</td>\n",
       "    </tr>\n",
       "  </tbody>\n",
       "</table>\n",
       "</div>"
      ],
      "text/plain": [
       "              YY/MM/DD  Market Risk Premium  Size Factor (3 Factor)  \\\n",
       "YY/MM/DD                                                              \n",
       "2015-01-05  2015-01-05              -0.3523                  0.3276   \n",
       "2015-01-06  2015-01-06              -2.4461                  1.2977   \n",
       "2015-01-07  2015-01-07               0.3387                  0.1506   \n",
       "\n",
       "            Book to Market Factor  Risk-free Interest Rate  \n",
       "YY/MM/DD                                                    \n",
       "2015-01-05                 1.2267                 0.084425  \n",
       "2015-01-06                 0.4697                 0.084425  \n",
       "2015-01-07                 0.4279                 0.084425  "
      ]
     },
     "execution_count": 3,
     "metadata": {},
     "output_type": "execute_result"
    }
   ],
   "source": [
    "# 獲取三因子資料\n",
    "factors=pd.read_csv('.\\\\PythonBook_code_data\\\\part3\\\\022\\\\factors.csv',sep='\\t')\n",
    "factors.head(n=3)\n",
    "\n",
    "factors.index =pd.to_datetime(factors['YY/MM/DD'])\n",
    "factors.columns\n",
    "\n",
    "# 將年度無風險利率轉化成日度無風險收益率\n",
    "factors['Risk-free Interest Rate']=(factors['Risk-free Interest Rate']**(1/360)-1)*100\n",
    "factors.head(n=3)"
   ]
  },
  {
   "cell_type": "markdown",
   "metadata": {},
   "source": [
    "合併個股收益率數據與因子收益率數據，並計算統一股票的超額收益率"
   ]
  },
  {
   "cell_type": "code",
   "execution_count": 4,
   "metadata": {},
   "outputs": [
    {
     "data": {
      "text/html": [
       "<div>\n",
       "<style scoped>\n",
       "    .dataframe tbody tr th:only-of-type {\n",
       "        vertical-align: middle;\n",
       "    }\n",
       "\n",
       "    .dataframe tbody tr th {\n",
       "        vertical-align: top;\n",
       "    }\n",
       "\n",
       "    .dataframe thead th {\n",
       "        text-align: right;\n",
       "    }\n",
       "</style>\n",
       "<table border=\"1\" class=\"dataframe\">\n",
       "  <thead>\n",
       "    <tr style=\"text-align: right;\">\n",
       "      <th></th>\n",
       "      <th>Uni-President</th>\n",
       "      <th>Market Risk Premium</th>\n",
       "      <th>Size Factor (3 Factor)</th>\n",
       "      <th>Book to Market Factor</th>\n",
       "      <th>Risk-free Interest Rate</th>\n",
       "    </tr>\n",
       "  </thead>\n",
       "  <tbody>\n",
       "    <tr>\n",
       "      <th>2016-12-28</th>\n",
       "      <td>-0.1887</td>\n",
       "      <td>1.0107</td>\n",
       "      <td>-0.5229</td>\n",
       "      <td>-0.0066</td>\n",
       "      <td>0.012228</td>\n",
       "    </tr>\n",
       "    <tr>\n",
       "      <th>2016-12-29</th>\n",
       "      <td>-0.1890</td>\n",
       "      <td>-0.5283</td>\n",
       "      <td>0.5857</td>\n",
       "      <td>0.3557</td>\n",
       "      <td>0.012228</td>\n",
       "    </tr>\n",
       "    <tr>\n",
       "      <th>2016-12-30</th>\n",
       "      <td>1.1364</td>\n",
       "      <td>1.0978</td>\n",
       "      <td>-0.3802</td>\n",
       "      <td>-0.1910</td>\n",
       "      <td>0.012228</td>\n",
       "    </tr>\n",
       "  </tbody>\n",
       "</table>\n",
       "</div>"
      ],
      "text/plain": [
       "            Uni-President  Market Risk Premium  Size Factor (3 Factor)  \\\n",
       "2016-12-28        -0.1887               1.0107                 -0.5229   \n",
       "2016-12-29        -0.1890              -0.5283                  0.5857   \n",
       "2016-12-30         1.1364               1.0978                 -0.3802   \n",
       "\n",
       "            Book to Market Factor  Risk-free Interest Rate  \n",
       "2016-12-28                -0.0066                 0.012228  \n",
       "2016-12-29                 0.3557                 0.012228  \n",
       "2016-12-30                -0.1910                 0.012228  "
      ]
     },
     "execution_count": 4,
     "metadata": {},
     "output_type": "execute_result"
    }
   ],
   "source": [
    "data=pd.concat([UniPresident,factors.iloc[:,1:]],axis=1).dropna()\n",
    "data.tail(n=3)\n",
    "\n",
    "data['Uni-President'] = data['Uni-President'] - data['Risk-free Interest Rate']"
   ]
  },
  {
   "cell_type": "markdown",
   "metadata": {},
   "source": [
    "接下來，我們將統一的股票收益率與三個因子變數建立多元回歸模型。"
   ]
  },
  {
   "cell_type": "code",
   "execution_count": 5,
   "metadata": {},
   "outputs": [
    {
     "name": "stderr",
     "output_type": "stream",
     "text": [
      "D:\\myProgram\\Portable Python 3.6.5 x64 R2\\App\\Python\\lib\\site-packages\\numpy\\core\\fromnumeric.py:2542: FutureWarning: Method .ptp is deprecated and will be removed in a future version. Use numpy.ptp instead.\n",
      "  return ptp(axis=axis, out=out, **kwargs)\n"
     ]
    },
    {
     "data": {
      "text/html": [
       "<table class=\"simpletable\">\n",
       "<caption>OLS Regression Results</caption>\n",
       "<tr>\n",
       "  <th>Dep. Variable:</th>      <td>Uni-President</td>  <th>  R-squared:         </th> <td>   0.254</td>\n",
       "</tr>\n",
       "<tr>\n",
       "  <th>Model:</th>                   <td>OLS</td>       <th>  Adj. R-squared:    </th> <td>   0.250</td>\n",
       "</tr>\n",
       "<tr>\n",
       "  <th>Method:</th>             <td>Least Squares</td>  <th>  F-statistic:       </th> <td>   54.98</td>\n",
       "</tr>\n",
       "<tr>\n",
       "  <th>Date:</th>             <td>Thu, 05 Mar 2020</td> <th>  Prob (F-statistic):</th> <td>1.34e-30</td>\n",
       "</tr>\n",
       "<tr>\n",
       "  <th>Time:</th>                 <td>22:32:57</td>     <th>  Log-Likelihood:    </th> <td> -790.79</td>\n",
       "</tr>\n",
       "<tr>\n",
       "  <th>No. Observations:</th>      <td>   488</td>      <th>  AIC:               </th> <td>   1590.</td>\n",
       "</tr>\n",
       "<tr>\n",
       "  <th>Df Residuals:</th>          <td>   484</td>      <th>  BIC:               </th> <td>   1606.</td>\n",
       "</tr>\n",
       "<tr>\n",
       "  <th>Df Model:</th>              <td>     3</td>      <th>                     </th>     <td> </td>   \n",
       "</tr>\n",
       "<tr>\n",
       "  <th>Covariance Type:</th>      <td>nonrobust</td>    <th>                     </th>     <td> </td>   \n",
       "</tr>\n",
       "</table>\n",
       "<table class=\"simpletable\">\n",
       "<tr>\n",
       "             <td></td>               <th>coef</th>     <th>std err</th>      <th>t</th>      <th>P>|t|</th>  <th>[0.025</th>    <th>0.975]</th>  \n",
       "</tr>\n",
       "<tr>\n",
       "  <th>const</th>                  <td>   -0.0262</td> <td>    0.056</td> <td>   -0.471</td> <td> 0.638</td> <td>   -0.136</td> <td>    0.083</td>\n",
       "</tr>\n",
       "<tr>\n",
       "  <th>Market Risk Premium</th>    <td>    0.6878</td> <td>    0.066</td> <td>   10.426</td> <td> 0.000</td> <td>    0.558</td> <td>    0.817</td>\n",
       "</tr>\n",
       "<tr>\n",
       "  <th>Size Factor (3 Factor)</th> <td>   -0.2314</td> <td>    0.101</td> <td>   -2.293</td> <td> 0.022</td> <td>   -0.430</td> <td>   -0.033</td>\n",
       "</tr>\n",
       "<tr>\n",
       "  <th>Book to Market Factor</th>  <td>   -0.1779</td> <td>    0.145</td> <td>   -1.223</td> <td> 0.222</td> <td>   -0.464</td> <td>    0.108</td>\n",
       "</tr>\n",
       "</table>\n",
       "<table class=\"simpletable\">\n",
       "<tr>\n",
       "  <th>Omnibus:</th>       <td>26.649</td> <th>  Durbin-Watson:     </th> <td>   2.287</td>\n",
       "</tr>\n",
       "<tr>\n",
       "  <th>Prob(Omnibus):</th> <td> 0.000</td> <th>  Jarque-Bera (JB):  </th> <td>  44.427</td>\n",
       "</tr>\n",
       "<tr>\n",
       "  <th>Skew:</th>          <td> 0.383</td> <th>  Prob(JB):          </th> <td>2.25e-10</td>\n",
       "</tr>\n",
       "<tr>\n",
       "  <th>Kurtosis:</th>      <td> 4.264</td> <th>  Cond. No.          </th> <td>    2.64</td>\n",
       "</tr>\n",
       "</table><br/><br/>Warnings:<br/>[1] Standard Errors assume that the covariance matrix of the errors is correctly specified."
      ],
      "text/plain": [
       "<class 'statsmodels.iolib.summary.Summary'>\n",
       "\"\"\"\n",
       "                            OLS Regression Results                            \n",
       "==============================================================================\n",
       "Dep. Variable:          Uni-President   R-squared:                       0.254\n",
       "Model:                            OLS   Adj. R-squared:                  0.250\n",
       "Method:                 Least Squares   F-statistic:                     54.98\n",
       "Date:                Thu, 05 Mar 2020   Prob (F-statistic):           1.34e-30\n",
       "Time:                        22:32:57   Log-Likelihood:                -790.79\n",
       "No. Observations:                 488   AIC:                             1590.\n",
       "Df Residuals:                     484   BIC:                             1606.\n",
       "Df Model:                           3                                         \n",
       "Covariance Type:            nonrobust                                         \n",
       "==========================================================================================\n",
       "                             coef    std err          t      P>|t|      [0.025      0.975]\n",
       "------------------------------------------------------------------------------------------\n",
       "const                     -0.0262      0.056     -0.471      0.638      -0.136       0.083\n",
       "Market Risk Premium        0.6878      0.066     10.426      0.000       0.558       0.817\n",
       "Size Factor (3 Factor)    -0.2314      0.101     -2.293      0.022      -0.430      -0.033\n",
       "Book to Market Factor     -0.1779      0.145     -1.223      0.222      -0.464       0.108\n",
       "==============================================================================\n",
       "Omnibus:                       26.649   Durbin-Watson:                   2.287\n",
       "Prob(Omnibus):                  0.000   Jarque-Bera (JB):               44.427\n",
       "Skew:                           0.383   Prob(JB):                     2.25e-10\n",
       "Kurtosis:                       4.264   Cond. No.                         2.64\n",
       "==============================================================================\n",
       "\n",
       "Warnings:\n",
       "[1] Standard Errors assume that the covariance matrix of the errors is correctly specified.\n",
       "\"\"\""
      ]
     },
     "execution_count": 5,
     "metadata": {},
     "output_type": "execute_result"
    }
   ],
   "source": [
    "import statsmodels.api as sm\n",
    "regThrFac=sm.OLS(data['Uni-President'],sm.add_constant(data.iloc[:,1:4]))\n",
    "result=regThrFac.fit()\n",
    "result.summary()"
   ]
  },
  {
   "cell_type": "markdown",
   "metadata": {},
   "source": [
    "從回歸結果來看，統一股票 2015 年 1 月至 2016 年 12 月的收益率對三因子模型中的市場投資組合風險溢酬因子（Market Risk Premium）、規模因子（Size Factor (3 Factor)）是敏感的，也就是說這兩個因子可以部分地解釋統一的收益率變動，而淨值市價比因子（Book to Market Factor）的係數不顯著地異於 0，解釋能力不夠強。\n",
    "\n",
    "我們可以用 params 屬性提取模型的係數。"
   ]
  },
  {
   "cell_type": "code",
   "execution_count": 6,
   "metadata": {},
   "outputs": [
    {
     "data": {
      "text/plain": [
       "const                    -0.026219\n",
       "Market Risk Premium       0.687815\n",
       "Size Factor (3 Factor)   -0.231406\n",
       "Book to Market Factor    -0.177857\n",
       "dtype: float64"
      ]
     },
     "execution_count": 6,
     "metadata": {},
     "output_type": "execute_result"
    }
   ],
   "source": [
    "result.params"
   ]
  },
  {
   "cell_type": "markdown",
   "metadata": {},
   "source": [
    "### 22.3 三因子模型的評價\n",
    "\n",
    "在建模時，我們一般把資料分成兩組，即歷史建模資料和預測資料。\n",
    "\n",
    "以 2012 年為例，我們可以把 2001 年到 2012 年每年的 6 月份月資料作歷史建模資料，透過把某投資組合（包括單支股票）的預期收益率與無風險收益率的差值 $R_i-R_f$、市場投資組合因子 $R_M-R_f$、規模因子 $R_{SMB}$ 和淨值巿價比因子 $R_{HML}$ 資料帶入三因子模型公式，求出係數 $b_i$、$s_i$、$h_i$ 和截距項 $\\alpha_i$。\n",
    "\n",
    "再用這些係數和 2013 年與 2014 年每年的 6 月份市場投資組合因子 $R_M-R_f$、規模因子 $R_{SMB}$ 和淨值巿價比因子 $R_{HML}$ 資料求出 2013 年和 2014 年 6 月份的某投資組合（包括單支股票）的預期收益率與無風險收益率的差值 $R_i-R_f$，進而可以預測該投資組合（包括單支股票）的預期收益率 $R_i$。\n",
    "\n",
    "在預測投資組合收益方面，CAPM 模型只考慮了市場風險，三因子模型除了市場風險以外，還考慮了不同企業本身的運營情況和在市場中的價值等因素，更加多方面考慮了股票收益率的影響因素。在投資界和學術研究中，三因子模型建模穩定，預測股票的收益率一般會相對準確，Fama-French 三因子模型受到很多投資者和學者青睞。"
   ]
  }
 ],
 "metadata": {
  "kernelspec": {
   "display_name": "Python 3",
   "language": "python",
   "name": "python3"
  },
  "language_info": {
   "codemirror_mode": {
    "name": "ipython",
    "version": 3
   },
   "file_extension": ".py",
   "mimetype": "text/x-python",
   "name": "python",
   "nbconvert_exporter": "python",
   "pygments_lexer": "ipython3",
   "version": "3.6.5"
  }
 },
 "nbformat": 4,
 "nbformat_minor": 4
}
