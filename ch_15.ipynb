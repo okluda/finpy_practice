{
 "cells": [
  {
   "cell_type": "markdown",
   "metadata": {},
   "source": [
    "#### 15.6.3 變數的相關性\n",
    "\n",
    "隨機變數$X$和$Y$之共變異數（Covariance）可以衡量二者間的關係，描述的是兩隨機變數與各自期望之偏差的共同變動狀況，可表達為：\n",
    "\n",
    "$$\\text{Cov}(X,Y)=E[(X-E(X))(Y-E(Y))]$$\n",
    "\n",
    "共變異數為正說明，平均而言變數$X$、$Y$與各自期望之偏差呈同方向變動；若為負，則為反方向變動。共變異數有以下的性質，讀者可自行驗證：\n",
    "\n",
    "1. $\\text{Cov}(X,Y)=\\text{Cov}(Y,X)$\n",
    "2. $\\text{Cov}(aX,bY)=ab\\text{Cov}(Y,X)$（$a$，$b$是常數）；\n",
    "3. $\\text{Cov}(X_1+X_2,Y)=\\text{Cov}(X_1,Y)+\\text{Cov}(X_2,Y)$\n",
    "\n",
    "性質 2 說明共變異數的值受變異數比例影響，並不能準確衡量兩變數相關性之大小。舉個簡單的例子，假設變數$X$和$Y$的共變異數為10，且$X$的單位為米。若令$Z=100X$（單位為釐米），根據性質 2，$Z$和$Y$的共變異數為 1000，擴大了100倍。但是$X$和$Z$衡量的是同一個事物，$X$、$Y$之相關性與$Z$、$Y$之相關性是一樣的。\n",
    "\n",
    "共變異數受比例影響，並不能直接衡量兩變數間相關性之強弱。因此，我們需要對共變異數做進一步處理，以消除比例的影響，由此引入相關係數（Correlation Coefficient）的概念。變數$X$和$Y$的相關係數定義為：\n",
    "\n",
    "$$\\rho_{X,Y}=\\frac{\\text{Cov}(X,Y)}{\\sigma_X\\sigma_Y}$$\n",
    "\n",
    "相關係數的取值範圍為$[-1,+1]$。根據相關係數之定義，可以計算變數$aX$和$bY$的相關係數：\n",
    "\n",
    "\\begin{equation}\n",
    "\\begin{split}\n",
    "\\rho_{aX,bY} &= \\frac{\\text{Cov}(aX,bY)}{\\sqrt{\\text{Var}(aX)}\\sqrt{\\text{Var}(bY)}}\\\\\n",
    "&=\\frac{ab\\text{Cov}(X,Y)}{|a|\\sigma_X|b|\\sigma_Y}\\\\\n",
    "&=\\pm\\rho_{X,Y}\n",
    "\\end{split}\n",
    "\\end{equation}\n",
    "\n",
    "可見，變數比例變動僅會影響相關係數的正負符號，並不會影響其絕對值的大小。現在我們考慮一個特殊的例子，變數$Y$是變數$X$的線性變換，滿足$Y=a+bX$，則二者之間的相關係數為：\n",
    "\n",
    "\\begin{equation}\n",
    "\\begin{split}\n",
    "\\rho_{aX,bY} &= \\frac{\\text{Cov}(X,a+bX)}{\\sigma_X\\sqrt{\\text{Var}(a+bX)}}\\\\\n",
    "&=\\frac{b\\text{Var}X}{|b|\\text{Var}(X)}\\\\\n",
    "&=\\pm1\n",
    "\\end{split}\n",
    "\\end{equation}\n",
    "\n",
    "也就是說$\\rho_{X,Y}=\\pm1$刻畫的是$Y$和$X$之間的線性關係，再具體地說，相關係數衡量的是隨機變數之間線性關係的大小，$|\\rho|$越大說明線性關係越強；$\\rho=0$說明兩個變數是不相關（Uncorrelated）的、無線性關係，但這並不說明兩變數相互獨立，二者可能存在非線性的關係；$0<\\rho<1$時，兩變數呈現正向的線性關係；$-1<\\rho<0$時，兩變數呈現負向的線性關係。"
   ]
  },
  {
   "cell_type": "markdown",
   "metadata": {},
   "source": [
    "#### 15.6.4 台灣加權股價指數與台灣 50 指數的相關性分析\n",
    "\n",
    "台灣加權股價指數（簡稱台灣加權指數、TAIEX），其樣本股包括所有掛牌交易中的普通股，是以上市股票之市值為權數計算出來的加權綜合股價指數，該指數反映了台灣的經濟走向。而台灣 50 指數的計算方式類似，樣本股是台灣證券市場中市值前五十大之上市公司。由於台灣加權股價指數利用市值進行加權，市值大的股票對指數的影響較大。所以，我們認為台灣加權股價指數和台灣 50 指數的日度收益率可能存在著相關關係。接下來我們用 Python 撰寫程式碼來探究二者的相關性。"
   ]
  },
  {
   "cell_type": "code",
   "execution_count": 18,
   "metadata": {},
   "outputs": [
    {
     "data": {
      "text/html": [
       "<div>\n",
       "<style scoped>\n",
       "    .dataframe tbody tr th:only-of-type {\n",
       "        vertical-align: middle;\n",
       "    }\n",
       "\n",
       "    .dataframe tbody tr th {\n",
       "        vertical-align: top;\n",
       "    }\n",
       "\n",
       "    .dataframe thead th {\n",
       "        text-align: right;\n",
       "    }\n",
       "</style>\n",
       "<table border=\"1\" class=\"dataframe\">\n",
       "  <thead>\n",
       "    <tr style=\"text-align: right;\">\n",
       "      <th></th>\n",
       "      <th>CO_ID</th>\n",
       "      <th>CoName</th>\n",
       "      <th>Date</th>\n",
       "      <th>ROI</th>\n",
       "    </tr>\n",
       "  </thead>\n",
       "  <tbody>\n",
       "    <tr>\n",
       "      <th>0</th>\n",
       "      <td>Y9999</td>\n",
       "      <td>TSE Taiex</td>\n",
       "      <td>2014/01/02</td>\n",
       "      <td>0.0120</td>\n",
       "    </tr>\n",
       "    <tr>\n",
       "      <th>1</th>\n",
       "      <td>TWN50</td>\n",
       "      <td>TW 50 INDEX</td>\n",
       "      <td>2014/01/02</td>\n",
       "      <td>-0.3534</td>\n",
       "    </tr>\n",
       "    <tr>\n",
       "      <th>2</th>\n",
       "      <td>TM100</td>\n",
       "      <td>TW MID-CAP INDEX</td>\n",
       "      <td>2014/01/02</td>\n",
       "      <td>0.6243</td>\n",
       "    </tr>\n",
       "    <tr>\n",
       "      <th>3</th>\n",
       "      <td>Y9999</td>\n",
       "      <td>TSE Taiex</td>\n",
       "      <td>2014/01/03</td>\n",
       "      <td>-0.7663</td>\n",
       "    </tr>\n",
       "    <tr>\n",
       "      <th>4</th>\n",
       "      <td>TWN50</td>\n",
       "      <td>TW 50 INDEX</td>\n",
       "      <td>2014/01/03</td>\n",
       "      <td>-1.1200</td>\n",
       "    </tr>\n",
       "  </tbody>\n",
       "</table>\n",
       "</div>"
      ],
      "text/plain": [
       "     CO_ID            CoName        Date        ROI\n",
       "0  Y9999       TSE Taiex      2014/01/02     0.0120\n",
       "1  TWN50       TW 50 INDEX    2014/01/02    -0.3534\n",
       "2  TM100    TW MID-CAP INDEX  2014/01/02     0.6243\n",
       "3  Y9999       TSE Taiex      2014/01/03    -0.7663\n",
       "4  TWN50       TW 50 INDEX    2014/01/03    -1.1200"
      ]
     },
     "execution_count": 18,
     "metadata": {},
     "output_type": "execute_result"
    }
   ],
   "source": [
    "# 讀取數據\n",
    "import pandas as pd\n",
    "import numpy as np\n",
    "import matplotlib.pyplot as plt\n",
    "plt.rcParams['font.sans-serif'] = ['Sarasa Mono TC']\n",
    "\n",
    "TRD_Index=pd.read_table('.\\金融科技實戰_Python與量化投資\\PythonBook_code_data\\part2\\index.csv',sep='\\t')\n",
    "TRD_Index.head()"
   ]
  },
  {
   "cell_type": "code",
   "execution_count": 19,
   "metadata": {},
   "outputs": [
    {
     "data": {
      "text/plain": [
       "array(['TSE Taiex    ', 'TW 50 INDEX  ', 'TW MID-CAP INDEX',\n",
       "       'TWSE CG100 TR Index', 'Taiwan HC 100'], dtype=object)"
      ]
     },
     "execution_count": 19,
     "metadata": {},
     "output_type": "execute_result"
    }
   ],
   "source": [
    "np.unique(TRD_Index.CoName)"
   ]
  },
  {
   "cell_type": "code",
   "execution_count": 20,
   "metadata": {},
   "outputs": [],
   "source": [
    "TRD_Index.index = pd.to_datetime(TRD_Index.Date)"
   ]
  },
  {
   "cell_type": "code",
   "execution_count": 21,
   "metadata": {},
   "outputs": [
    {
     "data": {
      "text/html": [
       "<div>\n",
       "<style scoped>\n",
       "    .dataframe tbody tr th:only-of-type {\n",
       "        vertical-align: middle;\n",
       "    }\n",
       "\n",
       "    .dataframe tbody tr th {\n",
       "        vertical-align: top;\n",
       "    }\n",
       "\n",
       "    .dataframe thead th {\n",
       "        text-align: right;\n",
       "    }\n",
       "</style>\n",
       "<table border=\"1\" class=\"dataframe\">\n",
       "  <thead>\n",
       "    <tr style=\"text-align: right;\">\n",
       "      <th></th>\n",
       "      <th>CO_ID</th>\n",
       "      <th>CoName</th>\n",
       "      <th>Date</th>\n",
       "      <th>ROI</th>\n",
       "    </tr>\n",
       "    <tr>\n",
       "      <th>Date</th>\n",
       "      <th></th>\n",
       "      <th></th>\n",
       "      <th></th>\n",
       "      <th></th>\n",
       "    </tr>\n",
       "  </thead>\n",
       "  <tbody>\n",
       "    <tr>\n",
       "      <th>2014-01-02</th>\n",
       "      <td>Y9999</td>\n",
       "      <td>TSE Taiex</td>\n",
       "      <td>2014/01/02</td>\n",
       "      <td>0.0120</td>\n",
       "    </tr>\n",
       "    <tr>\n",
       "      <th>2014-01-03</th>\n",
       "      <td>Y9999</td>\n",
       "      <td>TSE Taiex</td>\n",
       "      <td>2014/01/03</td>\n",
       "      <td>-0.7663</td>\n",
       "    </tr>\n",
       "    <tr>\n",
       "      <th>2014-01-06</th>\n",
       "      <td>Y9999</td>\n",
       "      <td>TSE Taiex</td>\n",
       "      <td>2014/01/06</td>\n",
       "      <td>-0.5444</td>\n",
       "    </tr>\n",
       "  </tbody>\n",
       "</table>\n",
       "</div>"
      ],
      "text/plain": [
       "              CO_ID         CoName        Date        ROI\n",
       "Date                                                     \n",
       "2014-01-02  Y9999    TSE Taiex      2014/01/02     0.0120\n",
       "2014-01-03  Y9999    TSE Taiex      2014/01/03    -0.7663\n",
       "2014-01-06  Y9999    TSE Taiex      2014/01/06    -0.5444"
      ]
     },
     "execution_count": 21,
     "metadata": {},
     "output_type": "execute_result"
    }
   ],
   "source": [
    "# 獲取台灣加權股價指數收益率數據\n",
    "Taiex=TRD_Index[TRD_Index.CoName=='TSE Taiex    ']\n",
    "Taiex.head(3)"
   ]
  },
  {
   "cell_type": "code",
   "execution_count": 22,
   "metadata": {},
   "outputs": [
    {
     "data": {
      "text/html": [
       "<div>\n",
       "<style scoped>\n",
       "    .dataframe tbody tr th:only-of-type {\n",
       "        vertical-align: middle;\n",
       "    }\n",
       "\n",
       "    .dataframe tbody tr th {\n",
       "        vertical-align: top;\n",
       "    }\n",
       "\n",
       "    .dataframe thead th {\n",
       "        text-align: right;\n",
       "    }\n",
       "</style>\n",
       "<table border=\"1\" class=\"dataframe\">\n",
       "  <thead>\n",
       "    <tr style=\"text-align: right;\">\n",
       "      <th></th>\n",
       "      <th>CO_ID</th>\n",
       "      <th>CoName</th>\n",
       "      <th>Date</th>\n",
       "      <th>ROI</th>\n",
       "    </tr>\n",
       "    <tr>\n",
       "      <th>Date</th>\n",
       "      <th></th>\n",
       "      <th></th>\n",
       "      <th></th>\n",
       "      <th></th>\n",
       "    </tr>\n",
       "  </thead>\n",
       "  <tbody>\n",
       "    <tr>\n",
       "      <th>2014-01-02</th>\n",
       "      <td>TWN50</td>\n",
       "      <td>TW 50 INDEX</td>\n",
       "      <td>2014/01/02</td>\n",
       "      <td>-0.3534</td>\n",
       "    </tr>\n",
       "    <tr>\n",
       "      <th>2014-01-03</th>\n",
       "      <td>TWN50</td>\n",
       "      <td>TW 50 INDEX</td>\n",
       "      <td>2014/01/03</td>\n",
       "      <td>-1.1200</td>\n",
       "    </tr>\n",
       "    <tr>\n",
       "      <th>2014-01-06</th>\n",
       "      <td>TWN50</td>\n",
       "      <td>TW 50 INDEX</td>\n",
       "      <td>2014/01/06</td>\n",
       "      <td>-0.5494</td>\n",
       "    </tr>\n",
       "  </tbody>\n",
       "</table>\n",
       "</div>"
      ],
      "text/plain": [
       "              CO_ID         CoName        Date        ROI\n",
       "Date                                                     \n",
       "2014-01-02  TWN50    TW 50 INDEX    2014/01/02    -0.3534\n",
       "2014-01-03  TWN50    TW 50 INDEX    2014/01/03    -1.1200\n",
       "2014-01-06  TWN50    TW 50 INDEX    2014/01/06    -0.5494"
      ]
     },
     "execution_count": 22,
     "metadata": {},
     "output_type": "execute_result"
    }
   ],
   "source": [
    "# 獲取台灣加權股價指數收益率數據\n",
    "tw50=TRD_Index[TRD_Index.CoName=='TW 50 INDEX  ']\n",
    "tw50.head(3)"
   ]
  },
  {
   "cell_type": "code",
   "execution_count": 23,
   "metadata": {
    "scrolled": true
   },
   "outputs": [
    {
     "data": {
      "text/html": [
       "<div>\n",
       "<style scoped>\n",
       "    .dataframe tbody tr th:only-of-type {\n",
       "        vertical-align: middle;\n",
       "    }\n",
       "\n",
       "    .dataframe tbody tr th {\n",
       "        vertical-align: top;\n",
       "    }\n",
       "\n",
       "    .dataframe thead th {\n",
       "        text-align: right;\n",
       "    }\n",
       "</style>\n",
       "<table border=\"1\" class=\"dataframe\">\n",
       "  <thead>\n",
       "    <tr style=\"text-align: right;\">\n",
       "      <th></th>\n",
       "      <th>TAIEX</th>\n",
       "      <th>TW50</th>\n",
       "    </tr>\n",
       "    <tr>\n",
       "      <th>Date</th>\n",
       "      <th></th>\n",
       "      <th></th>\n",
       "    </tr>\n",
       "  </thead>\n",
       "  <tbody>\n",
       "    <tr>\n",
       "      <th>2014-01-02</th>\n",
       "      <td>0.0120</td>\n",
       "      <td>-0.3534</td>\n",
       "    </tr>\n",
       "    <tr>\n",
       "      <th>2014-01-03</th>\n",
       "      <td>-0.7663</td>\n",
       "      <td>-1.1200</td>\n",
       "    </tr>\n",
       "    <tr>\n",
       "      <th>2014-01-06</th>\n",
       "      <td>-0.5444</td>\n",
       "      <td>-0.5494</td>\n",
       "    </tr>\n",
       "    <tr>\n",
       "      <th>2014-01-07</th>\n",
       "      <td>0.1446</td>\n",
       "      <td>-0.2469</td>\n",
       "    </tr>\n",
       "    <tr>\n",
       "      <th>2014-01-08</th>\n",
       "      <td>0.5135</td>\n",
       "      <td>0.5209</td>\n",
       "    </tr>\n",
       "  </tbody>\n",
       "</table>\n",
       "</div>"
      ],
      "text/plain": [
       "             TAIEX    TW50\n",
       "Date                      \n",
       "2014-01-02  0.0120 -0.3534\n",
       "2014-01-03 -0.7663 -1.1200\n",
       "2014-01-06 -0.5444 -0.5494\n",
       "2014-01-07  0.1446 -0.2469\n",
       "2014-01-08  0.5135  0.5209"
      ]
     },
     "execution_count": 23,
     "metadata": {},
     "output_type": "execute_result"
    }
   ],
   "source": [
    "# 合併兩者的日度收益率數據\n",
    "retData = pd.concat([Taiex.ROI,tw50.ROI],axis=1).astype(np.float)\n",
    "retData =retData.dropna()\n",
    "retData.columns=['TAIEX','TW50']\n",
    "retData.head()"
   ]
  },
  {
   "cell_type": "code",
   "execution_count": 24,
   "metadata": {},
   "outputs": [
    {
     "data": {
      "image/png": "[encoded data removed]",
      "text/plain": [
       "<Figure size 432x288 with 1 Axes>"
      ]
     },
     "metadata": {
      "needs_background": "light"
     },
     "output_type": "display_data"
    },
    {
     "data": {
      "text/plain": [
       "0.9709016200567359"
      ]
     },
     "execution_count": 24,
     "metadata": {},
     "output_type": "execute_result"
    }
   ],
   "source": [
    "# 繪製加權指數與 50 指數收益率的散佈圖\n",
    "plt.scatter(retData.TAIEX,retData.TW50)\n",
    "plt.title('加權指數與 50 指數收益率的散佈圖')\n",
    "plt.xlabel('加權指數收益率')\n",
    "plt.ylabel('50 指數收益率')\n",
    "plt.show()\n",
    "\n",
    "# 計算加權指數與 50 指數收益率的相關係數\n",
    "retData.TAIEX.corr(retData.TW50)"
   ]
  },
  {
   "cell_type": "markdown",
   "metadata": {},
   "source": [
    "觀察加權指數與 50 指數收益率散佈圖，如圖 15.6 所示，兩個收益率序列的散佈圖呈現出從左下向右上方向擴散的趨勢，表明兩個收益率序列之間存在著正相關性。進一步分析兩個收益率序列的相關係數，用 corr() 函數求出兩個收益率序列的相關係數為 0.97090162005673597，可以認為，兩個收益率序列之間存在較強的相關性，二者呈現正向的線性關係。"
   ]
  }
 ],
 "metadata": {
  "kernelspec": {
   "display_name": "Python 3",
   "language": "python",
   "name": "python3"
  },
  "language_info": {
   "codemirror_mode": {
    "name": "ipython",
    "version": 3
   },
   "file_extension": ".py",
   "mimetype": "text/x-python",
   "name": "python",
   "nbconvert_exporter": "python",
   "pygments_lexer": "ipython3",
   "version": "3.6.5"
  }
 },
 "nbformat": 4,
 "nbformat_minor": 2
}
