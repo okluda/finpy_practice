{
 "cells": [
  {
   "cell_type": "markdown",
   "metadata": {},
   "source": [
    "## 第28章 Ｋ線圖\n",
    "\n",
    "### 28.1 Ｋ線圖簡介\n",
    "\n",
    "Ｋ線圖（Candlestick Charts）又被稱為「蠟燭圖」，「陰陽線亅等，它起源於十七世紀日本德川幕府時代。十八世紀，日本技術分析中的重要人物本間宗久在進行大米期貨交易時，記錄並研究大米期貨的歷史價格訊息，同時將戰爭的策略應用於商場上的交易，在這一過程中所發展出來的交易策略逐漸演變成今日技術分析的Ｋ線形態哲學。在數百年的洗煉與修正的過程中，日本投資者一直將Ｋ線圖的投資技術奉為圭臬，長期以來，Ｋ線一直是投資者進行技術分析必看的內容。十九世紀時，美國的Ｋ線大師 Steve Nison 將Ｋ線引進西方，將西方傳統的量化技術工具躍升至融合哲學與兵法的嶄新視野，引起普遍的注意。當前Ｋ線分析已成為各式量化工具不可或缺的一環，其重要性可見一斑。\n",
    "\n",
    "Ｋ線圖一個重要的特色在於它以清晰的視覺效果凸顯出多空情勢，讓投資者得據以擬定交易決策。Ｋ線圖主要透過開盤價（Open Price）、最高價（High Price最低價（Low Price）和收盤價（Close Price）這四個數據值來勾勒交易市瑒的輪廓，根據這四個數值相對關係的不同，可以繪製成數種不同的單一柱型結構，而不同的柱型結構又各自蘊含獨特的市場訊息。\n",
    "\n",
    "圖28.1：加權股價指數2013年4月份的日Ｋ線圖\n",
    "\n",
    "在Ｋ線作圖的時間選擇上，常見的時間跨度有小時、日、周以及月。圖 28.1 是加權股價指數 2013 年 4 月份的日Ｋ線圖。Ｋ線圖上會呈現出一個個長短不等、狀似蠟燭、紅色或綠色柱型圖，這些圖形也稱為蠟燭圖。\n",
    "\n",
    "圖28.2：蠟燭圖\n",
    "\n",
    "從圖 28.2 可以看出，無論顏色是紅色或綠色，每一個蠟燭圖都由「矩形實體（Real Body）」和「豎直線段的影線（Shadow）」兩大部分構成。矩形實體的兩端分別表示收盤價和開盤價。如果當天的收盤價大於開盤價，則矩形為紅色實體，即紅色矩形實體的上端表示收盤價，實體下端表示開盤價。同理，如果當天的收盤價低於開盤價，則矩形實體為綠色。實心矩形的上端表示開盤價，實心矩形下端表示收盤價。矩形實體的高度表示收盤價與開盤價的大小差值。\n",
    "\n",
    "蠟燭圖的影線（Shadow）可以分為上影線（Upper Shadow）和下影線（Lower Shadow）兩部分。從矩形實體向上延伸的線表示上影線，上影線的上端點表示最高價，上影線的長度代表最高價與收盤價（紅色實體）或者開盤價（綠色實體）的差值。下影線指矩形實體向下延伸的那條直線，下影線的下端點表示最低價。下影線的長度表示開盤價（綠色實體）或者收盤價（紅色實體）與最低價的差值。\n",
    "\n",
    "蠟燭圖記錄了資產（比如，股票）的四種價格，開盤價表示開市時多空雙方對於該股票價格的預估；最高價體現出市場中的多頭（買方）的最大能量；最低價代表該股票的空頭（賣方）的最大能量；收盤價則消化吸收了當個交易日期的所有訊息，體現出一個交易日期快結束時股票價格的狀態。\n",
    "\n",
    "在加權股價指數 2013 年 4 月份的日Ｋ線圖中，觀察蠟燭圖的形狀，不同的蠟燭圖的實體長度大小不一。比如，圖中左側第 7 個蠟燭圖的顏色為紅色，說明當日的收盤價高於開盤價，該蠟燭圖的實體部分較大，說明收盤價與開盤價的差別較大，當日市場可能處於多頭強勢的狀態。\n",
    "\n",
    "圖 28.3.蠟燭形態\n",
    "\n",
    "__十字星__：觀察圖 28.3 右側第 7 個蠟燭圖，可以看出該蠟燭圖的實體部分非常小，矩形被壓縮成近似一條水平線，說明收盤價與開盤價的差別較小。這個蠟燭圖的形狀不像「蠟燭」，反而呈現出「十字形」，這種蠟燭圖也被稱為「十字星」。十字星的上下影線也有一定的要求，一般來說，上下影線的長度相似。\n",
    "\n",
    "十字星的較短實體表明收盤價與開盤價的差別較小，當期交易日開市以後，買方市場和賣方市場試圖均衡力量。儘管價格在一天中上下波動，最終由於買方市場和賣方市場的力量較量，閉市時的收盤價和開盤價很接近。在實際分析時，十字星會有一些變體，但其基本形態不變。\n",
    "\n",
    "__鎚子線__：有些蠟燭圖的上影線或下影線比較短或者不存在，而呈現出一種「鎚子」的形態。觀察圖 28.3 右側第 3 個蠟燭圖，與上影線相比，下影線很短，實體部分也較窄，一般可以把這種蠟燭形態稱為「倒鎚線亅。\n",
    "\n",
    "還有一種「鎚子」形態的蠟燭圖，上影線較短或者不存在，有時把這種形狀的蠟燭圖稱為「吊頂線」。吊頂線一般出現在價格頂部，沒有上影線或者上影線很短，蠟燭實體段，下影線較長（一般為實體的兩倍以上）。觀察圖 28.3，2013 年 4 月 15 日右邊一個蠟燭圖，從蠟燭圖的形態上可以看出其沒有上影線，實體部分也較短，而下影線較長，近似符合吊頂線的要求。此蠟燭圖為綠色實體，說明收盤價高於開盤價，而其上影線不存在，說明最高價和收盤價很接近。我們可以解讀為，開市以後，加權股價指數的價格上下波動，在快閉市巿才達到價格的最高點，則收盤價近似等於最高價。或者加權股價指數在交易期間達到最高點後價格又下跌，而在閉市市，價格又反彈會最高點，最終收盤價近似等於最高價。與十字星一樣，鎚線與吊頂線亦有很多變體，但其基本形態是一致的。\n",
    "\n",
    "Ｋ線圖是技術分析的基石，有經驗的技術分析師可以從Ｋ線形態中抓取出股價運動有用的訊息。本章主要介紹如何用 Python 捕捉常見的Ｋ線形態。\n",
    "\n",
    "28.21 Python 繪製加權股價指數Ｋ線圖\n",
    "\n",
    "Python 的第三方函式庫 matplotlib 中 finance 模組中設有一些繪製Ｋ線圖的關函數，如 candlestick2_ochl()、candlestick2_ohlc()、candlestick_ochl() 以及 candlestick_ohlc() 等函數，candlestick2_ochl() 和 candlestick2_ohlc() 函數用於美國Ｋ線圖，而 candlestick_ochl() 和 candlestick_ohlc() 函數用於繪製蠟燭圖，下面以 candlestick_ohlc() 函數為例，示範加權股價指數 2013 年 4 月份日Ｋ線圖的畫法。candlestick_ochl() 函數用法如下：\n",
    "\n",
    "`matplotlib.finance.candlestick_ohlc(ax, quotes, width=0.2, colorup='k', colordown='r', alpha=1.0)`\n",
    "\n",
    "* ax：表示圖形的 Axes 實例；\n",
    "\n",
    "* quotes：一個 sequence，該 sequence 是由諸多 sequences 組成。\n",
    "  - 內部的 sequences 前 5 筆數據必須代表 time,open,high,low,close 這 5 種類型數據，用於繪製蠟燭圖。\n",
    "  - 時間 time 必須為浮點類型的天數「從0001-01-01 00:00:00 UTC 至今一來的天數加上 1」。\n",
    "\n",
    "* width：設定蠟燭圖矩形的寬度。\n",
    "\n",
    "* colorup：陽線的顏色。\n",
    "\n",
    "* colordown：陰線的顏色。\n",
    "\n",
    "* alpha：蠟燭圖的顏色透明度。\n",
    "\n",
    "下面繪製加權股價指數 2013 年 4 月份日Ｋ線圖。\n",
    "\n",
    "首先，利用 pandas 第三方函式庫中的 read_csv() 函數讀取外部 csv 文件，taiex2013.csv 文件內儲存了加權股價指數 2013 年的日交易數據。"
   ]
  },
  {
   "cell_type": "code",
   "execution_count": 1,
   "metadata": {},
   "outputs": [
    {
     "data": {
      "text/html": [
       "<div>\n",
       "<style scoped>\n",
       "    .dataframe tbody tr th:only-of-type {\n",
       "        vertical-align: middle;\n",
       "    }\n",
       "\n",
       "    .dataframe tbody tr th {\n",
       "        vertical-align: top;\n",
       "    }\n",
       "\n",
       "    .dataframe thead th {\n",
       "        text-align: right;\n",
       "    }\n",
       "</style>\n",
       "<table border=\"1\" class=\"dataframe\">\n",
       "  <thead>\n",
       "    <tr style=\"text-align: right;\">\n",
       "      <th></th>\n",
       "      <th>Date</th>\n",
       "      <th>Open</th>\n",
       "      <th>High</th>\n",
       "      <th>Low</th>\n",
       "      <th>Close</th>\n",
       "      <th>Volume</th>\n",
       "    </tr>\n",
       "  </thead>\n",
       "  <tbody>\n",
       "    <tr>\n",
       "      <th>0</th>\n",
       "      <td>2013-01-02</td>\n",
       "      <td>7738.05</td>\n",
       "      <td>7793.48</td>\n",
       "      <td>7715.26</td>\n",
       "      <td>7779.22</td>\n",
       "      <td>3416421</td>\n",
       "    </tr>\n",
       "    <tr>\n",
       "      <th>1</th>\n",
       "      <td>2013-01-03</td>\n",
       "      <td>7826.34</td>\n",
       "      <td>7855.16</td>\n",
       "      <td>7815.29</td>\n",
       "      <td>7836.84</td>\n",
       "      <td>4480963</td>\n",
       "    </tr>\n",
       "    <tr>\n",
       "      <th>2</th>\n",
       "      <td>2013-01-04</td>\n",
       "      <td>7818.27</td>\n",
       "      <td>7818.27</td>\n",
       "      <td>7773.06</td>\n",
       "      <td>7805.99</td>\n",
       "      <td>4172906</td>\n",
       "    </tr>\n",
       "  </tbody>\n",
       "</table>\n",
       "</div>"
      ],
      "text/plain": [
       "         Date     Open     High      Low    Close   Volume\n",
       "0  2013-01-02  7738.05  7793.48  7715.26  7779.22  3416421\n",
       "1  2013-01-03  7826.34  7855.16  7815.29  7836.84  4480963\n",
       "2  2013-01-04  7818.27  7818.27  7773.06  7805.99  4172906"
      ]
     },
     "execution_count": 1,
     "metadata": {},
     "output_type": "execute_result"
    }
   ],
   "source": [
    "import pandas as pd\n",
    "\n",
    "# 讀取外部 csv 數據\n",
    "taiex2013=pd.read_csv('.\\\\PythonBook_code_data\\\\part5\\\\28\\\\taiex2013.csv',sep='\\t')\n",
    "taiex2013.head(n=3)"
   ]
  },
  {
   "cell_type": "markdown",
   "metadata": {},
   "source": [
    "我們己經獲取加權股價指數 2013 年的日期「Date」、開盤價「Open」、最高價「High」、最低價「Low」、收盤價「Close」和成交量「Volume」的日度數據。然後，選取加權股價指數 2013 年 4 月的日度數據，在選擇數據之前，我們先把 taiex2013 的 index 轉換成 DatetimeIndex 的類型，以便與選擇特定時間段的數據。"
   ]
  },
  {
   "cell_type": "code",
   "execution_count": 2,
   "metadata": {},
   "outputs": [
    {
     "data": {
      "text/plain": [
       "pandas.core.indexes.datetimes.DatetimeIndex"
      ]
     },
     "execution_count": 2,
     "metadata": {},
     "output_type": "execute_result"
    }
   ],
   "source": [
    "taiex2013.index = pd.to_datetime(taiex2013.Date)\n",
    "type(taiex2013.index)"
   ]
  },
  {
   "cell_type": "markdown",
   "metadata": {},
   "source": [
    "然後，加權股價指數選擇 2013 年 4 月份的日度數據。"
   ]
  },
  {
   "cell_type": "code",
   "execution_count": 3,
   "metadata": {},
   "outputs": [
    {
     "data": {
      "text/html": [
       "<div>\n",
       "<style scoped>\n",
       "    .dataframe tbody tr th:only-of-type {\n",
       "        vertical-align: middle;\n",
       "    }\n",
       "\n",
       "    .dataframe tbody tr th {\n",
       "        vertical-align: top;\n",
       "    }\n",
       "\n",
       "    .dataframe thead th {\n",
       "        text-align: right;\n",
       "    }\n",
       "</style>\n",
       "<table border=\"1\" class=\"dataframe\">\n",
       "  <thead>\n",
       "    <tr style=\"text-align: right;\">\n",
       "      <th></th>\n",
       "      <th>Date</th>\n",
       "      <th>Open</th>\n",
       "      <th>High</th>\n",
       "      <th>Low</th>\n",
       "      <th>Close</th>\n",
       "      <th>Volume</th>\n",
       "    </tr>\n",
       "    <tr>\n",
       "      <th>Date</th>\n",
       "      <th></th>\n",
       "      <th></th>\n",
       "      <th></th>\n",
       "      <th></th>\n",
       "      <th></th>\n",
       "      <th></th>\n",
       "    </tr>\n",
       "  </thead>\n",
       "  <tbody>\n",
       "    <tr>\n",
       "      <th>2013-04-01</th>\n",
       "      <td>2013-04-01</td>\n",
       "      <td>7934.25</td>\n",
       "      <td>7937.73</td>\n",
       "      <td>7896.57</td>\n",
       "      <td>7899.24</td>\n",
       "      <td>2691053</td>\n",
       "    </tr>\n",
       "    <tr>\n",
       "      <th>2013-04-02</th>\n",
       "      <td>2013-04-02</td>\n",
       "      <td>7897.16</td>\n",
       "      <td>7924.46</td>\n",
       "      <td>7879.55</td>\n",
       "      <td>7913.18</td>\n",
       "      <td>2836215</td>\n",
       "    </tr>\n",
       "    <tr>\n",
       "      <th>2013-04-03</th>\n",
       "      <td>2013-04-03</td>\n",
       "      <td>7949.12</td>\n",
       "      <td>7954.15</td>\n",
       "      <td>7913.77</td>\n",
       "      <td>7942.35</td>\n",
       "      <td>3097976</td>\n",
       "    </tr>\n",
       "    <tr>\n",
       "      <th>2013-04-08</th>\n",
       "      <td>2013-04-08</td>\n",
       "      <td>7831.22</td>\n",
       "      <td>7843.10</td>\n",
       "      <td>7747.47</td>\n",
       "      <td>7752.79</td>\n",
       "      <td>3929740</td>\n",
       "    </tr>\n",
       "    <tr>\n",
       "      <th>2013-04-09</th>\n",
       "      <td>2013-04-09</td>\n",
       "      <td>7766.62</td>\n",
       "      <td>7781.13</td>\n",
       "      <td>7714.93</td>\n",
       "      <td>7728.54</td>\n",
       "      <td>3170515</td>\n",
       "    </tr>\n",
       "  </tbody>\n",
       "</table>\n",
       "</div>"
      ],
      "text/plain": [
       "                  Date     Open     High      Low    Close   Volume\n",
       "Date                                                               \n",
       "2013-04-01  2013-04-01  7934.25  7937.73  7896.57  7899.24  2691053\n",
       "2013-04-02  2013-04-02  7897.16  7924.46  7879.55  7913.18  2836215\n",
       "2013-04-03  2013-04-03  7949.12  7954.15  7913.77  7942.35  3097976\n",
       "2013-04-08  2013-04-08  7831.22  7843.10  7747.47  7752.79  3929740\n",
       "2013-04-09  2013-04-09  7766.62  7781.13  7714.93  7728.54  3170515"
      ]
     },
     "execution_count": 3,
     "metadata": {},
     "output_type": "execute_result"
    }
   ],
   "source": [
    "taiex201304 = taiex2013['2013-04']\n",
    "taiex201304.head()"
   ]
  },
  {
   "cell_type": "markdown",
   "metadata": {},
   "source": [
    "日期數據 Date 為字元串類型，在繪製蠟燭圖時，candlestick_ohlc() 需要用到的日必須浮點類型，因此，我們需要將時間由字元串格式轉換成浮點格式「天」。日期數據換成浮點型數據透過 date2num() 函數實現，該函數位於 matplotlib 第三方函式庫的 dates 模組內，而 datetime.strptime() 函數將日期字元串年、月、日進行切分。"
   ]
  },
  {
   "cell_type": "code",
   "execution_count": 4,
   "metadata": {},
   "outputs": [
    {
     "name": "stderr",
     "output_type": "stream",
     "text": [
      "D:\\myProgram\\Portable Python 3.6.5 x64 R2\\App\\Python\\lib\\site-packages\\pandas\\core\\generic.py:5208: SettingWithCopyWarning: \n",
      "A value is trying to be set on a copy of a slice from a DataFrame.\n",
      "Try using .loc[row_indexer,col_indexer] = value instead\n",
      "\n",
      "See the caveats in the documentation: http://pandas.pydata.org/pandas-docs/stable/user_guide/indexing.html#returning-a-view-versus-a-copy\n",
      "  self[name] = value\n"
     ]
    },
    {
     "data": {
      "text/html": [
       "<div>\n",
       "<style scoped>\n",
       "    .dataframe tbody tr th:only-of-type {\n",
       "        vertical-align: middle;\n",
       "    }\n",
       "\n",
       "    .dataframe tbody tr th {\n",
       "        vertical-align: top;\n",
       "    }\n",
       "\n",
       "    .dataframe thead th {\n",
       "        text-align: right;\n",
       "    }\n",
       "</style>\n",
       "<table border=\"1\" class=\"dataframe\">\n",
       "  <thead>\n",
       "    <tr style=\"text-align: right;\">\n",
       "      <th></th>\n",
       "      <th>Date</th>\n",
       "      <th>Open</th>\n",
       "      <th>High</th>\n",
       "      <th>Low</th>\n",
       "      <th>Close</th>\n",
       "      <th>Volume</th>\n",
       "    </tr>\n",
       "    <tr>\n",
       "      <th>Date</th>\n",
       "      <th></th>\n",
       "      <th></th>\n",
       "      <th></th>\n",
       "      <th></th>\n",
       "      <th></th>\n",
       "      <th></th>\n",
       "    </tr>\n",
       "  </thead>\n",
       "  <tbody>\n",
       "    <tr>\n",
       "      <th>2013-04-01</th>\n",
       "      <td>734959.0</td>\n",
       "      <td>7934.25</td>\n",
       "      <td>7937.73</td>\n",
       "      <td>7896.57</td>\n",
       "      <td>7899.24</td>\n",
       "      <td>2691053</td>\n",
       "    </tr>\n",
       "    <tr>\n",
       "      <th>2013-04-02</th>\n",
       "      <td>734960.0</td>\n",
       "      <td>7897.16</td>\n",
       "      <td>7924.46</td>\n",
       "      <td>7879.55</td>\n",
       "      <td>7913.18</td>\n",
       "      <td>2836215</td>\n",
       "    </tr>\n",
       "    <tr>\n",
       "      <th>2013-04-03</th>\n",
       "      <td>734961.0</td>\n",
       "      <td>7949.12</td>\n",
       "      <td>7954.15</td>\n",
       "      <td>7913.77</td>\n",
       "      <td>7942.35</td>\n",
       "      <td>3097976</td>\n",
       "    </tr>\n",
       "    <tr>\n",
       "      <th>2013-04-08</th>\n",
       "      <td>734966.0</td>\n",
       "      <td>7831.22</td>\n",
       "      <td>7843.10</td>\n",
       "      <td>7747.47</td>\n",
       "      <td>7752.79</td>\n",
       "      <td>3929740</td>\n",
       "    </tr>\n",
       "    <tr>\n",
       "      <th>2013-04-09</th>\n",
       "      <td>734967.0</td>\n",
       "      <td>7766.62</td>\n",
       "      <td>7781.13</td>\n",
       "      <td>7714.93</td>\n",
       "      <td>7728.54</td>\n",
       "      <td>3170515</td>\n",
       "    </tr>\n",
       "  </tbody>\n",
       "</table>\n",
       "</div>"
      ],
      "text/plain": [
       "                Date     Open     High      Low    Close   Volume\n",
       "Date                                                             \n",
       "2013-04-01  734959.0  7934.25  7937.73  7896.57  7899.24  2691053\n",
       "2013-04-02  734960.0  7897.16  7924.46  7879.55  7913.18  2836215\n",
       "2013-04-03  734961.0  7949.12  7954.15  7913.77  7942.35  3097976\n",
       "2013-04-08  734966.0  7831.22  7843.10  7747.47  7752.79  3929740\n",
       "2013-04-09  734967.0  7766.62  7781.13  7714.93  7728.54  3170515"
      ]
     },
     "execution_count": 4,
     "metadata": {},
     "output_type": "execute_result"
    }
   ],
   "source": [
    "from matplotlib.dates import date2num\n",
    "from datetime import datetime\n",
    "taiex201304.Date=[date2num(datetime.strptime(date,\"%Y-%m-%d\"))\\\n",
    "                for date in taiex201304.Date]\n",
    "taiex201304.head()"
   ]
  },
  {
   "cell_type": "markdown",
   "metadata": {},
   "source": [
    "由於 Python 的第三方函式庫 matplotlib 中 finance 模組中設有一些繪製Ｋ線圖的相關函數，在繪製Ｋ線圖時，需要將數據轉換成 Sequence 類型。我們用 pandas 函式庫中的 read_csv() 函數讀進來的數據儲存為資料框架「DataFrame」形式，即 taiex201304 的數據類型為 DataFrame 形式。"
   ]
  },
  {
   "cell_type": "code",
   "execution_count": 5,
   "metadata": {},
   "outputs": [
    {
     "data": {
      "text/plain": [
       "pandas.core.frame.DataFrame"
      ]
     },
     "execution_count": 5,
     "metadata": {},
     "output_type": "execute_result"
    }
   ],
   "source": [
    "type(taiex201304)"
   ]
  },
  {
   "cell_type": "markdown",
   "metadata": {},
   "source": [
    "此處選擇將 taiex201304 轉換成 list 的形式，list 中的元素為由 Date, Open, High, Low, Close 這 5 種數據組成的 list。"
   ]
  },
  {
   "cell_type": "code",
   "execution_count": 7,
   "metadata": {},
   "outputs": [],
   "source": [
    "taiex201304_listData=[]\n",
    "for i in range(len(taiex201304)):\n",
    "    a=[taiex201304.Date[i],\\\n",
    "    taiex201304.Open[i],taiex201304.High[i],\\\n",
    "    taiex201304.Low[i],taiex201304.Close[i]]\n",
    "    taiex201304_listData.append(a)"
   ]
  },
  {
   "cell_type": "markdown",
   "metadata": {},
   "source": [
    "* 設定圖象參數並繪製蠟燭圖\n",
    "\n",
    "  Python 中的一張 picture 為一個對象，透過對對象的屬性進行賦值來設定圖象的各種特徵，最終繪製成精美的圖形。在繪製Ｋ線圖時、也需要對時間格式、座標軸、標題等參數進行設定。"
   ]
  },
  {
   "cell_type": "code",
   "execution_count": 9,
   "metadata": {},
   "outputs": [
    {
     "ename": "ModuleNotFoundError",
     "evalue": "No module named 'matplotlib.finance'",
     "output_type": "error",
     "traceback": [
      "\u001b[1;31m-------------------------\u001b[0m",
      "\u001b[1;31mModuleNotFoundError\u001b[0mTraceback (most recent call last)",
      "\u001b[1;32m<ipython-input-9-e8cb1cc50ea4>\u001b[0m in \u001b[0;36m<module>\u001b[1;34m\u001b[0m\n\u001b[0;32m      3\u001b[0m \u001b[1;32mfrom\u001b[0m \u001b[0mmatplotlib\u001b[0m\u001b[1;33m.\u001b[0m\u001b[0mdates\u001b[0m \u001b[1;32mimport\u001b[0m \u001b[0mDateFormatter\u001b[0m\u001b[1;33m,\u001b[0m \u001b[0mWeekdayLocator\u001b[0m\u001b[1;33m,\u001b[0m\u001b[0;31m\\\u001b[0m\u001b[1;33m\u001b[0m\u001b[0m\n\u001b[0;32m      4\u001b[0m     \u001b[0mDayLocator\u001b[0m\u001b[1;33m,\u001b[0m \u001b[0mMONDAY\u001b[0m\u001b[1;33m\u001b[0m\u001b[0m\n\u001b[1;32m----> 5\u001b[1;33m \u001b[1;32mfrom\u001b[0m \u001b[0mmatplotlib\u001b[0m\u001b[1;33m.\u001b[0m\u001b[0mfinance\u001b[0m \u001b[1;32mimport\u001b[0m \u001b[0mcandlestick_ohlc\u001b[0m\u001b[1;33m\u001b[0m\u001b[0m\n\u001b[0m\u001b[0;32m      6\u001b[0m \u001b[0max\u001b[0m\u001b[1;33m=\u001b[0m\u001b[0mplt\u001b[0m\u001b[1;33m.\u001b[0m\u001b[0msubplot\u001b[0m\u001b[1;33m(\u001b[0m\u001b[1;33m)\u001b[0m\u001b[1;33m\u001b[0m\u001b[0m\n\u001b[0;32m      7\u001b[0m \u001b[1;31m# 設定日期顯示的位置\u001b[0m\u001b[1;33m\u001b[0m\u001b[1;33m\u001b[0m\u001b[0m\n",
      "\u001b[1;31mModuleNotFoundError\u001b[0m: No module named 'matplotlib.finance'"
     ]
    }
   ],
   "source": [
    "import numpy as np\n",
    "import matplotlib.pyplot as plt\n",
    "from matplotlib.dates import DateFormatter, WeekdayLocator,\\\n",
    "    DayLocator, MONDAY\n",
    "from matplotlib.finance import candlestick_ohlc\n",
    "ax=plt.subplot()\n",
    "# 設定日期顯示的位置\n",
    "mondays = WeekdayLocator(MONDAY)\n",
    "ax.xaxis.set_major_locator(mondays)\n",
    "ax.xaxis.set_minor_locator(DayLocator() )\n",
    "# 設定日期顯示的格式\n",
    "weekFormatter = DateFormatter('%y %b %d')\n",
    "ax.xaxis.set_major_formatter(weekFormatter)\n",
    "# 設定中文字體為 SimHei\n",
    "plt.rcParams['font.sans-serif'] = ['SimHei']\n",
    "plt.rcParams['axes.unicode_minus'] = False # 顯示負號\n",
    "# 設定圖像的 title\n",
    "ax.set_title('加權股價指數 2013 年 4 月份Ｋ線圖')\n",
    "# 用 candlestick_ohlc() 繪製蠟燭圖\n",
    "candlestick_ohlc(ax, np.array(taiex201304),width=0.7,colorup='r', colordown='g');\n",
    "# 設定 x 座標軸的日期顯示角度\n",
    "plt.setp(plt.gca().get_xticklabels(),rotation=50,horizontalalignment='center')\n",
    "plt.show() # 顯示圖形，此處繪製的圖形則是圖 28.1 加權股價指數 2013 年 4 月份的日Ｋ線圖中的圖形"
   ]
  },
  {
   "cell_type": "markdown",
   "metadata": {},
   "source": [
    "在讀入股票交易數據時，一般儲存成 DataFrame 類型而不是 Sequence 類型。爲了更方便對 DataFrame 類型的數據繪製Ｋ線圖，我們將上述程式碼整合到一個函數中，構造 candlePlot() 函數，並儲存在 candle.py 文件中，下次繪製Ｋ線圖時，透過滙入 candle 模組、呼叫 candlePlot 函數來進行繪製。candlePlot() 函數定義如下："
   ]
  },
  {
   "cell_type": "code",
   "execution_count": 10,
   "metadata": {},
   "outputs": [
    {
     "ename": "ModuleNotFoundError",
     "evalue": "No module named 'matplotlib.finance'",
     "output_type": "error",
     "traceback": [
      "\u001b[1;31m-------------------------\u001b[0m",
      "\u001b[1;31mModuleNotFoundError\u001b[0mTraceback (most recent call last)",
      "\u001b[1;32m<ipython-input-10-e1df56eff5c5>\u001b[0m in \u001b[0;36m<module>\u001b[1;34m\u001b[0m\n\u001b[0;32m      3\u001b[0m \u001b[1;32mfrom\u001b[0m \u001b[0mmatplotlib\u001b[0m\u001b[1;33m.\u001b[0m\u001b[0mdates\u001b[0m \u001b[1;32mimport\u001b[0m \u001b[0mDateFormatter\u001b[0m\u001b[1;33m,\u001b[0m \u001b[0mWeekdayLocator\u001b[0m\u001b[1;33m,\u001b[0m\u001b[0;31m\\\u001b[0m\u001b[1;33m\u001b[0m\u001b[0m\n\u001b[0;32m      4\u001b[0m \u001b[0mDayLocator\u001b[0m\u001b[1;33m,\u001b[0m \u001b[0mMONDAY\u001b[0m\u001b[1;33m,\u001b[0m\u001b[0mdate2num\u001b[0m\u001b[1;33m\u001b[0m\u001b[0m\n\u001b[1;32m----> 5\u001b[1;33m \u001b[1;32mfrom\u001b[0m \u001b[0mmatplotlib\u001b[0m\u001b[1;33m.\u001b[0m\u001b[0mfinance\u001b[0m \u001b[1;32mimport\u001b[0m \u001b[0mcandlestick_ohlc\u001b[0m\u001b[1;33m\u001b[0m\u001b[0m\n\u001b[0m\u001b[0;32m      6\u001b[0m \u001b[1;33m\u001b[0m\u001b[0m\n\u001b[0;32m      7\u001b[0m \u001b[1;31m# 設定字體類型，用於正確顯示中文\u001b[0m\u001b[1;33m\u001b[0m\u001b[1;33m\u001b[0m\u001b[0m\n",
      "\u001b[1;31mModuleNotFoundError\u001b[0m: No module named 'matplotlib.finance'"
     ]
    }
   ],
   "source": [
    "# 滙入相關模組\n",
    "import matplotlib.pyplot as plt\n",
    "from matplotlib.dates import DateFormatter, WeekdayLocator,\\\n",
    "DayLocator, MONDAY,date2num\n",
    "from matplotlib.finance import candlestick_ohlc\n",
    "\n",
    "# 設定字體類型，用於正確顯示中文\n",
    "plt.rcParams['font.sans-serif'] = ['SimHei']\n",
    "plt.rcParams['axes.unicode_minus'] = False\n",
    "\n",
    "def candlePlot(seriesData,tit1e='a'):\n",
    "    # 設定日期格式\n",
    "    Date=[date2num(date) for date in seriesData.index]\n",
    "    seriesData.loc[:,'Date']=Date\n",
    "\n",
    "    # 將 DataFrame 數據轉換成 List 類型\n",
    "    listData=[]\n",
    "    for i in range(len(seriesData)):\n",
    "        a=[seriesData.Date[i],\\\n",
    "        seriesData.Open[i],seriesData.High[i],\\\n",
    "        seriesData.Low[i],seriesData.Close[i]]\n",
    "        listData.append(a)\n",
    "\n",
    "    # 設定繪圖相關參數\n",
    "    ax = plt.subplot()\n",
    "    mondays = WeekdayLocator(MONDAY)\n",
    "    # 日期格式為'15-Mar-B9'形式\n",
    "    weekFormatter = DateFormatter('%y %b %d')\n",
    "    ax.xaxis.set_major_locator(mondays)\n",
    "    ax.xaxis.set_minor_locator(DayLocator())\n",
    "    ax.xaxis.set_major_formatter(weekFormatter)\n",
    "\n",
    "    # 呼叫 candlestick_ohlc 函數\n",
    "    candlestick_ohlc(ax,listData, width=0.7,\\\n",
    "                     colorup='r',colordown='g')\n",
    "    ax.set_title(title) # 設定標題\n",
    "    # 設定 x 軸日期顯示角度\n",
    "    plt.setp(plt.gca().get_xticklabels(), \\\n",
    "    rotation=50,horizontalalignment='center')\n",
    "    return(plt.show())"
   ]
  },
  {
   "cell_type": "markdown",
   "metadata": {},
   "source": [
    "透過匯入 candle 模組、呼叫 candlePlot 函數來重新繪製上述Ｋ線圖。"
   ]
  },
  {
   "cell_type": "code",
   "execution_count": null,
   "metadata": {},
   "outputs": [],
   "source": [
    "from candle import candlePlot\n",
    "candlePlot(taiex201304,title='加權股價指數 2013 年 4 月份Ｋ線圖')"
   ]
  },
  {
   "cell_type": "markdown",
   "metadata": {},
   "source": [
    "### 28.3 Python 捕捉Ｋ線圖的形態\n",
    "\n",
    "觀察股票的歷史價格數據，從這些歷史價格中尋找規律，進而預測股票未來價格。股票未來價格可能會有兩種情況：第一種是繼續保持原來上漲或者下跌的趨勢，即單邊持續狀態；第二種是雙邊整理狀態，股票的價格走向在未來可能會出現走向的反轉，由下跌的趨勢經過一些整盤調整逐漸轉向上漲的趨勢或者由上漲的趨勢透過調整轉成下跌的趨勢。\n",
    "\n",
    "將 1 個到 5 個以下的單個蠟燭圖排列組合在一起，往往可以形成各式不等的特殊「形態」。一般而言，Ｋ線形態（Candlestick Pattern）可分為「持續形態（Continuation Patterns）」和「反形態（Reversal Pattern）」。Ｋ線圖充分代表了股票旳價格數據，分析Ｋ線圖的形態有助於我們推測未來股價是繼續保持原有的趨勢還是可能會出現反轉狀態。接下來，介紹幾種常見的Ｋ線圖反轉形態，以便讀者初步暸解Ｋ線形態。\n",
    "\n",
    "#### 28.3.1 Python 捕捉「早晨之星」\n",
    "\n",
    "「早晨之星」與「黃昏之星」\n",
    "\n",
    "「早晨之星」和「黃昏之星」是反轉形態分析中較為常用的形態，它們分別釋放出下跌趨勢的反轉信號與上漲趨勢的反轉信號。「早晨之星」又稱「黎明之星」、「希望之星」，它一般會釋放出下跌行情趨勢反轉的信號。\n",
    "\n",
    "圖 28.5：早晨之星與黃昏之星的形態\n",
    "\n",
    "「早晨之星」一般由連續 3 根蠟燭圖組成。第 1 個蠟燭圖具有較長的綠色實體（陰線）；緊接著第 2 個蠟燭圖是十字星線；第 3 個蠟燭圖有紅色實體（陽線），且第 3 個蠟燭圖的實體長度一般要求大於等於第 1 個蠟燭圖的實體長度的一半。此外，第 2 個蠟燭圖的實體部分一般落在第 1 個和第 3 個蠟燭圖實體的下方，即十字星的實體部分要低於前一期的收盤價和其後一期的開盤價。\n",
    "\n",
    "在下跌行情中，出現「早晨之星」形態，一般可以將其解釋為股票的買方市場的力逐漸增大，股價可能有利好的趨勢，股市可能由原來的下跌行情慢慢轉變成上漲行情。\n",
    "\n",
    "「黃昏之星」的形態與「早晨之星」形態相反，「黃昏之星」一般出現在上漲行情。該形態 3 個蠟燭圖組成。第 1 個蠟燭圖具有較長的紅色實體，第 2 個蠟燭圖為十字星線，第 3 個蠟燭圖是陰線，且第 3 個蠟燭圖的實體長度一般要大於等於第 1 個蠟燭圖的紅色實體長度的一半。同時，第 2 個蠟燭圖的實體部分一般落在第 1 個和第 3 個蠟燭圖實體的上方，即十字星的實體部分一般要高於前一期的收盤價和其後一期的開盤價。黃昏之星的出現預示著股票市場由買方市場逐漸轉變成賣方市場，股票未來可能有下跌的趨勢，說明股票的上漲行情有可能處於「黃昏階段」。此處請注意，「早晨之星」和「黃昏之星」只是反轉形態的一個信號，並不能作為反轉形態的唯一依據。\n",
    "\n",
    "###### Python 捕捉加權股價指數 2011 年的「早晨之星」形態\n",
    "\n",
    "投資者觀察分析Ｋ線圖，尋找Ｋ線圖中「早晨之星」或「黃昏之星」形態，並參考這些形態來預測股票未來的走勢情況。這種分析方法有一定程度的個人主觀性，不同的人在Ｋ線圖中尋找出的「早晨之星」或「黃昏之星」形態的日期可能會不同。\n",
    "\n",
    "若事先定義好形態的特徵，並嘗試撰寫程式碼讓程式自動捕捉此形態，此種做法則減少一些主觀因素。以「早晨之星」為例，先規定和量化「早晨之星」形態的要求，並嘗試用 Python 來捕捉「早晨之星」。以加權股價指數 2011 年日Ｋ線圖為分析依據，用 Python 捕捉加權股價指數Ｋ線圖中出現的「早晨之星」形態。\n",
    "\n",
    "1. 確定「早晨之星」的形態\n",
    "   \n",
    "   對於連續3天的日度數據進行分析：\n",
    "   \n",
    "   1. __刻畫蠟燭實體__：第 1 天（前兩期）的收盤價低於開盤價，即描述蠟燭綠色實體；第 2 天（前一期）的收盤價和開盤價大致相等，兩者差別控制在一個範圍內；第 3 天（當期）蠟燭紅色實體用收盤價高於開盤價來定義，兩者的差值要大於等於第 1 天（前兩期）開盤價與收盤價差值的一半。\n",
    "   \n",
    "   2. __定義十字星實體位__：第 2 天（前一期）的收盤價和開盤價均需小於第 1 天（前兩期）的收盤價和第 3 天（當期）的開盤價。\n",
    "   \n",
    "   3. __定義下跌趨勢__：用收盤價來計算股票的收益率，收益率為負表示下跌。\n",
    "\n",
    "2. Python 捕捉「早晨之星」的形態\n",
    "   首先，獲取加權股價指數 2011 年的日度交易數據。"
   ]
  },
  {
   "cell_type": "code",
   "execution_count": 12,
   "metadata": {},
   "outputs": [
    {
     "data": {
      "text/html": [
       "<div>\n",
       "<style scoped>\n",
       "    .dataframe tbody tr th:only-of-type {\n",
       "        vertical-align: middle;\n",
       "    }\n",
       "\n",
       "    .dataframe tbody tr th {\n",
       "        vertical-align: top;\n",
       "    }\n",
       "\n",
       "    .dataframe thead th {\n",
       "        text-align: right;\n",
       "    }\n",
       "</style>\n",
       "<table border=\"1\" class=\"dataframe\">\n",
       "  <thead>\n",
       "    <tr style=\"text-align: right;\">\n",
       "      <th></th>\n",
       "      <th>Date</th>\n",
       "      <th>Open</th>\n",
       "      <th>High</th>\n",
       "      <th>Low</th>\n",
       "      <th>Close</th>\n",
       "      <th>Volume</th>\n",
       "    </tr>\n",
       "    <tr>\n",
       "      <th>Date</th>\n",
       "      <th></th>\n",
       "      <th></th>\n",
       "      <th></th>\n",
       "      <th></th>\n",
       "      <th></th>\n",
       "      <th></th>\n",
       "    </tr>\n",
       "  </thead>\n",
       "  <tbody>\n",
       "    <tr>\n",
       "      <th>2011-01-03</th>\n",
       "      <td>2011-01-03</td>\n",
       "      <td>9039.63</td>\n",
       "      <td>9041.32</td>\n",
       "      <td>8994.50</td>\n",
       "      <td>9025.30</td>\n",
       "      <td>6668624</td>\n",
       "    </tr>\n",
       "    <tr>\n",
       "      <th>2011-01-04</th>\n",
       "      <td>2011-01-04</td>\n",
       "      <td>9045.11</td>\n",
       "      <td>9046.18</td>\n",
       "      <td>8988.58</td>\n",
       "      <td>8997.19</td>\n",
       "      <td>7000414</td>\n",
       "    </tr>\n",
       "  </tbody>\n",
       "</table>\n",
       "</div>"
      ],
      "text/plain": [
       "                  Date     Open     High      Low    Close   Volume\n",
       "Date                                                               \n",
       "2011-01-03  2011-01-03  9039.63  9041.32  8994.50  9025.30  6668624\n",
       "2011-01-04  2011-01-04  9045.11  9046.18  8988.58  8997.19  7000414"
      ]
     },
     "execution_count": 12,
     "metadata": {},
     "output_type": "execute_result"
    }
   ],
   "source": [
    "# 獲取加權股價指數 2011 年日度交易數據\n",
    "taiex2011=pd.read_csv('.\\\\PythonBook_code_data\\\\part5\\\\28\\\\taiex2011.csv',sep='\\t')\n",
    "taiex2011.index=pd.to_datetime(taiex2011.Date,format='%Y-%m-%d')\n",
    "taiex2011.head(2)"
   ]
  },
  {
   "cell_type": "code",
   "execution_count": 13,
   "metadata": {},
   "outputs": [
    {
     "data": {
      "text/html": [
       "<div>\n",
       "<style scoped>\n",
       "    .dataframe tbody tr th:only-of-type {\n",
       "        vertical-align: middle;\n",
       "    }\n",
       "\n",
       "    .dataframe tbody tr th {\n",
       "        vertical-align: top;\n",
       "    }\n",
       "\n",
       "    .dataframe thead th {\n",
       "        text-align: right;\n",
       "    }\n",
       "</style>\n",
       "<table border=\"1\" class=\"dataframe\">\n",
       "  <thead>\n",
       "    <tr style=\"text-align: right;\">\n",
       "      <th></th>\n",
       "      <th>Date</th>\n",
       "      <th>Open</th>\n",
       "      <th>High</th>\n",
       "      <th>Low</th>\n",
       "      <th>Close</th>\n",
       "      <th>Volume</th>\n",
       "    </tr>\n",
       "    <tr>\n",
       "      <th>Date</th>\n",
       "      <th></th>\n",
       "      <th></th>\n",
       "      <th></th>\n",
       "      <th></th>\n",
       "      <th></th>\n",
       "      <th></th>\n",
       "    </tr>\n",
       "  </thead>\n",
       "  <tbody>\n",
       "    <tr>\n",
       "      <th>2011-12-29</th>\n",
       "      <td>2011-12-29</td>\n",
       "      <td>7026.86</td>\n",
       "      <td>7074.82</td>\n",
       "      <td>6998.97</td>\n",
       "      <td>7074.82</td>\n",
       "      <td>2222251</td>\n",
       "    </tr>\n",
       "    <tr>\n",
       "      <th>2011-12-30</th>\n",
       "      <td>2011-12-30</td>\n",
       "      <td>7109.85</td>\n",
       "      <td>7139.03</td>\n",
       "      <td>7054.79</td>\n",
       "      <td>7072.08</td>\n",
       "      <td>2529183</td>\n",
       "    </tr>\n",
       "  </tbody>\n",
       "</table>\n",
       "</div>"
      ],
      "text/plain": [
       "                  Date     Open     High      Low    Close   Volume\n",
       "Date                                                               \n",
       "2011-12-29  2011-12-29  7026.86  7074.82  6998.97  7074.82  2222251\n",
       "2011-12-30  2011-12-30  7109.85  7139.03  7054.79  7072.08  2529183"
      ]
     },
     "execution_count": 13,
     "metadata": {},
     "output_type": "execute_result"
    }
   ],
   "source": [
    "taiex2011.iloc[-2:,:]"
   ]
  },
  {
   "cell_type": "code",
   "execution_count": 14,
   "metadata": {},
   "outputs": [],
   "source": [
    "#提取收盤價數據\n",
    "Close=taiex2011.Close\n",
    "#提取開盤價數據\n",
    "Open=taiex2011.Open"
   ]
  },
  {
   "cell_type": "markdown",
   "metadata": {},
   "source": [
    "接著，用 python 捕捉蠟燭綠色實體、紅色實體和十字星的實體部分，為此需要計算每一個交易日期的收盤價與開盤價的差值 ClOp。"
   ]
  },
  {
   "cell_type": "code",
   "execution_count": 15,
   "metadata": {},
   "outputs": [
    {
     "data": {
      "text/plain": [
       "Date\n",
       "2011-01-03    -14.33\n",
       "2011-01-04    -47.92\n",
       "2011-01-05   -168.01\n",
       "2011-01-06     16.98\n",
       "2011-01-07   -122.53\n",
       "dtype: float64"
      ]
     },
     "execution_count": 15,
     "metadata": {},
     "output_type": "execute_result"
    }
   ],
   "source": [
    "# 計算每一個交易日期的收盤價與開盤價的差值CL_OP\n",
    "ClOp=Close-Open\n",
    "ClOp.head()"
   ]
  },
  {
   "cell_type": "code",
   "execution_count": 16,
   "metadata": {},
   "outputs": [
    {
     "data": {
      "text/plain": [
       "count    247.000000\n",
       "mean     -15.701093\n",
       "std       76.099084\n",
       "min     -259.050000\n",
       "25%      -59.850000\n",
       "50%      -10.350000\n",
       "75%       35.325000\n",
       "max      231.580000\n",
       "dtype: float64"
      ]
     },
     "execution_count": 16,
     "metadata": {},
     "output_type": "execute_result"
    }
   ],
   "source": [
    "# 簡要總結收盤價與開盤價差值的分佈情況\n",
    "ClOp.describe()"
   ]
  },
  {
   "cell_type": "code",
   "execution_count": 17,
   "metadata": {},
   "outputs": [
    {
     "data": {
      "text/plain": [
       "6"
      ]
     },
     "execution_count": 17,
     "metadata": {},
     "output_type": "execute_result"
    }
   ],
   "source": [
    "# 捕捉綠色實體丶十字星和紅色實體\n",
    "Shape = [0,0,0]\n",
    "for i in range(3,len(ClOp)):\n",
    "    if all([ClOp[i-2]<-20,abs(ClOp[i-1])< 20,\\\n",
    "    ClOp[i]>5,abs(ClOp[i])>abs(ClOp[i-2]*0.5)]):\n",
    "        Shape.append(1)\n",
    "    else:\n",
    "        Shape.append(0)\n",
    "\n",
    "# 查詢 Shape 中元素第一次取值為 1 所在的 index\n",
    "Shape.index(1)"
   ]
  },
  {
   "cell_type": "markdown",
   "metadata": {},
   "source": [
    "然後，定義十字星實體的位置，十字星實體需要在其前後綠色實體和紅色實體的下方。"
   ]
  },
  {
   "cell_type": "code",
   "execution_count": 18,
   "metadata": {},
   "outputs": [
    {
     "data": {
      "text/plain": [
       "22"
      ]
     },
     "execution_count": 18,
     "metadata": {},
     "output_type": "execute_result"
    }
   ],
   "source": [
    "# 捕捉符合十字星位置的蠟燭圖\n",
    "Doji=[0,0,0]\n",
    "for i in range(3,len(Open)):\n",
    "    if all([Open[i-1]<Open[i],Open[i-1]<Close[i-2],\\\n",
    "    Close[i-1]<Open[i],(Close[i-1]<Close[i-2])]):\n",
    "        Doji.append(1)\n",
    "    else:\n",
    "        Doji.append(0)\n",
    "\n",
    "Doji.count(1)"
   ]
  },
  {
   "cell_type": "markdown",
   "metadata": {},
   "source": [
    "接下來，我們嘗試刻畫下跌趨勢。"
   ]
  },
  {
   "cell_type": "code",
   "execution_count": 20,
   "metadata": {},
   "outputs": [],
   "source": [
    "#尋找向下趨勢\n",
    "Trend=[0,0,0]\n",
    "for i in range(3,len(Close)):\n",
    "    if Close[i-2]< Close[i-3]:\n",
    "        Trend.append(1)\n",
    "    else:\n",
    "        Trend.append(0)"
   ]
  },
  {
   "cell_type": "markdown",
   "metadata": {},
   "source": [
    "上述 3 個條件刻畫完以後，我們用 python 自動尋找「早晨之星」形態。"
   ]
  },
  {
   "cell_type": "code",
   "execution_count": 22,
   "metadata": {},
   "outputs": [
    {
     "name": "stdout",
     "output_type": "stream",
     "text": [
      "2011-04-20 00:00:00\n"
     ]
    }
   ],
   "source": [
    "StarSig=[]\n",
    "for i in range(len(Trend)):\n",
    "    if all([Shape[i]==1,Doji[i]==1,Trend[i]==1]):\n",
    "        StarSig.append(1)\n",
    "    else:\n",
    "        StarSig.append(0)\n",
    "\n",
    "# 捕捉加權股價指數 2012 年出現「早晨之星」形態的日期\n",
    "for i in range(len(StarSig)):\n",
    "    if StarSig[i]==1:\n",
    "        print(taiex2011.index[i])"
   ]
  },
  {
   "cell_type": "markdown",
   "metadata": {},
   "source": [
    "對加權股價指數 2011 年的交易訊息的「早晨之星」形態進行捕捉，從程式碼結果中，可以看出 2011 年加權股價指數的Ｋ線圖上只出現了 1 次「早晨之星」形態，日期為 2011 年 4 月 20 日，繪製 2011 年 4 月 20 日附近的Ｋ線圖。"
   ]
  },
  {
   "cell_type": "code",
   "execution_count": 24,
   "metadata": {},
   "outputs": [
    {
     "ename": "ModuleNotFoundError",
     "evalue": "No module named 'candle'",
     "output_type": "error",
     "traceback": [
      "\u001b[1;31m-------------------------\u001b[0m",
      "\u001b[1;31mModuleNotFoundError\u001b[0mTraceback (most recent call last)",
      "\u001b[1;32m<ipython-input-24-0935ab8fb61a>\u001b[0m in \u001b[0;36m<module>\u001b[1;34m\u001b[0m\n\u001b[0;32m      3\u001b[0m \u001b[1;33m\u001b[0m\u001b[0m\n\u001b[0;32m      4\u001b[0m \u001b[1;31m# 繪製Ｋ線圖\u001b[0m\u001b[1;33m\u001b[0m\u001b[1;33m\u001b[0m\u001b[0m\n\u001b[1;32m----> 5\u001b[1;33m \u001b[1;32mimport\u001b[0m \u001b[0mcandle\u001b[0m\u001b[1;33m\u001b[0m\u001b[0m\n\u001b[0m\u001b[0;32m      6\u001b[0m \u001b[0mcandle\u001b[0m\u001b[1;33m.\u001b[0m\u001b[0mcandlePlot\u001b[0m\u001b[1;33m(\u001b[0m\u001b[0mtaiex201211\u001b[0m\u001b[1;33m,\u001b[0m\u001b[0mtitle\u001b[0m\u001b[1;33m=\u001b[0m\u001b[1;34m'加權股價指數2912年11月份的日Ｋ線圖'\u001b[0m\u001b[1;33m)\u001b[0m\u001b[1;33m\u001b[0m\u001b[0m\n",
      "\u001b[1;31mModuleNotFoundError\u001b[0m: No module named 'candle'"
     ]
    }
   ],
   "source": [
    "# 提取交易數據\n",
    "taiex2011=taiex2011['2011-04']\n",
    "\n",
    "# 繪製Ｋ線圖\n",
    "import candle\n",
    "candle.candlePlot(taiex201211,title='加權股價指數2912年11月份的日Ｋ線圖')"
   ]
  },
  {
   "cell_type": "markdown",
   "metadata": {},
   "source": [
    "圖 28.6：加權股價指數2011年4月份的日Ｋ線圖\n",
    "\n",
    "觀察圖 28.6，從 4 月 10 號左右，股價先處於短期下跌趨勢，又經過了短期的盤整，接著在 4 月 20 號附近出現了「早晨之星」形態，該形態釋放出市場反轉的信號。然後我們可以看出，4 月 20 號以後的幾個交易日，股價處於上漲趨勢。\n",
    "\n",
    "#### 28.3.2 Python 語言捕捉「烏雲蓋頂」形態\n",
    "\n",
    "「烏雲蓋頂」與「抱線」\n",
    "\n",
    "圖 28.7：烏雲蓋頂與抱線\n",
    "\n",
    "「烏雲蓋頂」形態一般由 2 個不同矩形實體的蠟燭圖組成。第 1 個蠟燭圖屬於上升趨勢的陽線，當日收盤時的價格比開盤時的價格大。紅色蠟燭實體較長表明收盤價比開盤價高佷多；第 2 個蠟燭圖也有個較長的實體，且實體上端（開盤價）一般要高於前一個蠟燭圖的實體上端（收盤價）。第二天開市時價格較高，說明多頭巿場可能依舊強勢，如果開盤價比前一天的最高價還高，說明開巿時多頭力量更大，而閉市時，價格卻大幅下跌，收盤價低於開盤價。價格下跌的一個情景可能是市場上出現了不利消息，股價受到不利影響。多頭力量削弱，空頭力量強勢起來。一般來說，第二天的收盤價要深入到第一天蠟燭圖紅色實體的內部，第二天的收盤價向下穿入第一個紅色實體的內部越低，市場下跌趨勢的信號越明顯。\n",
    "\n",
    "「抱線」有很多種形態，圖 28.7 所示的抱線僅是抱線眾多形態的一種，是「陰抱陽」形態。這種形態的抱線也常被叫做「看跌吞沒」形態。「看跌吞沒」形態一般要求第二個綠色蠟燭實體包絡著第一個紅色蠟燭實體。從價格角度來看，第二天的收盤價要低於前一天的開盤價，第二天的開盤價高於前一天的收盤價。\n",
    "\n",
    "###### Python 捕捉加權股價指數「烏雲蓋頂」形態\n",
    "\n",
    "以「烏雲蓋頂」形態為例，我們嘗試運用 Python 捕捉加權股價指數 2013 年的Ｋ線圖中的「烏雲蓋頂」形態。\n",
    "\n",
    "1. 定義「烏雲蓋頂」形態\n",
    "   1. 第 1 個（前一期）紅色蠟燭實體：收盤價高於開盤價；第2個（當期）綠色蠟燭實體：收盤價低於開盤價。\n",
    "   2. 第 2 天（當期）的開盤價高於第 1 天（前一期）的收盤價；第 2 天（當期）收盤價位於第 1 天（前一期）實體的下半部分範圍內，即第 2 天（當期）收盤價低於第 1 天（前一期）收盤價與開盤價之和的一半，且大於第 1 天（前一期）的開盤價。\n",
    "   3. 定義前期上升趨勢：連續兩期的收益率為正。\n",
    "\n",
    "2. Python 捕捉「烏雲蓋頂」形態\n",
    "   使用加權股價指數 2013 年的日交易數據，撰寫 Python 程式碼捕捉「烏雲蓋頂」形態。"
   ]
  },
  {
   "cell_type": "code",
   "execution_count": 26,
   "metadata": {},
   "outputs": [
    {
     "data": {
      "text/plain": [
       "Date\n",
       "2013-04-12    2\n",
       "2013-10-21    2\n",
       "dtype: int64"
      ]
     },
     "execution_count": 26,
     "metadata": {},
     "output_type": "execute_result"
    }
   ],
   "source": [
    "# 提取入加權股價指數年的日交易數據\n",
    "import pandas as pd\n",
    "taiex2013=pd.read_csv('.\\\\PythonBook_code_data\\\\part5\\\\28\\\\taiex2013.csv',sep='\\t')\n",
    "taiex2013.index=pd.to_datetime(taiex2013.Date,format='%Y-%m-%d')\n",
    "# 提取價格數據\n",
    "Close13=taiex2013.Close\n",
    "Open13=taiex2013.Open\n",
    "# 刻畫捕捉符合「烏雲蓋頂」形態的連續兩個燭實體\n",
    "Cloud=pd.Series(0,index=Close13.index)\n",
    "for i in range(1,len(Close13)):\n",
    "    if all([Close13[i]<Open13[i],\\\n",
    "            Close13[i-1]>Open13[i-1],\\\n",
    "            Open13[i]>Close13[i-1],\\\n",
    "            Close13[i]<0.5*(Close13[i-1]+Open13[i-1]),\\\n",
    "            Close13[i]>Open13[i-1]]):\n",
    "        Cloud[i]=1\n",
    "\n",
    "# 定義前期上升趨勢\n",
    "Trend=pd.Series(0,index=Close13.index)\n",
    "for i in range(2,len(Close13)):\n",
    "    if Close13[i-1]>Close13[i-2]>Close13[i-3]:\n",
    "        Trend[i]=1\n",
    "\n",
    "# 尋找「烏雲蓋頂」形態\n",
    "darkCloud=Cloud+Trend\n",
    "darkCloud[darkCloud==2]"
   ]
  },
  {
   "cell_type": "markdown",
   "metadata": {},
   "source": [
    "程式碼結果顯示，2013 年加權股價指數日Ｋ線圖中，「烏雲蓋頂」形態出現 2 次，交易日分別為 2013 年 4 月 12 日和 10 月 21 日。然後，分別繪製這兩個交易Ｋ線圖併進行分析。"
   ]
  },
  {
   "cell_type": "code",
   "execution_count": 28,
   "metadata": {},
   "outputs": [
    {
     "ename": "NameError",
     "evalue": "name 'candle' is not defined",
     "output_type": "error",
     "traceback": [
      "\u001b[1;31m-------------------------\u001b[0m",
      "\u001b[1;31mNameError\u001b[0mTraceback (most recent call last)",
      "\u001b[1;32m<ipython-input-28-bbe6f82d9db9>\u001b[0m in \u001b[0;36m<module>\u001b[1;34m\u001b[0m\n\u001b[0;32m      1\u001b[0m \u001b[1;31m# 繪製加股價指數 2013 年 4 月 12 日附近的Ｋ線圖\u001b[0m\u001b[1;33m\u001b[0m\u001b[1;33m\u001b[0m\u001b[0m\n\u001b[1;32m----> 2\u001b[1;33m \u001b[0mcandle\u001b[0m\u001b[1;33m.\u001b[0m\u001b[0mcandlePlot\u001b[0m\u001b[1;33m(\u001b[0m\u001b[0mtaiex2013\u001b[0m\u001b[1;33m[\u001b[0m\u001b[1;34m'2013-04'\u001b[0m\u001b[1;33m]\u001b[0m\u001b[1;33m,\u001b[0m\u001b[0mtitle\u001b[0m\u001b[1;33m=\u001b[0m\u001b[1;34m'加權股指數 2013 年 4 月份的日Ｋ線圖'\u001b[0m\u001b[1;33m)\u001b[0m\u001b[1;33m\u001b[0m\u001b[0m\n\u001b[0m",
      "\u001b[1;31mNameError\u001b[0m: name 'candle' is not defined"
     ]
    }
   ],
   "source": [
    "# 繪製加股價指數 2013 年 4 月 12 日附近的Ｋ線圖\n",
    "candle.candlePlot(taiex2013['2013-04'],title='加權股指數 2013 年 4 月份的日Ｋ線圖')"
   ]
  },
  {
   "cell_type": "markdown",
   "metadata": {},
   "source": [
    "圖 28.8：加權股價指數2013年4月12日附近的Ｋ線圖\n",
    "\n",
    "從圖 28.8 來看，4 月 9 日開始，雖然是陰線，但是整體價格處於上升階段，4 月 12 日出現了「烏雲蓋頂」形態。「烏雲蓋頂」形態預示著市場中空頭力量的強勢，市場可能要處於下跌行情，其後一天的蠟燭圖是一條大陰線，價格也短暫下跌。\n",
    "\n",
    "然後，繪製 10 月 21 日附近的Ｋ線圖，併進行簡要分析。"
   ]
  },
  {
   "cell_type": "code",
   "execution_count": 29,
   "metadata": {},
   "outputs": [
    {
     "ename": "NameError",
     "evalue": "name 'candle' is not defined",
     "output_type": "error",
     "traceback": [
      "\u001b[1;31m-------------------------\u001b[0m",
      "\u001b[1;31mNameError\u001b[0mTraceback (most recent call last)",
      "\u001b[1;32m<ipython-input-29-3b35d05f51cf>\u001b[0m in \u001b[0;36m<module>\u001b[1;34m\u001b[0m\n\u001b[0;32m      1\u001b[0m \u001b[1;31m# 繪製加權股價指數2e13年月21日附近的Ｋ線圖\u001b[0m\u001b[1;33m\u001b[0m\u001b[1;33m\u001b[0m\u001b[0m\n\u001b[1;32m----> 2\u001b[1;33m \u001b[0mcandle\u001b[0m\u001b[1;33m.\u001b[0m\u001b[0mcandlePlot\u001b[0m\u001b[1;33m(\u001b[0m\u001b[0mtaiex2013\u001b[0m\u001b[1;33m[\u001b[0m\u001b[1;34m'2013-10'\u001b[0m\u001b[1;33m]\u001b[0m\u001b[1;33m,\u001b[0m\u001b[0mtitle\u001b[0m\u001b[1;33m=\u001b[0m\u001b[1;34m'加權股價指數 2013 年 10 月份的日Ｋ線圖'\u001b[0m\u001b[1;33m)\u001b[0m\u001b[1;33m\u001b[0m\u001b[0m\n\u001b[0m",
      "\u001b[1;31mNameError\u001b[0m: name 'candle' is not defined"
     ]
    }
   ],
   "source": [
    "# 繪製加權股價指數2e13年月21日附近的Ｋ線圖\n",
    "candle.candlePlot(taiex2013['2013-10'],title='加權股價指數 2013 年 10 月份的日Ｋ線圖')"
   ]
  },
  {
   "cell_type": "markdown",
   "metadata": {},
   "source": [
    "圖 28.9：加權股價指數2013年10月21日附近的Ｋ線\n",
    "\n",
    "觀察圖 28.9，2013 年 10 月 18 日的蠟燭圖的上影線很短，說明當期價格達到最高價以後，價格不斷波動，收市時價格也沒有從高位下跌。這種情景的一個可能解釋為：多頭巿場的力量較大，將價格推到最高價以後繼續保持較大力量與空頭力量進行博弈，多空雙方力量抗衡，結果收市時價格並沒有從高位出下來。10 月 21 日開市時，價格依然較高，表明開盤時多頭力量依然很強大，多頭方看好市場。而大陰線表明收市時價格大幅下跌，我們可以理解為由於某種原因，市場的強勢力量由多頭方轉變為空頭方，市場的行情可能由原來的上升趨勢轉向為下跌趨勢。10 月 21 日以後的幾天，市場價格呈現了下跌趨勢，其與「烏雲蓋頂亅形態釋放出反轉行情的信號表現一致。\n",
    "\n",
    "Ｋ線圖中的「烏雲蓋頂」形態並不經常出現，「烏雲蓋頂亅形態一旦形成，往往能夠釋放出較為強烈的反轉信號。同理，「抱線」或者「看跌吞沒」形態的分析思路與「烏雲蓋頂」形態大致相同。\n",
    "\n",
    "很多初學者可能會認為這些形態一旦出現，市場行情就會反轉。這種想法過於簡單，僅依據單一形態來預測市場走勢可能會有較大失誤。實際上，這些形態只是釋放出市場反轉的一個信號，市場反轉的具體判斷還需要參照前期的市場走勢以及這些形態所處的位置等綜合分析。\n",
    "\n",
    "識別Ｋ線形態，除了掌握各種形態的具體形狀以外，還要注意其使用條件，根據使用條件和形態推測出市場的動向和多空雙方力量博弈情況等情景。只有不斷瞭解形態、識別形態、總結形態失靈原因，才能在形態分析市場行情中做到舉一反三、融會貫通。我們此處僅提供一種新的形態分析思路：將電腦程式與形態分析結合在一起、量化形態形狀並運用 Python 程式碼自動捕捉一些形態。此外，技術分析中的反轉形態數量龐雜，讀者可以按照本書的分析思路，自行用 Python 撰寫程式碼捕捉感興趣的形態。"
   ]
  }
 ],
 "metadata": {
  "kernelspec": {
   "display_name": "Python 3",
   "language": "python",
   "name": "python3"
  },
  "language_info": {
   "codemirror_mode": {
    "name": "ipython",
    "version": 3
   },
   "file_extension": ".py",
   "mimetype": "text/x-python",
   "name": "python",
   "nbconvert_exporter": "python",
   "pygments_lexer": "ipython3",
   "version": "3.6.5"
  }
 },
 "nbformat": 4,
 "nbformat_minor": 4
}
