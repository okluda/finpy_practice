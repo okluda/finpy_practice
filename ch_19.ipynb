{
 "cells": [
  {
   "cell_type": "markdown",
   "metadata": {},
   "source": [
    "## 19 資產收益率和風險\n",
    "\n",
    "在投資實踐和金融研究中，收益率是人們耳熟能詳的名詞。資產的收益率可以為投資者提供投資參照；在大多數金融研究中，資產的收益率被廣泛應用於金融理論和統計模型研究中。資產的收益率是指投入某資產所能產生的收益與當初投資成本的比例，其計算公式如下：\n",
    "\n",
    "$$收益率=\\frac{投資收益}{投資成本}$$\n",
    "\n",
    "從上式可知，計算收益率時需要知道投資的成本與收益。投資成本比較容易計算，通常是：\n",
    "\n",
    "$$投資成本=資產單價\\times 資產數量$$\n",
    "\n",
    "不同的資產會有不同形式的收益，其中一種形式是由資產價格變化所產生的收益，稱為資本利得（Capital Gain），資本利得並不總是正的收益，負的收益（損失）也是資本利得。在投入資產與賣出資產這段持有期間裡所產生的其他形式的收益也有很多，比如房產的租金、股票的分紅、債券的利息等。將投資期間所有的投資收益加總起來，即可得到期間投資收益：\n",
    "\n",
    "$$期間投資收益=期末價格-期初價格+其他收益$$\n",
    "\n",
    "期間投資收益除以期初投資的成本，即可得到期間收益率（Holding Period Return）：\n",
    "\n",
    "$$期間收益率=\\frac{期末價格-期初價格+其他期間收益}{期初價格}$$\n",
    "\n",
    "以上計算收益率時並未考慮交易成本，現實中不同的資產會有不同的交易成本，比如投資房地產可能會有中介費用、認購開放式基金時支付的手續費（一般稱為申購費）、買賣股票會有手續費及印花稅等。將買賣資產時的交易成本扣除收益被稱為淨收益，通常：\n",
    "\n",
    "$$期間收益率=\\frac{期末價格-期初價格+其他期間收益-出賣交易成本}{期初價格+買入交易成本}$$\n",
    "\n",
    "我們知道多數資產未來的價格是不確定的，按照期間收益率的方法，期初我們購買資產時，資產的期末價格是不可知的。因此，多數情況下，投資人購買資產時，未來的收益率並不確定。但是作為投資人，投資的目的是獲得正的收益，也就是說，購買資產時，投資人預期未來會獲得正的收益。預期收益率（Expected Rate of Return）是指投資人欲購買某資產之前，預估未來可以獲得的收益率水平，是一種事前（EX ante）的收益率。由於未來價格是不確定的，因此未來的收益率很難預估。所以預期收益並無法代表投資人實際得到的收益。實際收益率是指投資人投入某資產後，實際獲得的報酬率，是確定實際損益後計算的收益率，是一種事後（Ex Post）的或者已經實現（Realized）的收益率。當資產未來實際的價格與預期不同時，預期收益率就部會等於實際報酬率。\n",
    "\n",
    "投資人往往是根據預期收益率來決定是否購入某資產，而不同的人對預期收益率會有不同的看法。通常，機構投資者、專業投資人等對所投資的標的物比較瞭解，掌握的資訊比較多，在估計未來收益率時比較準確。而散戶等投資人通常是根據媒體新聞、券商發佈的報告等資訊作出投資決策，實際收益率常常和預期收益率相去甚遠。不過，不論機構投資者還是個體投資者在估計預期收益率時，經常會參照資產的歷史收益率，也就是根據過去的股價、股利資料計算出來的收益率。"
   ]
  },
  {
   "cell_type": "markdown",
   "metadata": {},
   "source": [
    "### 19.1 單期與多期簡單收益率\n",
    "\n",
    "眾所周知，資產持有期間不同，會帶給投資者不同的收益，比如我們把錢存入銀行，存 10 年獲得的利息會比存 1 年獲得的利息多 [<sup>1</sup>](#fn1)。在計算單個資產的收益率或者比較不同資產的收益率時，我們需要先確定資產的持有期間。單期指收益率計算的時間間隔是一期，這裡的一期可以以天為單位，也可以以月、季度或者年為單位，分別對應日收益率、月收益率、季度收益率或年收益率。多期是指時間跨度為 2 期或者 2 期以上。接下來，我們以日為單位，分別介紹單期簡單收益率和多期簡單收益率的計算方式。\n",
    "\n",
    "<span id=\"fn1\"><sup>1</sup> 一般情況下，利率是正的。</span>"
   ]
  },
  {
   "cell_type": "markdown",
   "metadata": {},
   "source": [
    "#### 19.1.1 單期簡單收益率\n",
    "\n",
    "如果把一段時間內每一期的資產價格按照時間先後順序排列起來，將得到資產價格的時間序列。如果把最早一期的價格用 $P_1$ 表示，之後的一期為 $P_2$，以此推類，就可以得到 $P_1,P_2,...,P_t$ 這一時間序列。假設投資者在 $t-1$ 時投入某資產，投入價格為 $P_{t-1}$，持有一期後以 $P_t$ 的價格賣掉。假設該資產在這一起的持有期間內，無其他收益、也不考慮交易成本，那麼投資者的單期簡單收益率（One Period Simple Return）$R_t$ 的計算公式為：\n",
    "\n",
    "$$R_t=\\frac{P_t-P_{t-1}}{P_{t-1}}=\\frac{P_t}{P_{t-1}}-1$$\n",
    "\n",
    "簡單毛收益率（Simple Gross Return）為 $1+R_t$，\n",
    "\n",
    "$$1+R_t=\\frac{P_t}{P_{t-1}}\\ 或者\\ P_t=P_{t-1}\\big(1+R_t\\big)$$\n",
    "\n",
    "如果 $P_1,P_2,...,P_t$ 這一價格序列是已知的，那麼可以根據以上式子計算出收益率序列 $R_2,R_3,...,R_t$。"
   ]
  },
  {
   "cell_type": "markdown",
   "metadata": {},
   "source": [
    "#### 19.1.2 多期簡單收益率\n",
    "\n",
    "接上一小節的設定，已知某資產的價格序列 $P_1,P_2,...,P_t$。假設投資者在第 $t-2$ 期以價格 $P_{t-2}$ 購入該資產，在第 $t$ 期以價格 $P_t$ 賣出。在不考慮其他收益及交易成本的情況下，2 期簡單收益率 $R_t(2)$ 計算公式為：\n",
    "\n",
    "$$R_t(2)=\\frac{P_t-P_{t-2}}{P_{t-2}}=\\frac{P_t}{P_{t-2}}-1$$\n",
    "\n",
    "若投資者在第 $t-k\\ (t>k)$ 期以價格 $P_{t-k}$ 購入該資產，在第 $t$ 期賣出，則 $k$ 期簡單收益率 $R_t(k)$ 計算公式為：\n",
    "\n",
    "$$R_t(k)=\\frac{P_t-P_{t-k}}{P_{t-k}}=\\frac{P_t}{P_{t-k}}-1$$\n",
    "\n",
    "當資產的價格序列 $P_1,P_2,...,P_t$ 已知時，該資產對應的 $k$ 期簡單收益率 $R_{k+1}(k),R_{k+2}(k),...,R_t(k)$ 則可以計算得知。\n",
    "\n",
    "表 19.1 給出了 2015 年 1 月 5 日至 1 月 12 日台積電股票每日收盤價（單位：元）資料：\n",
    "\n",
    "> 表 19.1: 台積電企業股票從 2015 年 1 月 5 日到 1 月 12 日的日度收盤價\n",
    "\n",
    "日期|01-05|01-06|01-07|01-08|01-09|01-12\n",
    "---|---|---|---|---|---|---\n",
    "價格|130.10|124.50|124.97|128.70|124.97|123.10\n",
    "\n",
    "表中給出台積電企業 2015 年 1 月份前七個交易日的股票收盤價（1 月 10 日和 11 日為周六和周日，非交易日）。接下來，我們以 1 月 9 日為例，先根據公式計算單期收益率及 2 期收益率，然後用 Python 實作自動計算。\n",
    "\n",
    "假設 2015 年 1 月 4 日為第 1 期，則 1 月 9 日為第 6 期，即 $t=6$。2015 年 1 月 9 日台積電企業股票的收盤價為 124.97 元，1 月 8 日的收盤價為 128.70 元，1 月 7 日的收盤價為 124.97 元。根據公式，1 月 9 日的單期簡單收益率 $R_6$ 取值為：\n",
    "\n",
    "$$R_6=\\frac{P_6-P_5}{P_5}=\\frac{124.97-128.70}{128.70}\\approx-2.90\\%$$\n",
    "\n",
    "1 月 9 日的 2 期收益率：\n",
    "\n",
    "$$R_6(2)=\\frac{P_6-P_4}{P_4}=\\frac{124.97-124.97}{124.97}\\approx 0.00\\%$$\n",
    "\n",
    "接下來我們用 Python 來實作這一過程："
   ]
  },
  {
   "cell_type": "code",
   "execution_count": 2,
   "metadata": {},
   "outputs": [
    {
     "data": {
      "text/html": [
       "<div>\n",
       "<style scoped>\n",
       "    .dataframe tbody tr th:only-of-type {\n",
       "        vertical-align: middle;\n",
       "    }\n",
       "\n",
       "    .dataframe tbody tr th {\n",
       "        vertical-align: top;\n",
       "    }\n",
       "\n",
       "    .dataframe thead th {\n",
       "        text-align: right;\n",
       "    }\n",
       "</style>\n",
       "<table border=\"1\" class=\"dataframe\">\n",
       "  <thead>\n",
       "    <tr style=\"text-align: right;\">\n",
       "      <th></th>\n",
       "      <th>Close</th>\n",
       "      <th>Open</th>\n",
       "      <th>High</th>\n",
       "      <th>Low</th>\n",
       "      <th>Volume</th>\n",
       "    </tr>\n",
       "    <tr>\n",
       "      <th>Date</th>\n",
       "      <th></th>\n",
       "      <th></th>\n",
       "      <th></th>\n",
       "      <th></th>\n",
       "      <th></th>\n",
       "    </tr>\n",
       "  </thead>\n",
       "  <tbody>\n",
       "    <tr>\n",
       "      <th>2015-01-05</th>\n",
       "      <td>130.10</td>\n",
       "      <td>131.03</td>\n",
       "      <td>131.03</td>\n",
       "      <td>128.23</td>\n",
       "      <td>32214</td>\n",
       "    </tr>\n",
       "    <tr>\n",
       "      <th>2015-01-06</th>\n",
       "      <td>124.50</td>\n",
       "      <td>128.23</td>\n",
       "      <td>128.23</td>\n",
       "      <td>124.04</td>\n",
       "      <td>67649</td>\n",
       "    </tr>\n",
       "    <tr>\n",
       "      <th>2015-01-07</th>\n",
       "      <td>124.97</td>\n",
       "      <td>124.50</td>\n",
       "      <td>125.90</td>\n",
       "      <td>124.50</td>\n",
       "      <td>43886</td>\n",
       "    </tr>\n",
       "    <tr>\n",
       "      <th>2015-01-08</th>\n",
       "      <td>128.70</td>\n",
       "      <td>127.30</td>\n",
       "      <td>128.70</td>\n",
       "      <td>126.83</td>\n",
       "      <td>42551</td>\n",
       "    </tr>\n",
       "    <tr>\n",
       "      <th>2015-01-09</th>\n",
       "      <td>124.97</td>\n",
       "      <td>125.90</td>\n",
       "      <td>126.37</td>\n",
       "      <td>124.04</td>\n",
       "      <td>61920</td>\n",
       "    </tr>\n",
       "    <tr>\n",
       "      <th>2015-01-12</th>\n",
       "      <td>123.10</td>\n",
       "      <td>123.57</td>\n",
       "      <td>124.50</td>\n",
       "      <td>123.10</td>\n",
       "      <td>30402</td>\n",
       "    </tr>\n",
       "    <tr>\n",
       "      <th>2015-01-13</th>\n",
       "      <td>123.57</td>\n",
       "      <td>122.17</td>\n",
       "      <td>124.04</td>\n",
       "      <td>121.71</td>\n",
       "      <td>38093</td>\n",
       "    </tr>\n",
       "    <tr>\n",
       "      <th>2015-01-14</th>\n",
       "      <td>121.24</td>\n",
       "      <td>123.57</td>\n",
       "      <td>124.04</td>\n",
       "      <td>121.24</td>\n",
       "      <td>49447</td>\n",
       "    </tr>\n",
       "    <tr>\n",
       "      <th>2015-01-15</th>\n",
       "      <td>122.64</td>\n",
       "      <td>122.64</td>\n",
       "      <td>124.04</td>\n",
       "      <td>122.64</td>\n",
       "      <td>40996</td>\n",
       "    </tr>\n",
       "    <tr>\n",
       "      <th>2015-01-16</th>\n",
       "      <td>127.77</td>\n",
       "      <td>130.56</td>\n",
       "      <td>130.56</td>\n",
       "      <td>126.83</td>\n",
       "      <td>129035</td>\n",
       "    </tr>\n",
       "  </tbody>\n",
       "</table>\n",
       "</div>"
      ],
      "text/plain": [
       "             Close    Open    High     Low  Volume\n",
       "Date                                              \n",
       "2015-01-05  130.10  131.03  131.03  128.23   32214\n",
       "2015-01-06  124.50  128.23  128.23  124.04   67649\n",
       "2015-01-07  124.97  124.50  125.90  124.50   43886\n",
       "2015-01-08  128.70  127.30  128.70  126.83   42551\n",
       "2015-01-09  124.97  125.90  126.37  124.04   61920\n",
       "2015-01-12  123.10  123.57  124.50  123.10   30402\n",
       "2015-01-13  123.57  122.17  124.04  121.71   38093\n",
       "2015-01-14  121.24  123.57  124.04  121.24   49447\n",
       "2015-01-15  122.64  122.64  124.04  122.64   40996\n",
       "2015-01-16  127.77  130.56  130.56  126.83  129035"
      ]
     },
     "execution_count": 2,
     "metadata": {},
     "output_type": "execute_result"
    }
   ],
   "source": [
    "import pandas as pd\n",
    "stock=pd.read_csv('.\\\\PythonBook_code_data\\\\part3\\\\019\\\\2330.csv',index_col='Date',sep='\\t')\n",
    "stock.head(10)"
   ]
  },
  {
   "cell_type": "code",
   "execution_count": 3,
   "metadata": {},
   "outputs": [
    {
     "data": {
      "text/plain": [
       "Date\n",
       "2015-01-05       NaN\n",
       "2015-01-06    130.10\n",
       "2015-01-07    124.50\n",
       "2015-01-08    124.97\n",
       "2015-01-09    128.70\n",
       "Name: Close, dtype: float64"
      ]
     },
     "execution_count": 3,
     "metadata": {},
     "output_type": "execute_result"
    }
   ],
   "source": [
    "# 抓取台積電股票的收盤價資料\n",
    "# 轉化成帶日期的格式，即時間序列\n",
    "close=stock.Close\n",
    "close.index=pd.to_datetime(close.index)\n",
    "\n",
    "# 將收盤價格滯後一期\n",
    "lagclose=close.shift(1)\n",
    "lagclose.head()"
   ]
  },
  {
   "cell_type": "code",
   "execution_count": 4,
   "metadata": {},
   "outputs": [
    {
     "data": {
      "text/plain": [
       "Date\n",
       "2015-01-05         NaN\n",
       "2015-01-06   -0.043044\n",
       "2015-01-07    0.003775\n",
       "2015-01-08    0.029847\n",
       "2015-01-09   -0.028982\n",
       "Name: simpleret, dtype: float64"
      ]
     },
     "execution_count": 4,
     "metadata": {},
     "output_type": "execute_result"
    }
   ],
   "source": [
    "# 計算單期簡單收益率\n",
    "simpleret=(close-lagclose)/lagclose\n",
    "simpleret.name='simpleret'\n",
    "simpleret.head()"
   ]
  },
  {
   "cell_type": "code",
   "execution_count": 5,
   "metadata": {},
   "outputs": [
    {
     "data": {
      "text/plain": [
       "Date\n",
       "2015-01-05         NaN\n",
       "2015-01-06         NaN\n",
       "2015-01-07   -0.039431\n",
       "2015-01-08    0.033735\n",
       "2015-01-09    0.000000\n",
       "Name: simpleret2, dtype: float64"
      ]
     },
     "execution_count": 5,
     "metadata": {},
     "output_type": "execute_result"
    }
   ],
   "source": [
    "# 計算 2 期簡單收益率\n",
    "simpleret2=(close-close.shift(2))/close.shift(2)\n",
    "simpleret2.name='simpleret2'\n",
    "simpleret2.head()"
   ]
  },
  {
   "cell_type": "markdown",
   "metadata": {},
   "source": [
    "#### 19.1.3 Python 函數計算簡單收益率\n",
    "\n",
    "在知曉各種收益率的涵義和計算公式以後，我們可以用 Python 輔助說明我們來計算上述各種收益率。此時，Python 就好像一個智能電腦一樣，可以用來編輯與計算公式相對應的程式碼，Python 程式執行一行行的程式碼，自動得出收益率結果。這種方法顯得有些繁瑣，求出一種收益率需要撰寫很多行程式碼。幸運的是，我們可以呼叫 Python 裡面一些套件中的函數來實作收益率的計算。\n",
    "\n",
    "ffn 套件中的 to_returns() 可以用來計算我們在上文中計算的簡單收益率，其具體用法是：\n",
    "\n",
    "`1. to_returns(prices)`\n",
    "\n",
    "其中，prices 是我們要計算收益率的股票的價格資料。接下來，我們用 to_returns() 函數來計算台積電股票收盤價的簡單單期收益率："
   ]
  },
  {
   "cell_type": "code",
   "execution_count": 6,
   "metadata": {},
   "outputs": [
    {
     "data": {
      "text/plain": [
       "Date\n",
       "2015-01-05         NaN\n",
       "2015-01-06   -0.043044\n",
       "2015-01-07    0.003775\n",
       "2015-01-08    0.029847\n",
       "2015-01-09   -0.028982\n",
       "Name: ffnsimpleret, dtype: float64"
      ]
     },
     "execution_count": 6,
     "metadata": {},
     "output_type": "execute_result"
    }
   ],
   "source": [
    "import ffn\n",
    "ffnsimpleret=ffn.to_returns(close)\n",
    "ffnsimpleret.name='ffnsimpleret'\n",
    "ffnsimpleret.head()"
   ]
  },
  {
   "cell_type": "markdown",
   "metadata": {},
   "source": [
    "#### 19.1.4 單期與多期簡單收益率的關係\n",
    "\n",
    "上面兩個小節中，我們分別介紹了單期收益率即多期收益率，從計算式可以看出，單期收益率的計算非常簡單。如果現在我們不知價格序列，只知道單期收益序列，那們多期收益率可以計算出來嗎？比如 2 期收益率是否等於對應的兩個交易日的單期收益率之和？接下來，我們從多期收益率的公式出發來解答一下這問題。以 2 期收益率為例：\n",
    "\n",
    "$$R_t(2)=\\frac{P_t-P_{t-2}}{P_{t-2}}=\\frac{P_t}{P_{t-2}}-1$$\n",
    "\n",
    "其中\n",
    "\n",
    "$$\\frac{P_t}{P_{t-2}}=\\frac{P_t}{P_{t-1}}\\times\\frac{P_{t-1}}{P_{t-2}}$$\n",
    "\n",
    "根據單期收益率的公式\n",
    "\n",
    "$$\\frac{P_t}{P_{t-1}}=1+R_t,\\quad \\frac{P_{t-1}}{P_{t-2}}=1+R_{t-1}$$\n",
    "\n",
    "因此，\n",
    "\n",
    "$$\n",
    "\\begin{split}R_t(2)&=\\frac{P_t}{P_{t-2}}-1=\\frac{P_t}{P_{t-1}}\\times\\frac{P_{t-1}}{P_{t-2}}-1 \\\\\n",
    "&=(1+R_t)(1+R_{t-1})-1\\\\\n",
    "&=R_t+R_{t-1}+R_tR_{t-1}\n",
    "\\end{split}\n",
    "$$\n",
    "\n",
    "這裡我們看到 $R_t(2)=(1+R_t)(1+R_{t-1})-1$，其中 $(1+R_t)(1+R_{t-1})$ 的概念就是複利（Compound）。複利是指每一期將賺到的錢作為本金投入到下一期的資產中，以此推類，直至投資期結束獲得的總收益。比較形象地說，複利就是錢滾錢。通常短時間內並無法看出複利的效果，例如日收益率 $R_t$ 和 $R_{t-1}$ 取值都比較小，兩者的乘積 $R_tR_{t-1}$ 會更小，假設 $R_tR_{t-1}\\rightarrow 0$，則\n",
    "\n",
    "$$R_t(2)\\rightarrow R_t+R_{t-1}$$\n",
    "\n",
    "不過將時間拉長一點看，複利的效果就會超出人們的想像。如果，某資產的單期收益率序列為 $R_1,R_2,...,R_t$，則第 $t$ 期的 $k$ 期收益率與單期收益率的關係為：\n",
    "\n",
    "$$\n",
    "\\begin{split}\n",
    "R_t(k)&=\\frac{P_t-P_{t-k}}{P_{t-k}}=\\frac{P_t}{P_{t-k}}-1=\\frac{P_{t-k+1}}{P_{t-k}}\\cdot\\frac{P_{t-k+2}}{P_{t-k+1}}\\cdots\\frac{P_t}{P_{t-1}}-1 \\\\\n",
    "&=(1+R_{t-k+1})(1+R_{t-k+2})\\cdots(1+R_t)-1,\n",
    "\\end{split}\n",
    "$$\n",
    "\n",
    "即\n",
    "\n",
    "$$R_t(k)=\\prod_{j=0}^{k-1}(1+R_{t-j})-1.$$\n",
    "\n",
    "為了看複利的效果，假設有不同的資產，單期收益率分別式 1%、2%、3%，在這幾種資產上投資的資金都是 1 元，經過 2 期複利後，不同資產的投資資金分別變為 1.0201、1.0404、1.0609 元，對應的收益分別為 2.01%、4.04%、6.09%，幾乎依舊維持 2 倍、3 倍利差的關係；經過 30 期的複利之後，各自投資資金分別為 1.35、1.81、2.43 元，收益率為 35%、81%、143%，原本 2 倍、3 倍的收益被拉大到 2.33 倍、4.10 倍。複利的效果是如此驚人，以致於愛因斯坦都曾讚嘆：「Compound interest is the eighth wonder of the world.」不過依靠複利獲得高報酬的前提是維持每一期獲利都為正，這是很多風險性資產很難達到的。\n",
    "\n",
    "多期收益率的計算還有一種算法，就是將單期收益率簡單的加總，\n",
    "\n",
    "$$R_t(k)=\\sum_{j=0}^{k-1}R_{t-j},$$\n",
    "\n",
    "以此法計算得到的收益率與相乘計算得到的不同，相乘計算考慮到複利的效果；而加總計算是投入本金後，每一期獲得的收益沒再投入到資產中的收益。\n",
    "\n",
    "根據單期收益率計算多期收益率實際運算上簡單、思想上也容易理解，不過，由多期收益率計算單期收益率就沒這麼直觀了。由多期收益率計算單期收益率涉及到平均的概念，計算的是過去持有資產的幾期裡，平均每期的收益率是多少。比如，我們可以根據月收益率計算日收益率。與單期收益率相加或相乘計算多期收益率對應，由多期計算單期也有兩種方式，一種是算術平均（Arithmetric Average）、一種是幾何平均（Geometric Average）。算術、幾何平均的算法為：\n",
    "\n",
    "$$\n",
    "\\begin{split}\n",
    "算術平均收益率&=\\frac{R_t(k)}{k}=\\frac{\\sum_{j=0}^{k-1}R_{t-j}}{k}, \\\\\n",
    "幾何平均收益率&=\\sqrt[k]{R_t(k)+1}-1=\\sqrt[k]{\\prod_{j=0}^{k-1}(1+R_{t-j})}\\ -1\n",
    "\\end{split}\n",
    "$$\n",
    "\n",
    "幾何平均有考慮複利，衡量的是過去 $k$ 期中將每期的收益作為本金投入下期資產中這種投資方法的平均收益；而算術平均沒有考慮複利的效果。"
   ]
  },
  {
   "cell_type": "markdown",
   "metadata": {},
   "source": [
    "#### 19.1.5 年化收益率\n",
    "\n",
    "假設投資人現在面對三種資產 A、B、C，資產 A 三個月的收益率為 3%，資產 B 三年的收益率為 25%，資產 C 一年的收益率為 7%，每個資產收益率的計算期間都不同。作為投資人，我們該如何判斷哪種資產的投資表現比較好呢？很顯然，只要將各種收益率換算成相同時間區間的收益率即可比較。年化收益率（Annualized Return）是把當前收益率（日收益率、週收益率、月收益率等）換算成年收益率來計算的，方便投資人比較不同期限的投資。現實生活中，投資人經常可以接觸到「年化收益率」這個詞。年化收益率只是一種理論上收益率，並不是投資人真正能夠獲得的收益率。比如各種貨幣基金都會提供七日年化收益率供投資人參考，不過七日年化收益率是貨幣基金最近 7 日的平均收益水平，進行年化以後得出的收益率，並不代表該基金之後的表現。年化收益率與年收益率不同，年收益率是指投資一筆資產一年的實際收益率，比如投資人購買基金時常常會參照過去一年的收益率，這個收益率就是年收益率，是投資人過去一年實際獲得的報酬，也是基金經理人資產管理的一個表現。年化收益率在低風險性的資產市場中應用十分廣泛，而年收益率可以應用在任何資產。接下來，我們介紹如何計算年化收益率。\n",
    "\n",
    "年化收益率的計算與複利相關，假設投資人持有資產時間為 $T$ 期，獲得的（將要獲得的）收益率為 $R_T$，一年一共有 $m$ 個單期（比如以月為單期，一年有 12 個月），則該資產的年化收益率為：\n",
    "\n",
    "$$年化收益率=\\frac{R_T}{T}\\times m,$$\n",
    "\n",
    "或\n",
    "\n",
    "$$年化收益率=\\big[\\big(1+R_T\\big)^{1/T}-1\\big]\\times m,$$\n",
    "\n",
    "其中 $\\frac{R_T}{T}$ 和 $(1+R_T)^{1/T}-1$ 分別是根據 $T$ 期收益率計算的算術、幾何平均收益率（即單期收益率），之後將單期收益率轉化成年化收益率時是直接乘以一年的期數 $m$，也就是將單期行為複製 $m$ 次得到的收益率。年化收益率也可以根據下面式子進行計算：\n",
    "\n",
    "$$年化收益率=\\big(1+R_T\\big)^{1/(T/m)}-1,$$\n",
    "\n",
    "其中 $T/m$ 是 $T$ 期對應的年數，這種方法是將 $T$ 時段獲得的收益複利 $m/T$ 次，與上一個方法有本質上的不同，結果也很不一樣。\n",
    "\n",
    "如果 $R_T$ 不是直接給出的，而是由 $T$ 期裡的單期收益率（此單期時間長度可以與 $T$ 期的單期時間長度不同）計算得出，則計算就會多出一步。假設現在我們知道某資產 $T$ 個月內的日收益率序列 $r_1,r_2,...,r_N$（$N$ 為 $T$ 個月中包含的天數），如何將其轉化成以月為頻率進行複利的年化收益率呢？根據上面的公式，$R_T$ 要根據 $r_1,r_2,...,r_N$ 計算出來，如果 $R_T$ 是用簡單加總的方式計算，則\n",
    "\n",
    "$$年化收益率=\\frac{\\sum_{i=1}^{N}r_i}{T}\\times m.$$\n",
    "\n",
    "如果 $R_T$ 是用複利的方式計算，則\n",
    "\n",
    "$$年化收益率=\\big[(1+r_1)(1+r_2)\\cdots(1+r_N)\\big]^{1/(T/m)}-1.$$\n",
    "\n",
    "__Python 計算年化簡單收益率__\n",
    "在 Python 中，我們可以根據上述公式依情況自己撰寫程式碼來計算年化收益率。"
   ]
  },
  {
   "cell_type": "code",
   "execution_count": 7,
   "metadata": {},
   "outputs": [
    {
     "data": {
      "text/plain": [
       "0.2999081231605749"
      ]
     },
     "execution_count": 7,
     "metadata": {},
     "output_type": "execute_result"
    }
   ],
   "source": [
    "# 假設一年有 245 個交易日\n",
    "annualize=(1+simpleret).cumprod()[-1]**(245/311)-1\n",
    "annualize"
   ]
  },
  {
   "cell_type": "markdown",
   "metadata": {},
   "source": [
    "當然，我們也可以撰寫一個專門計算年化收益率的函數，該函數可以針對不同的單期計算年化收益率。"
   ]
  },
  {
   "cell_type": "code",
   "execution_count": 8,
   "metadata": {},
   "outputs": [],
   "source": [
    "def annualize(returns,perios):\n",
    "    if period=='day':\n",
    "        return((1+returns).cumprod()[-1]**(245/len(returns))-1)\n",
    "    elif period=='month':\n",
    "        return((1+returns).cumprod()[-1]**(12/len(returns))-1)\n",
    "    elif period=='quarter':\n",
    "        return((1+returns).cumprod()[-1]**(4/len(returns))-1)\n",
    "    elif period=='year':\n",
    "        return((1+returns).cumprod()[-1]**(1/len(returns))-1)\n",
    "    else:\n",
    "        raise Expection(\"Wrong period\")"
   ]
  },
  {
   "cell_type": "markdown",
   "metadata": {},
   "source": [
    "#### 19.1.6 考慮股利分紅的簡單收益率\n",
    "\n",
    "前面幾個小節在計算資產收益率時只計算了資本利得，並未考慮其他的現金流，但是在實務應用時，我們往往會遇到如股利分紅等其他現金。股票是比較常見的資產，因此，我們在這一小節詳細介紹一下股利。\n",
    "\n",
    "企業發放股利的方式一般有兩種：現金股利和股票股利，現金股利是企業將盈餘以現金的方式發放給股東，而股票股利則是用送股的方式，將股票配發給股東。送股俗稱送「紅股」，是上市企業將留存收益（包括盈餘公積和未配置利潤）用股票股利形式進行的配置，送股是對股東的分紅回報的一種方式，因此送股要納稅。提到送股，就要談到另一個很容易與送股混淆的行為－－轉增股本。轉增股本是企業將資本公積金轉化為股本，不受企業本年度可配置利潤的多少及時間的限制。從嚴格的意義上來說，轉增股本並不是對股東的分紅回報，因此資本公積金轉增股本也不需要納稅。當前，很多企業會採用部分現金、部分股票的方式發放股利。股票股利的優點是能夠將現金 / 盈餘留在企業，但是會造成股本膨脹、稀釋之後的獲利。現金股利不會改變股本，但是將盈餘 / 現金發放出去，會減少企業的價值。通常企業會依自身發展情況來選取發放股利的方式，像創業板企業在發展之初比較需要現金，通常會選取用股票的形式來發放股利；而像台積電等發展比較成熟的企業，會以現金股利為主。\n",
    "\n",
    "談到這裡，大家一定會號期發放股利的當天，股票價格是如何變動的、對應的收益率該如何計算呢？在答案揭曉之前，我們先瞭解一下企業是如何發放股利的。企業發放股利主要涉及以下幾個重要日期：\n",
    "\n",
    "1. 股票宣告日。在這一天，董事會將公告股利支付情況，包括：股利發放的數目、股利發放的形式，同時宣佈除息日、過戶基準日和股利支付日以及股東分紅資格等。\n",
    "\n",
    "2. 除權除息日。當上市企業向股東分派股息時，就要對股票進行除息；當上市企業向股東送紅股時，就要對股票進行除權。在除權除息日之前買入股票的股東將得到本次發放的股利，在除權除息日當天買進的股票不再享有股利公告中所登載的各種分紅權利。\n",
    "\n",
    "3. 過戶基準日，是企業確定有權領取股利的股東資格的截止日期。除權除息日是投資者買賣股票時是否享有本次股利發放的判斷日期，而企業發放股利之前要確定企業的股東名單，由於投資者購買股票到該投資者位於該企業股東名單上有一定的日期間隔。比如，投資者 A 在 6 月 2 日買入某企業的股票，6 月 4 日該企業的股東名單上才會顯示 A 的名字。過戶基準日可以明確領取該企業股利的股東名單：凡在過戶基準日之前（含登記日當天）列於企業股東名單上的股東，將獲得此次發放的股利，在這一天之後列於企業股東名單上的股東，將不會享有此次發放的股利。所以，在台灣，過戶基準日通常在除權除息日以後約一周之內的某一天。\n",
    "\n",
    "4. 股利發放日，是企業向股東正式發放股利的日期。在這一天，企業將股利支票寄給有資格獲得股利的股東，或者透過中央清算註冊系統直接將股利打入股東的現金帳戶，由股東向其證券代理商領取；同時，抵沖資產負債表中的股利負債金額。除權除息日當天，股票會根據過戶基準日收盤價與分紅現金的數量、送配股的數量和配股價的高低等結合起來算出來一個調整後的前日收盤價。具體算法如下：\n",
    "\n",
    " 1. 除息價：\n",
    " \n",
    "    $$除息價=除息日前一天的收盤價-每股紅利現金價$$\n",
    "    \n",
    "    舉一個例子來說，2014 年 3 月 28 日，每上市企業的股東大會上決定 2013 年度股利發放方案為：每股派 0.3895 元（稅後），除權除息日、過戶基準日和紅利發放日分別為 5 月 7 日、為 5 月 8 日和 5 月 13 日。5 月 6 日，該企業股票的收盤價為 7.87 元，因此，其除息價格為：\n",
    " \n",
    "    $$7.87-0.3895=7.4805元$$\n",
    " \n",
    "    而該企業股票在 5 月 7 日的開盤價也調整為 7.48 元，最終收盤價為 7.35 元。\n",
    "    \n",
    "    一般來說，第 $t$ 期為除權除息日，股利分紅為 $D_t$，則第 $t$ 期的單期收益率：\n",
    "    \n",
    "    $$R_t=\\frac{P_t-P_{t-1}+D_t}{P_{t-1}}=\\frac{P_t+D_t}{P_{t-1}}-1$$\n",
    "    \n",
    "    5 月 7 日是除權除息日，在這一天購入的股票是有權利分得股利的，考慮到價格變動及紅利，假設 5 月 6 日的價格為 7.35，從 5 月 6 日到 7 日，投資人的單期簡單收益率為：\n",
    "    \n",
    "    $$R_{\\mathrm{May8th}}=\\frac{P_{\\mathrm{May8th}}-P_{\\mathrm{May7th}}+\\mathit{Div}}{P_{\\mathrm{May7th}}}=\\frac{7.35-7.87+0.3895}{7.87}\\approx-1.658\\%$$\n",
    " \n",
    " 2. 除權價：\n",
    " \n",
    "    $$除權價=除息日前一天的收盤價\\div(1+每股送紅利股數或轉增股數)$$\n",
    "    \n",
    "    假設，2011 年 9 月某一上市企業決議每股轉增 1.5 股，相應的過戶基準日為 10 月 14 日、除權除息日為 10 月 12 日、送轉股上市日為 10 月 17 日。10 月 11 日當天該企業收盤在 27.42 元，因此，其除權價格為：\n",
    "    \n",
    "    $$27.42\\div(1+1.5)=10.968元$$\n",
    "    \n",
    "    10 月 12 日，該企業的開盤價調整到 10.97 元。\n",
    " \n",
    " 3. 除權除息價：\n",
    " \n",
    "    $$除權除息價=\\frac{除息日前一天的收盤價-每股紅利現金價}{1+每股送紅利股數或轉增股數}$$\n",
    "    \n",
    "    比如某一上市企業 2011 年 5 月決定 2010 年度的分紅方案為：每股送 0.3 股、派 0.0006 元（稅後）現金，過戶基準日為 6 月 15 日，除權除息日為 6 月 13 日，送轉股上市日為 6 月 17 日，紅利發放日為 6 月 19 日。6 月 10 日當天，該企業股票的收盤價為 14.40 元，因此，其對應的除權除息價格為：\n",
    "    \n",
    "    $$\\frac{14.40-0.0006}{1+0.3}\\approx 10.77元$$\n",
    "    \n",
    "    股票作為一種重要的投資工具，股利是很重要的收益，對長期的股票持有者來說，股利是挑揀價值型股票的重要指標之一。那麼，我們怎麼去判斷一支股票的股利是多是少呢？股息率（Dividend Yield Ratio）是股息與股票價格的比率，\n",
    "    \n",
    "    $$股息率=\\frac{\\mathrm{Div}}{\\mathrm{Price}}\\times 100\\%$$\n",
    "    \n",
    "    是判斷股利高低的重要參照，也是衡量企業是否具有投資價值的重要指標。挑揀價值型股票另一個很重要的指標是市盈率（也被稱為本益比，Price-to-Earning Ratio）：\n",
    "    \n",
    "    $$本益比=\\frac{每股市值}{每股盈餘}$$\n",
    "    \n",
    "    其中每股盈餘（Earning per Share）一般是以企業在過去一年的淨利潤除以總發行已售出股數。市盈率衡量的是如果企業未來能夠維持過去一年的盈利水平，投資人以市場價格購入該企業股票，多久時間可以賺回本金。理論上來講，股票的市盈率越低代表該股票的風險比較低，但在實際應用中，不同工業、不同國家、不同時期、不同股票的市盈率差異是非常大的。"
   ]
  },
  {
   "cell_type": "markdown",
   "metadata": {},
   "source": [
    "### 19.2\n",
    "\n",
    "前文提到複利，本文要介紹的是複利的一個特例－－連續複利（Continuous Compounding），連續複利的概念是投資期數趨於無限大，而不同期之期的時間間隔無窮小，分分秒秒都在複利，也就是說剛剛生出的收益馬上就生出收益的收益，幾乎沒有時間間隔。如果單期簡單收益率（未考慮複利）是 $R$，該段期間有 $n$ 個複利結算週期，對應的 $T$ 期收益率為：\n",
    "\n",
    "$$\\left(1+\\frac{R}{n}\\right)^{nT}-1$$\n",
    "\n",
    "根據連續複利的思想，當 $n\\rightarrow\\infty$ 時即得 $T$ 期連續複利的收益率：\n",
    "\n",
    "$$\\lim_{n\\rightarrow\\infty}\\left(1+\\frac{R}{n}\\right)^{nT}-1=e^{RT}-1$$\n",
    "\n",
    "在連續複利下，期初投資 $A_0$ 元持有到 $T$ 期結束，資產會變成 $A_0e^{RT}$元。現在假設單期簡單收益率是 $R_t$，透過連續複利產生與 $R_t$ 相同收益的單期複利收益率叫做連續複利收益率（Continuous Compounded Rate of Return），該收益率（記號為 $r_t$）應該滿足：\n",
    "\n",
    "$$1+R_t=e^{r_t}，$$\n",
    "\n",
    "即\n",
    "\n",
    "$$r_t=\\ln(1+R_t)$$\n",
    "\n",
    "如果 $1+R_t$ 是用資產的期初價格 $P_{t-1}$ 及期末價格 $P_{t}$ 求得，則\n",
    "\n",
    "$$r_t=\\ln\\left(\\frac{P_t}{P_{t-1}}\\right)=\\ln P_t-\\ln P_{t-1}$$\n",
    "\n",
    "即資產的單期連續複利收益率等於資產期初期末價格的自然對數之差。\n",
    "\n",
    "以台積電股票為例，2015 年 1 月 6 日的收盤價為 124.50 元，1 月 7 日的收盤價為 124.97 元，透過計算，得知 1 月 7 日的單期簡單收益率：\n",
    "\n",
    "$$\\frac{124.97-124.50}{124.50}=0.3775\\%$$\n",
    "\n",
    "對應的單期連續複利收益率為：\n",
    "\n",
    "$$r_6=\\ln(124.97)-\\ln(124.50)\\approx0.3768\\%$$\n",
    "\n",
    "若用 Python 來計算單期連續複利收益率，我們可以根據公式自己寫程式碼實作："
   ]
  },
  {
   "cell_type": "code",
   "execution_count": 9,
   "metadata": {},
   "outputs": [
    {
     "data": {
      "text/plain": [
       "Date\n",
       "2015-01-05         NaN\n",
       "2015-01-06   -0.043998\n",
       "2015-01-07    0.003768\n",
       "2015-01-08    0.029410\n",
       "2015-01-09   -0.029410\n",
       "Name: comporet, dtype: float64"
      ]
     },
     "execution_count": 9,
     "metadata": {},
     "output_type": "execute_result"
    }
   ],
   "source": [
    "import numpy as np\n",
    "comporet=np.log(close/lagclose)\n",
    "comporet.name='comporet'\n",
    "comporet.head()"
   ]
  },
  {
   "cell_type": "markdown",
   "metadata": {},
   "source": [
    "我們也可以呼叫 ffn 套件中計算複利收益率的函數 to_log_returns()，具體方法為：\n",
    "\n",
    "`to_log_returns(prices)`\n",
    "\n",
    "其中 prices 是我們要計算收益率的股票價格。仍以台積電企業 2015 年的股票資料為例進行說明。"
   ]
  },
  {
   "cell_type": "code",
   "execution_count": 10,
   "metadata": {},
   "outputs": [
    {
     "data": {
      "text/plain": [
       "Date\n",
       "2015-01-05         NaN\n",
       "2015-01-06   -0.043998\n",
       "2015-01-07    0.003768\n",
       "2015-01-08    0.029410\n",
       "2015-01-09   -0.029410\n",
       "Name: Close, dtype: float64"
      ]
     },
     "execution_count": 10,
     "metadata": {},
     "output_type": "execute_result"
    }
   ],
   "source": [
    "ffnComporet=ffn.to_log_returns(close)\n",
    "ffnComporet.head()"
   ]
  },
  {
   "cell_type": "markdown",
   "metadata": {},
   "source": [
    "#### 19.2.1 多期連續複利收益率\n",
    "\n",
    "在計算 $k$ 期連續複利收益率之前，我們先用 2 期來示範如何計算連續複利收益率。與單期的計算方式 $r_t=\\ln\\left(1+R_t\\right)$ 類似，假設 2 期連續複利收益率 $r_t(2)$，則\n",
    "\n",
    "$$\\lim_{n\\rightarrow\\infty}\\left(1+\\frac{r_t(2)}{n}\\right)^n=\\frac{P_t}{P_{t-2}}=1+R_t(2)$$\n",
    "\n",
    "即\n",
    "\n",
    "$$\\exp(r_t(2))=\\frac{P_t}{P_{t-2}}=1+R_t(2)$$\n",
    "\n",
    "可得 2 期連續複利收益率 $r_t(2)$ 為：\n",
    "\n",
    "$$\n",
    "\\begin{split}\n",
    "r_2(2)&=\\ln(1+R_t(2)) \\\\\n",
    "&=\\ln\\left(\\frac{P_t}{P_{t-2}}\\right) \\\\\n",
    "&=\\ln(P_t)-\\ln(P_{t-2})\n",
    "\\end{split}\n",
    "$$\n",
    "\n",
    "推廣當 $k$ 期中，我們可以知道 $k$ 期連續複利收益率 $r_t(k)$ 計算公式為：\n",
    "\n",
    "$$\n",
    "\\begin{split}\n",
    "r_t(k)&=\\ln(1+R_t(k)) \\\\\n",
    "&=\\ln(P_t\\ /\\ P_{t-k}) \\\\\n",
    "&=\\ln(P_t)-\\ln(P_{t-k})\n",
    "\\end{split}\n",
    "$$\n",
    "\n",
    "##### Example.\n",
    "以台積電股票為例，2015 年 1 月 6 日的收盤價為 124.50 元，1 月 7 日的收盤價的 124.97 元，1 月 8 日的收盤價為 128.70 元。台積電股票在 1 月 8 日的 2 期連續複利收益率 $r_{\\mathrm{8日}}(2)$ 為：\n",
    "\n",
    "$$\n",
    "\\begin{split}\n",
    "r_{\\mathrm{8日}}(2)&=\\ln(P_{\\mathrm{8日}})-\\ln(P_{\\mathrm{8日}}) \\\\\n",
    "&=\\ln(128.70)-\\ln(124.50) \\\\\n",
    "&\\approx 3.3178\\%\n",
    "\\end{split}\n",
    "$$\n",
    "\n",
    "用 Python 進行計算，可以參照以下程式碼："
   ]
  },
  {
   "cell_type": "code",
   "execution_count": 11,
   "metadata": {},
   "outputs": [
    {
     "data": {
      "text/plain": [
       "Date\n",
       "2015-01-05         NaN\n",
       "2015-01-06         NaN\n",
       "2015-01-07   -0.040230\n",
       "2015-01-08    0.033178\n",
       "2015-01-09    0.000000\n",
       "Name: comporet2, dtype: float64"
      ]
     },
     "execution_count": 11,
     "metadata": {},
     "output_type": "execute_result"
    }
   ],
   "source": [
    "comporet2=np.log(close/close.shift(2))\n",
    "comporet2.name='comporet2'\n",
    "comporet2.head()"
   ]
  },
  {
   "cell_type": "markdown",
   "metadata": {},
   "source": [
    "#### 19.2.2 單期與多期連續複利收益率的關係\n",
    "\n",
    "不論在產業界還是學術界，連續複利收益率的應用都非常廣泛，其中一個原因是單期與多期連續複利收益率之間優良的性質。先以 2 期連續複利收益率為例，\n",
    "\n",
    "$$\n",
    "\\begin{split}\n",
    "r_t(2)&=\\ln\\left(\\frac{P_t}{P_{t-2}}\\right) \\\\\n",
    "&=\\ln\\left(\\frac{P_t}{P_{t-1}}\\cdot\\frac{P_{t-1}}{P_{t-2}}\\right) \\\\\n",
    "&=\\ln\\left(\\frac{P_t}{P_{t-1}}\\right)+\\ln\\left(\\frac{P_{t-1}}{P_{t-2}}\\right) \\\\\n",
    "&=r_t+r_{t-1}\n",
    "\\end{split}\n",
    "$$\n",
    "\n",
    "即，2 期連續複利收益率等於前一天和當天的單期複利收益率之和。進而推知，$k$ 期連續複利收益率 $r_t(k)$ 為連續 $k$ 天的單期複利收益率 $r_{t-(k-1)},r_{t-(k-2)},...,r_{t-1},r_t$ 之和，用公式表達為：\n",
    "\n",
    "$$r_t(k)=\\sum_{j=0}^{k-1}r_{t-j}$$\n",
    "\n",
    "這個關係式體現了連續複利收益率的優良性質：單期加總即得多期。\n",
    "\n",
    "下面我們用台積電股票的單期複利收益率資料進行公式驗證："
   ]
  },
  {
   "cell_type": "code",
   "execution_count": 12,
   "metadata": {},
   "outputs": [
    {
     "data": {
      "text/plain": [
       "Date\n",
       "2015-01-07   -0.040230\n",
       "2015-01-08    0.033178\n",
       "2015-01-09    0.000000\n",
       "2015-01-12   -0.044487\n",
       "2015-01-13   -0.011266\n",
       "Name: comporet2, dtype: float64"
      ]
     },
     "execution_count": 12,
     "metadata": {},
     "output_type": "execute_result"
    }
   ],
   "source": [
    "comporet2=comporet2.dropna()\n",
    "comporet2.head()"
   ]
  },
  {
   "cell_type": "code",
   "execution_count": 13,
   "metadata": {},
   "outputs": [
    {
     "data": {
      "text/plain": [
       "Date\n",
       "2015-01-05             NaN\n",
       "2015-01-06             NaN\n",
       "2015-01-07   -4.022968e-02\n",
       "2015-01-08    3.317840e-02\n",
       "2015-01-09    1.734723e-17\n",
       "Name: comporet, dtype: float64"
      ]
     },
     "execution_count": 13,
     "metadata": {},
     "output_type": "execute_result"
    }
   ],
   "source": [
    "# 前一天和當天的單期複利收益率之和\n",
    "sumcomporet=comporet+comporet.shift(1)\n",
    "sumcomporet.head()"
   ]
  },
  {
   "cell_type": "markdown",
   "metadata": {},
   "source": [
    "### 19.3 繪製收益圖\n",
    "\n",
    "計算出收益率序列後，我們可以繪製收益圖。收益圖有兩種：一種是將我們計算得到的收益率序列繪製出來，另一種則是繪製出累積收益率曲線。\n",
    "\n",
    "我們可以使用下面的程式碼來繪製收益率序列的曲線圖。"
   ]
  },
  {
   "cell_type": "code",
   "execution_count": 14,
   "metadata": {},
   "outputs": [
    {
     "name": "stderr",
     "output_type": "stream",
     "text": [
      "D:\\myProgram\\Portable Python 3.6.5 x64 R2\\App\\Python\\lib\\site-packages\\pandas\\plotting\\_matplotlib\\converter.py:103: FutureWarning: Using an implicitly registered datetime converter for a matplotlib plotting method. The converter was registered by pandas on import. Future versions of pandas will require you to explicitly register matplotlib converters.\n",
      "\n",
      "To register the converters:\n",
      "\t>>> from pandas.plotting import register_matplotlib_converters\n",
      "\t>>> register_matplotlib_converters()\n",
      "  warnings.warn(msg, FutureWarning)\n"
     ]
    },
    {
     "data": {
      "image/png": "[encoded data removed]",
      "text/plain": [
       "<Figure size 432x288 with 1 Axes>"
      ]
     },
     "metadata": {
      "needs_background": "light"
     },
     "output_type": "display_data"
    }
   ],
   "source": [
    "%matplotlib inline\n",
    "import matplotlib.pyplot as plt\n",
    "plt.rcParams['font.sans-serif'] = ['Microsoft JhengHei']\n",
    "plt.rcParams['axes.unicode_minus'] = False\n",
    "plt.plot(simpleret)\n",
    "plt.title(' 台積電收盤價的單期收益率 ')\n",
    "plt.show()"
   ]
  },
  {
   "cell_type": "markdown",
   "metadata": {},
   "source": [
    "繪製累積收益率曲線的程式碼則是："
   ]
  },
  {
   "cell_type": "code",
   "execution_count": 15,
   "metadata": {},
   "outputs": [
    {
     "data": {
      "image/png": "[encoded data removed]",
      "text/plain": [
       "<Figure size 432x288 with 1 Axes>"
      ]
     },
     "metadata": {
      "needs_background": "light"
     },
     "output_type": "display_data"
    }
   ],
   "source": [
    "# 根據單期收益率來計算累積收益率\n",
    "cumRet=(1+simpleret).cumprod()-1\n",
    "plt.plot(cumRet)\n",
    "plt.title(' 台積電收盤價的累積收益率 ')\n",
    "plt.show()"
   ]
  },
  {
   "cell_type": "markdown",
   "metadata": {},
   "source": [
    "### 19.4 資產風險的來源\n",
    "\n",
    "風險是指事件發生與否的不確定性，用在金融資產上，風險指的是獲得收益的不確定性，通常以實際收益率與期望收益率的偏離來表示。1952 年，Harry Markowitz 在「The Journal of Finance」上發表了堪稱現代金融理論里程碑的「Protfolio Selection」一文，該論文以風險資產收益率的變異數來代表風險，來研究資產組合和選取問題。從此，金融理論和實務開始重視風險在資產配置上的重要性。影響資產收益的因素有很多，而且不同資產面對的風險也不盡相同，在詳細介紹風險度量之前，我們先瞭解一下風險的來源，以加深對風險的理解。風險的來源大致可以分為市場風險、利率風險、匯率風險、流動性風險、信用風險、通貨膨脹風險和營運風險等。"
   ]
  },
  {
   "cell_type": "markdown",
   "metadata": {},
   "source": [
    "#### 19.4.1 市場風險\n",
    "\n",
    "市場風險又被稱為系統性風險，是指能夠對所有金融資產造成影響的風險，市場風險通常是源自未能預料到的、能夠對整體經濟產生巨大衝擊的大事件。市場風險對不同的金融工具影響不同，而且有些市場風險是區域性的只影響一國經濟金融；有些是全球性的，一旦爆發，各國金融市場都受到影響。歷史上，有很多次波及全球的「著名」事件，比如 1929 年美國經濟大蕭條、1970 年代的石油危機、1988 年的亞洲金融危機、2001 年美國 911 事件、2008 年全球金融海嘯、2010-2011 年歐洲主權債務危機等，都對各國金融市場造成不同程度的影響。"
   ]
  },
  {
   "cell_type": "markdown",
   "metadata": {},
   "source": [
    "#### 19.4.2 利率風險\n",
    "\n",
    "從巨觀意義上來說，利率是資金供求總量達到均衡時候的借貸價格。從微觀意義上看，利率對投資人意味著收益；而對借款人則是獲得資金的成本。對投資人來說，利率風險是指由市場利率水平的變動給金融資產帶來價值損失的風險；對借款人來說，利率風險是由於利率的變動而帶來的融資成本的波動。通常利率和金融資產的價格反向變動，比如利率的下降會降低企業的融資成本、間接增加企業的收益，進而提高企業的價值、促進企業股票價格上升；而利率升高時，投資者比較願意將錢存到銀行，降低了對風險資產的需求，導致風險資產價格的下降。利率風險對銀行業、保險業等金融機構的影響很大，比如 1960 至 1988 年間，英國的利率一直維持在比較高的水平，英國公平人壽企業銷售了約 10 萬份年金商品，預定利率為 11%，比當時銀行利率要高。隨著市場利率逐步降低，這些高預定利率年金產品給企業帶來了巨大的損失，使企業陷入危機。利率風險也會直接衝擊房地產業，比如 2008 年次貸危機的一個原因就是美國不斷升息造成房地產業不景氣。"
   ]
  },
  {
   "cell_type": "markdown",
   "metadata": {},
   "source": [
    "#### 19.4.3 匯率風險\n",
    "\n",
    "匯率是兩國貨幣之間兌換的比例，也可以說是用一國貨幣表示另一國貨幣的價格。匯率風險是指由於匯率變動而造成資產價格波動的風險。\n",
    "\n",
    "匯率風險會直接影響到部分投資者，比如專門投資外匯賺取價差的投資者。匯率風險對其他金融資產的影響主要是透過進出口貿易造成的，現在以新台幣和美元之間的匯率為例，如果新台幣升值（美元貶值），台灣出口商品到美國的企業收到的美元可以換到的新台幣變少；反之，如果新台幣貶值（美元升值），台灣從美國進口商品的企業需要用更多的新台幣才能支付同樣數量的美元，這些就是由於匯率風險而造成的損失。進出口企業的利潤會由於匯率風險而波動，進而，與這些企業相關的金融資產（股票、企業價值）等價格也會隨之起伏，因此，投資者在投資有進出口業務的企業時要尤為注意匯率風險。\n",
    "\n",
    "如果一國貨幣對其他幣種持續升值，會對本國經濟產生巨大的影響。例如，1995 年美日德法英 5 個發達經濟國家簽訂「廣場協定」導致美元持續大幅度貶值，到 1988 年，美元對日元貶值了 50%，最低曾跌到 1 美元兌 120 日元。美元的下跌對日本的影響巨大，首當其衝的就是日本以出口為主導的產業；日元升值的另一個影響是國際上很多熱錢湧入日本股市和房市，造成嚴重的泡沫經濟。1989 年，日本政府開始實施緊縮的貨幣政策，股價和房價急速下跌 50%，銀行形成大量壞帳，隨後，日本經濟進入十多年低迷期，被稱為「失落的十年」。"
   ]
  },
  {
   "cell_type": "markdown",
   "metadata": {},
   "source": [
    "#### 19.4.4 流動性風險\n",
    "\n",
    "「流動性」這個詞用在不同的地方會有不同的涵義，這裡我們指的是金融資產能夠以一個公平的價格順利變現的能力，流動性風險是指由於金融資產的變現能力不同而對投資者造成損失的可能性。\n",
    "\n",
    "不同的金融資產具有不同的流動性，比如現金的流動性最強，長期債務的流動性相對較差，而房地產等不動產變現能力最差。如果投資者持有流動性差的資產，當急需變現時，可能無法及時脫手；若要加速變現，可能要付出很大的價格折扣，因此承受的風險較大。\n",
    "\n",
    "通常，資產的價格與其流動性呈反比關係，以債券市場為例，國債的發行者是政府，信用程度高、流動性比較好，因此國債的價格較高、利率相對較低；而企業債流動性相對較差，甚至有些企業因為發行量太大且缺乏信用評等機構評估其信用水平而喪失流動性。比如，當某家上市企業出現財務狀況瀕臨破產時，它的股票可能會天天跌停而沒有人買，出現有價無市的現象，這個時候，這支股票的流動性就非常差，投資人想變現而無法。"
   ]
  },
  {
   "cell_type": "markdown",
   "metadata": {},
   "source": [
    "#### 19.4.5 信用風險\n",
    "\n",
    "信用風險又稱為違約風險，指的是債務人由於財務狀況出現問題或失信問題無法及時按合同規定償還投資人本金和孳息，致使投資者蒙受損失。\n",
    "在商業銀行的信貸業務中，信用風險是較為重要的風險因素，應該給予重點考慮。債券投資人在購買債券時，尤其購買企業債券時應該具有風險意識，防範違約風險。宣布利息違約以來，陸續出現了幾起企業債券事件，企業的信用風險逐漸分化和暴露，做為投資人，在選取債券時，要仔細研讀企業的財務報表，判斷其經營狀況。"
   ]
  },
  {
   "cell_type": "markdown",
   "metadata": {},
   "source": [
    "#### 19.4.6 通貨膨脹風險\n",
    "\n",
    "通貨膨脹是指一國物價水平的普遍上漲的經濟現象，通貨膨脹風險是因為通貨膨脹的變動對金融資產的價值造成的影響。當通貨膨脹率非預期增高時，金融投資者的投資標的的價值就會因為物價水平的上升而下降。而且當投資人的收入增加速度感不上通貨膨脹率時，其購買力就會下降，因此通貨膨脹也會影響到投資人對金融資產的需求。不過，相對而言，通貨膨脹風險對長期投資者的影響更大一些。"
   ]
  },
  {
   "cell_type": "markdown",
   "metadata": {},
   "source": [
    "#### 19.4.7 營運風險\n",
    "\n",
    "對企業來說，營運風險是指企業在執行過程中，由於其管理、經營能力而導致的利潤損失的可能性。對於金融投資者來說，營運風險是指在投資過程中因為知識能力的侷限對未來預期不準確，從而導致決策的不合理或操作不恰當使投資收益面臨損失的風險。\n",
    "\n",
    "營運風險主要表現有：一是因為資訊不對稱或資訊流通管道不通暢，導致決策者判斷失誤早成損失；二是操作上的失誤，比如作業人員由於疏忽大意或偶然遠因沒能執行決策者的意願造成損失。例如，2013 年 8 月 16 日的中國大陸股票市場的「光大證券烏龍指」事件，由於光大證券的訂單產生系統存在的缺陷，導致在 11 時 05 分 08 秒之後的 2 秒內，瞬間重複產生 26082 筆預期外的市價委託訂單（價值 234 億元人民幣的錯誤買盤），成交約 72 億造成上證綜指瞬間上漲 5.96% ，對市場產生了巨大衝擊，也使光大證券蒙受了巨大損失。"
   ]
  },
  {
   "cell_type": "markdown",
   "metadata": {},
   "source": [
    "### 19.5 資產風險的測度\n",
    "\n",
    "#### 19.5.1 變異數\n",
    "\n",
    "用變異數度量風險是由 Markowitz 在 1952 年發表其均值—變異數投資組合理論中提出，在他的理論中，金融資產的風險是用該資產收益的不確定性來度量，他借用統計學中變異數的概念來說明這種不確定性，這就是所謂的變異數風險度量方法。從此以後，風險這種主觀的感受可以用量化的方式表現出來。單個資產的風險具體可以表達為 [<sup>2</sup>](#fn2)：\n",
    "\n",
    "$$\\sigma^2(R)=\\mathrm{E}\\Big\\{\\big[R-\\mathrm{E}(R)\\big]^2\\Big\\}$$\n",
    "\n",
    "其中，$R$ 是所有可能發生的（或者已經實現的）收益率（隨機變數），$\\mathrm{E}(R)$ 為期望收益率。若收益率 $R$ 是離散分佈，則\n",
    "\n",
    "$$\\sigma^2(R)=\\sum_kp_k\\big[R_k-\\mathrm{E}(R)\\big]$$\n",
    "\n",
    "其中 $\\{R_1,R_2,...,R_k\\}$ 是收益率 $R$ 所有可能取值結果的集合，$p_k$ 是 $R$ 取值 $R_k$ 的概率。若 $R$ 服從連續分佈，則\n",
    "\n",
    "$$\\sigma^2(R)=\\int\\big[R-\\mathrm{E}(R)\\big]^2f(R)\\mathrm{d}R$$\n",
    "\n",
    "其中 $f(R)$ 為 $R$ 概率密度函數。變異數風險度量法的優點是觀念簡單、為大多數人所理解，因此應用非常廣泛。不過隨著金融風險理論的發展和經濟金融實務面臨的問題日益複雜，這種方法也察看出很大的弊端，主要表現在：\n",
    "\n",
    "1. 首先這一定偏離了風險的本意，風險往往被認為是潛在的損失，而變異數是一個中性的概念，者有向下的波動才和風險的本意相契合。向上的波動反而會使投資者獲益。無法反應風險的經濟性質，有違於投資者對風險的真實心理感受。\n",
    "2. Markowitz 在建構均值－變異數投資組合時，是將收益率看作是服從常態分佈的，捨棄收益率更高階的統計特徵（比如偏度、峰度等），只需考慮均值、變異數即可。但現實中相當多的金融產品的收益率具有明顯的偏度和峰度，繼續使用變異數度量風險而對高階動差不予考慮的話可能會產生較大的誤差。\n",
    "\n",
    "<span id=\"fn2\"><sup>2</sup> 投資組合的風險在後面章節會詳述。</span>\n",
    "\n",
    "變異數（標準差）常用來說明統計變數的性質，在 Python 中我們並不需要特別的套件即可計算變異數。舉例來說，計算標準差，比較台積電（2330）和鴻海（2317）兩支股票在 2015 到 2016 年這兩年的風險大小，具體的實作方法如下："
   ]
  },
  {
   "cell_type": "code",
   "execution_count": 20,
   "metadata": {},
   "outputs": [
    {
     "data": {
      "text/plain": [
       "0.015226686183504498"
      ]
     },
     "execution_count": 20,
     "metadata": {},
     "output_type": "execute_result"
    }
   ],
   "source": [
    "# 資料日期為 2015 年 1 月 1 日到 2016 年 12 月 30 日\n",
    "TSMC=pd.read_csv('.\\\\PythonBook_code_data\\\\part3\\\\019\\\\2330.csv',sep='\\t',index_col='Date')\n",
    "TSMC.index=pd.to_datetime(TSMC.index)\n",
    "FoxConn=pd.read_csv('.\\\\PythonBook_code_data\\\\part3\\\\019\\\\2317.csv',sep='\\t',index_col='Date')\n",
    "FoxConn.index=pd.to_datetime(FoxConn.index)\n",
    "retTSMC=ffn.to_returns(TSMC.Close).dropna()\n",
    "retFoxConn=ffn.to_returns(FoxConn.Close).dropna()\n",
    "retTSMC.std()"
   ]
  },
  {
   "cell_type": "code",
   "execution_count": 22,
   "metadata": {},
   "outputs": [
    {
     "data": {
      "text/plain": [
       "0.01340623483309677"
      ]
     },
     "execution_count": 22,
     "metadata": {},
     "output_type": "execute_result"
    }
   ],
   "source": [
    "retFoxConn.std()"
   ]
  },
  {
   "cell_type": "markdown",
   "metadata": {},
   "source": [
    "單純從標準差來看，在 2015 年和 2016 年這兩年中，台積電的風險比鴻海的風險大。"
   ]
  },
  {
   "cell_type": "markdown",
   "metadata": {},
   "source": [
    "#### 19.5.2 下檔風險"
   ]
  }
 ],
 "metadata": {
  "kernelspec": {
   "display_name": "Python 3",
   "language": "python",
   "name": "python3"
  },
  "language_info": {
   "codemirror_mode": {
    "name": "ipython",
    "version": 3
   },
   "file_extension": ".py",
   "mimetype": "text/x-python",
   "name": "python",
   "nbconvert_exporter": "python",
   "pygments_lexer": "ipython3",
   "version": "3.6.5"
  }
 },
 "nbformat": 4,
 "nbformat_minor": 4
}
