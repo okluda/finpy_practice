{
 "cells": [
  {
   "cell_type": "code",
   "execution_count": 1,
   "metadata": {
    "tags": [
     "hide_out",
     "hide_in"
    ]
   },
   "outputs": [],
   "source": [
    "# This allows multiple outputs from a single jupyter notebook cell:\n",
    "from IPython.core.interactiveshell import InteractiveShell\n",
    "InteractiveShell.ast_node_interactivity = \"all\"\n",
    "\n",
    "%matplotlib inline"
   ]
  },
  {
   "cell_type": "markdown",
   "metadata": {},
   "source": [
    "# 第35章 OBV 指標交易策略"
   ]
  },
  {
   "cell_type": "markdown",
   "metadata": {},
   "source": [
    "## 35.1 OBV 指標概念\n",
    "\n",
    "OBV 的英文全稱是 On Balance Volume，中文為能量潮，是由美國的投資解析家 Joe Granville 在 20 世紀 60 年代所創的一種技術指標，他認為市場的動能應該由成交量的變化情況來反映。成交量可以反映出市場買賣雙方的活躍情況，量是價的先行者，價格的變化與成交量有密切關係。OBV 指標從量入手來對價格的走勢來作出預測，將成交量指標化，製成趨勢線，配合股價趨勢線，從價格的變動及成交量的增減關係來推測股價變動趨勢。"
   ]
  },
  {
   "cell_type": "markdown",
   "metadata": {},
   "source": [
    "## 35.2 OBV 指標計算方法\n",
    "\n",
    "對於能量潮 OBV 的指標計算，一般有累積 OBV、移動 OBV，和成交量多空比率淨額這三種計算方式。\n",
    "\n",
    "1. 累積 OBV\n",
    "\n",
    "OBV 主要計算累積成交量，將股價上漲時的成交量進行正累加，股價下跌時的成交量進行負累加。其計算公式為：\n",
    "\n",
    "$$\\mathit{OBV}_n=\\pm V_m+\\mathit{OBV}_{n-1}.$$\n",
    "\n",
    "其中 $\\mathit{OBV}_{n}$ 和 $\\mathit{OBV}_{n-1}$ 分別是本期和前一期的 OBV 值、而 $V_n$ 則是當日的成交量。\n",
    "\n",
    "* 當本期股價上漲時，$V_n$ 的象黴式為正，$\\mathit{OBV}_{n}=\\mathit{OBV}_{n-1}+V_n$\n",
    "\n",
    "* 當本期股價下跌時，$V_n$ 的象徵式則為負，$\\mathit{OBV}_{n}\\mathit{OBV}_{n-1}-V_n$\n",
    "\n",
    "以聯發科股票的交易資料為分析對象，計算 OBV 的值。Python 程式碼如下："
   ]
  },
  {
   "cell_type": "code",
   "execution_count": 2,
   "metadata": {},
   "outputs": [
    {
     "data": {
      "text/plain": [
       "Date\n",
       "2015-01-05    2482\n",
       "2015-01-06   -3443\n",
       "2015-01-07    9699\n",
       "2015-01-08    1017\n",
       "2015-01-09    8762\n",
       "Name: OBV, dtype: int64"
      ]
     },
     "execution_count": 2,
     "metadata": {},
     "output_type": "execute_result"
    },
    {
     "data": {
      "text/plain": [
       "count       488.000000\n",
       "mean      41374.520492\n",
       "std       80542.372868\n",
       "min     -123158.000000\n",
       "25%      -17326.250000\n",
       "50%       25741.000000\n",
       "75%      122761.500000\n",
       "max      193366.000000\n",
       "Name: OBV, dtype: float64"
      ]
     },
     "execution_count": 2,
     "metadata": {},
     "output_type": "execute_result"
    }
   ],
   "source": [
    "import pandas as pd\n",
    "import numpy as np\n",
    "import matplotlib.pyplot as plt\n",
    "MediaTek = pd.read_csv('.\\\\PythonBook_code_data\\\\part5\\\\35\\\\2454.csv',sep='\\t')\n",
    "MediaTek.index = pd.to_datetime(MediaTek.Date)\n",
    "close=MediaTek.Close\n",
    "Volume=MediaTek.Volume\n",
    "# 計算OBV\n",
    "difClose=close.diff()\n",
    "difClose[0]=0\n",
    "OBV=(((difClose>=0)*2-1)*Volume).cumsum()\n",
    "OBV.name='OBV'\n",
    "OBV.head()\n",
    "OBV.describe()"
   ]
  },
  {
   "cell_type": "markdown",
   "metadata": {},
   "source": [
    "2. 移動型 OBV\n",
    "\n",
    "移動型 OBV 是由累積 OBV 進行簡單移動平均得到，一般選取 9 天或者 12 天為時間跨度，移動型 OBV 的計算公式為：\n",
    "\n",
    "$$\\mathrm{smOBV}_t=\\frac{\\mathrm{OBV}_{t}+\\mathrm{OBV}_{t-1}+...+\\mathrm{OBV}_{t-8}}{9},t=9,10,...$$\n",
    "\n",
    "用 Python 計算聯發科股票的移動型 OBV 值。"
   ]
  },
  {
   "cell_type": "code",
   "execution_count": 4,
   "metadata": {},
   "outputs": [
    {
     "ename": "NameError",
     "evalue": "name 'mv' is not defined",
     "output_type": "error",
     "traceback": [
      "\u001b[1;31m---------------------------------------------------------------------------\u001b[0m",
      "\u001b[1;31mNameError\u001b[0m                                 Traceback (most recent call last)",
      "\u001b[1;32m<ipython-input-4-d1a3c1532b4b>\u001b[0m in \u001b[0;36m<module>\u001b[1;34m\u001b[0m\n\u001b[0;32m      1\u001b[0m \u001b[1;31m# 計算移動型OBV\u001b[0m\u001b[1;33m\u001b[0m\u001b[1;33m\u001b[0m\u001b[0m\n\u001b[0;32m      2\u001b[0m \u001b[1;31m#import movingAverage as mv\u001b[0m\u001b[1;33m\u001b[0m\u001b[1;33m\u001b[0m\u001b[0m\n\u001b[1;32m----> 3\u001b[1;33m \u001b[0msmOBV\u001b[0m\u001b[1;33m=\u001b[0m\u001b[0mmv\u001b[0m\u001b[1;33m.\u001b[0m\u001b[0msmaCal\u001b[0m\u001b[1;33m(\u001b[0m\u001b[0mOBV\u001b[0m\u001b[1;33m,\u001b[0m\u001b[1;36m9\u001b[0m\u001b[1;33m)\u001b[0m\u001b[1;33m\u001b[0m\u001b[0m\n\u001b[0m\u001b[0;32m      4\u001b[0m \u001b[0msmOBV\u001b[0m\u001b[1;33m.\u001b[0m\u001b[0mtail\u001b[0m\u001b[1;33m(\u001b[0m\u001b[1;33m)\u001b[0m\u001b[1;33m\u001b[0m\u001b[0m\n",
      "\u001b[1;31mNameError\u001b[0m: name 'mv' is not defined"
     ]
    }
   ],
   "source": [
    "# 計算移動型OBV\n",
    "#import movingAverage as mv\n",
    "smOBV=mv.smaCal(OBV,9)\n",
    "smOBV.tail()"
   ]
  },
  {
   "cell_type": "markdown",
   "metadata": {},
   "source": [
    "3. 修正型 OBV\n",
    "\n",
    "此外，在計算累積成交量時，無論股價變化幅度與趨勢，當期的成交量的權重一樣；若要涵蓋價格變化幅度的訊息，一般用多空比率淨額（Volume Accumulation）來交替單純的成交量。多空比率淨額的計算公式為：\n",
    "\n",
    "$$\\mathit{VA}_n=\\mathit{VA}_{n-1}+V_n\\times\\frac{(C_n-L_n)-(H_n-C_n)}{H_n-L_n}$$\n",
    "\n",
    "其中，$V_n$ 為當日成交量，而，$H_n$、$L_n$、$C_n$，則分別是當日的最高價、最低價和收盤價。收盤價與最低價的差值表示多頭力量的強度，最高價與收盤價的差值表明空頭力量的強度，兩者之差表示多頭的淨力量幅度。用這兩個差的差值 $(C_n-L_n)-(H_n-C_n)$，與最高價與最低價的差值，$H_n-L_n$ 之比，表示多頭相對力量對於成交量的貢獻程度。\n",
    "\n",
    "接下來，用 Python 計算聯發科股票的修正型 OBV 值。"
   ]
  },
  {
   "cell_type": "code",
   "execution_count": null,
   "metadata": {},
   "outputs": [],
   "source": [
    "# 計算修正型OBV\n",
    "AdjOBV=((close-MediaTek.Low)-(MediaTek.High-close))/(MediaTek.High-MediaTek.Low)*Volume\n",
    "AdjOBV.name='AdjOBV'\n",
    "AdjOBV.head()\n",
    "AdjOBVd=AdjOBV.cumsum()\n",
    "AdjOBVd.name='AdjOBVd'\n",
    "AdjOBVd.describe()\n",
    "# 繪製能量潮線圖\n",
    "ax1.plt.subplot(3,1,1)\n",
    "close.plot(title='聯發科收盤價')\n",
    "plt.xticks(close.index[1:3],(''))\n",
    "plt.xlabel('')\n",
    "ax2=plt.subplot(3,1,2)\n",
    "OBV.plot(label='OBV',title='聯發科累積能量潮與移動能量潮')\n",
    "smOBV.plt(label='smOBV',linestyle='-.',color='r')\n",
    "plt.xlable('')\n",
    "plt.legend(loc='upper left')\n",
    "plt.xticks(close.index[1:3],(''))\n",
    "ax3=plt.subplot(3,1,3)\n",
    "AdjOBVd.plot(title='成交量多空比率淨額')\n",
    "plt.show()"
   ]
  },
  {
   "cell_type": "markdown",
   "metadata": {},
   "source": [
    "圖 35.1.收盤價與3種OBV曲線圖"
   ]
  },
  {
   "cell_type": "markdown",
   "metadata": {},
   "source": [
    "## 35.3 OBV 指標的理論依據\n",
    "\n",
    "在探討如何應用 OBV 指標進行交易策略編寫之前，我們先來談一下 OBV 指標的原理。\n",
    "\n",
    "當投資者對股價的預期不一致時，成交量往往會較大；而當投資者對股價的預期一致時，成交量的取值一般會較小。例如，當投資者都認為股價即將上漲時，買單的數量就會變多。持有股票的人卻不會賣出，賣單的數量就會很少，進而成交量也變少。反之，當一部分人預期股價上漲，另一部分預期股價下跌時，市場上的買單和賣單會維持一個較高的數量，進而使得成交量上升。\n",
    "\n",
    "根據物理學上的重力原理，物體不會一直上升，總會下跌，而且物體在上升時所需要的能量要比下降時要多。當我們把這個原理類比於股市時，會總結出一個量與價的關係：股價易跌難漲；而且股價下跌所需成交量可能小於股價上升所需成交量。\n",
    "\n",
    "根據慣性原理的思路，熱門股在相當的一段時間內都會保持較大的成交量和價格波動，而冷門股則相反。\n",
    "\n",
    "實際上，成交量代表著買賣雙方的交易總數，而股票的價格正是在這些交易中形成的。因此，在解析股價的時候，成交量與股價之問的關係不容忽視。"
   ]
  },
  {
   "cell_type": "markdown",
   "metadata": {},
   "source": [
    "## 35.4 OBV 指標的交易策略制定\n",
    "\n",
    "股價的趨勢可以透過成交量的多少來觀察，OBV 指標透過成交量的多少來體現市場的能量。下面設計一個簡單的 OBV 指標交易策略：\n",
    "\n",
    "當 OBV 指標増大時，說明累積成交量在增加，可以推測當期的價格變化為正值，當期的股價處於上升狀態；累積成交量的增大也體現出市場活躍度在増加，短期內，股票價格有可能繼續上升，釋放出買入訊號。\n",
    "\n",
    "當 OBV 指標變小時，說明累積成交量在減小，當期的價格變化為負值，當期股價是下跌的，市場的活躍度减弱；短期內，股價有可能還會下跌，釋放出賣出訊號。"
   ]
  },
  {
   "cell_type": "markdown",
   "metadata": {},
   "source": [
    "## 35.5 OBV 指標交易策略的 Python 實測\n",
    "\n",
    "按上述 OBV 指標交易策略的思路，運用 Python 進行交易實測。交易策略的思路大致如下：\n",
    "\n",
    "* 構造交易函數 trade(obv,price)，依照指標的取值情況確定買賣點訊號 signal，進而根據 signal 計算交易策略的的收益率；\n",
    "\n",
    "* 構造交易表現函數 backtest(ret,tradeRet)，繪製累積收益率曲線圖，計算年化收益率、夏普比率等。\n",
    "\n",
    "首先，我們用累積 OBV 值作為 OBV 指標的取值。"
   ]
  },
  {
   "cell_type": "code",
   "execution_count": null,
   "metadata": {},
   "outputs": [],
   "source": [
    "# 定義交易策略函數\n",
    "import ffn\n",
    "def trade(obv,price):\n",
    "    signal=(2*(obv.diff()>0)-1)[1:]\n",
    "    ret=ffn.to_returns(price)[1:]\n",
    "    ret.name='ret'\n",
    "    tradeRet=ret*signal.shift(1)\n",
    "    tradeRet.name='tradeRet'\n",
    "    Returns=pd.merge(pd.DataFrame(ret),\\\n",
    "                     pd.DataFrame(tradeRet),\\\n",
    "                     left_index=True,right_index=True).dropna()\n",
    "    return(Returns)\n",
    "# OBV指標交易策略\n",
    "OBVtrade=trade(OBV,close)\n",
    "OBVtrade.head()\n",
    "# 評價交易策略表現\n",
    "ret=OBVtrade.ret\n",
    "tradeRet=OBVtrade.tradeRet\n",
    "ret.name='BuyAndHold'\n",
    "tradeRet.name='OBVTrade'\n",
    "(1+ret).cumprod().plt(label='ret',linestyle='dashed')\n",
    "(1+tradeRet).cumprod().plt(label='tradeRet')\n",
    "plt.title('累積OBV交易策略績效表現')\n",
    "plt.legend()\n",
    "plt.show()\n",
    "# 定義交易表現函數\n",
    "def backtest(ret,tradeRet):\n",
    "    def performance(x):\n",
    "        winpct=len(x[x>0])/len(x[x!=0])\n",
    "        annRet=(1+x).cumprod()[-1]**(245/len(x))-1\n",
    "        sharpe=ffn.calc_risk_return_ratio(x)\n",
    "        maxDD=ffn.calc_max_drawdown((1+x).cumprod())\n",
    "        perfo=pd.Series([winpct,annRet,sharpe,maxDD],index=['win rate','annualized return','sharpe ratio','maximum drawdown'])\n",
    "        return(perfo)\n",
    "    BuyAndHold=performance(ret)\n",
    "    OBVTrade=performance(tradeRet)\n",
    "    return(pd.DataFrame({ret.name:BuyAndHold,\\\n",
    "            tradeRet.name:OBVTrade}))\n",
    "# OBV 指標交易表現\n",
    "OBVtest=backtest(ret,tradeRet)\n",
    "OBVtest"
   ]
  },
  {
   "cell_type": "markdown",
   "metadata": {},
   "source": [
    "圖 35.2：累積OBV交易策略耫效表現圖\n",
    "\n",
    "接著，用移動 OBV 值作為 OBV 指標的取值。"
   ]
  },
  {
   "cell_type": "code",
   "execution_count": null,
   "metadata": {},
   "outputs": [],
   "source": [
    "smOBVtrade=trade(smOBV,close)\n",
    "smOBVtrade.head(n=3)\n",
    "ret=smOBVtrade.ret\n",
    "ret.name='BuyAndHold'\n",
    "smtradeRet=smOBVtrade.tradeRet\n",
    "(1+ret).cumprod().plot(label='ret',linestyle='dashed')\n",
    "(1+tradeRet).cumprod().plot(label='tradeRet')\n",
    "plt.title('移動OBV交易策略績效表現')\n",
    "plt.legend()\n",
    "plt.show()\n",
    "test=backtest(ret,smtradeRet)\n",
    "test"
   ]
  },
  {
   "cell_type": "markdown",
   "metadata": {},
   "source": [
    "圖 35.3：移動OBV交易策略績效表現圖"
   ]
  },
  {
   "cell_type": "markdown",
   "metadata": {},
   "source": [
    "## 35.6 OBV 指標的應用原則\n",
    "\n",
    "根據 OBV 指標的原理，股價的趨勢是透過成交量的多少來體現。成交量的多與少是一種相對概念，將 OBV 值與過去的 OBV 值進行比對，才能對成交量的多少做出更合理的判斷。觀察 OBV 曲線與股價的趨勢，對未來的價格變動做出較為客觀的預測。在使用 OBV 指標時應該注意幾個原則：\n",
    "\n",
    "* OBV 曲線上升但是股價下降：表明在股價下跌時仍有成交量卻在上升，逐漸提高的成交量表明投資者對該股的信心不斷增強，釋放出買進的訊號。\n",
    "\n",
    "* OBV 曲線下降而股價上漲：股價仍在上升，成交量卻在縮小，表明投資者對其逐漸喪失信心，該股很可能已接近頂點，即將下跌。\n",
    "\n",
    "* OBV 曲線穩步上升，同時股價上漲：表明行情穩步向上，股價仍有上漲空問，中長期走勢良好。\n",
    "\n",
    "* OBV 曲線緩慢下降，同時股價下跌：則表明行情不佳，股價仍會繼續下跌，投資者應賣出股票或暫時觀望。\n",
    "\n",
    "* 兩種極端情況：OBV 曲線快速上升的現象表明買盤迅速湧入，持續性不強，股價在短暫的拉升後可能會迅速下跌；OBV 曲線快速下降的現象則表明賣盤迅速湧入，但是隨後仍有可能會有一段較長的下跌，投資者應以觀望為主。\n",
    "\n",
    "上面介紹的只是使用 OBV 指標時，所應參照的幾點原則，實際使用時依據這些原則不一定會獲利。本書建議讀者結合其他指標綜合解析，而不是僅依靠單一指標，對行情的研判才能更加周延。"
   ]
  }
 ],
 "metadata": {
  "kernelspec": {
   "display_name": "Python 3",
   "language": "python",
   "name": "python3"
  },
  "language_info": {
   "codemirror_mode": {
    "name": "ipython",
    "version": 3
   },
   "file_extension": ".py",
   "mimetype": "text/x-python",
   "name": "python",
   "nbconvert_exporter": "python",
   "pygments_lexer": "ipython3",
   "version": "3.6.5"
  }
 },
 "nbformat": 4,
 "nbformat_minor": 4
}
