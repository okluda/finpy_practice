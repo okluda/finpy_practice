{
 "cells": [
  {
   "cell_type": "code",
   "execution_count": null,
   "metadata": {
    "tags": [
     "hide_out",
     "hide_in"
    ]
   },
   "outputs": [],
   "source": [
    "# This allows multiple outputs from a single jupyter notebook cell:\n",
    "from IPython.core.interactiveshell import InteractiveShell\n",
    "InteractiveShell.ast_node_interactivity = \"all\"\n",
    "\n",
    "%matplotlib inline"
   ]
  },
  {
   "cell_type": "markdown",
   "metadata": {},
   "source": [
    "# 第34章 量價關係解析"
   ]
  },
  {
   "cell_type": "markdown",
   "metadata": {},
   "source": [
    "## 34.1 量價關係簡介\n",
    "\n",
    "「量」有成交量、成交金額、換手率等多種表現形式，「量」一般指交易市場中某種證券「例如股票、期貨等」在某一特定時期內的交易數量。成交量體現了市場中多空方力量博弈，對於股票來說，一般以股票交易的股數大小來表示成交量的多少。在台灣證券交易所，成交的股數一般以「張」為單位，一張為 1000 股，在證券交易時，最少交易量為 1 張。「成交金額」指某種證券（例如股票）在交易巿場中成交的金額，成交額直接體現了某種股票市場交易的資金量。「換手率」指股票的每日成交量與股票的流通股本的比值，主要體現個股的流動性和活躍度。\n",
    "\n",
    "「價」指證券的交易價格，對於股票來說，價格一般指股票的收盤價，除了收盤價以外，股票還有開盤價、最高價、最低價和調整價格等其他價格。成交量是市場供求的一種表現，當巿場供不應求時，即市場利好於多方力量時，投資者會紛紛進入市場購買股票，成交量會增加。另一方面，市場處於冷清狀態時，股票的買方力量薄弱，購買量較少，成交量可能會減小。成交量是市場中的主要動能，而價格則是巿場多空方力量的最終體現。一般來說，低成交量會伴隨著價格的小幅度降低，高的交量會引出價格的上升。成交量較大且價格上升時，巿場處於看好趨勢；成交量較小且價格再降低，市場可能處於盤整期或者看跌狀態。"
   ]
  },
  {
   "cell_type": "markdown",
   "metadata": {},
   "source": [
    "## 34.2 量價關係解析在\n",
    "\n",
    "股票市場中，量價關係不僅僅只有量高價漲和量低價跌這種簡單的形式。上漲行情中，價格上漲有可能對應著成交量下跌；在下跌行情中，價格下跌反而對應著成交量上漲。不同的市場環境有著不同的量價對應關係，不同的量價對應關係也會有不同的巿場表現。一般來說，成交量可以上漲、可以下跌，也可以持平，對於價格來說，價格也有上升、下降和持平這三種情形，每一個成交量的狀態都可以與價格的三種變化形態相聯繫，進而量和價一共有九種對應關係。接下來我們介紹幾種常見的「量價關係」形態。在解析「量價」關係形態時，我們需要意識到，「量價」關係形態只是市場行情中某一局部資訊的體現，在投資實戰中還需結合其他形態或指標進行綜合考量。"
   ]
  },
  {
   "cell_type": "markdown",
   "metadata": {},
   "source": [
    "## 34.2.1 價漲量增\n",
    "\n",
    "「價漲量増」是指價格與成交量同時増加，或者價格隨著成交量的増加而增加。價漲量増主要出現在上漲行情中，成交量的增加預示著股票價格上升的動能増強，股票價格會繼續走高。在中長期的價漲量増的關係中，中長期處於上升行情，股票市場的短期降價回調都是一個入場的好機會。價漲量增還可能在下跌行情底部回升時，在下跌行情底部出現價漲量増時，市場上有出現了諸多利好因素，說明股票價格未來處於回升階段，投資者若底部入場，等到價格上漲行情湧現時，則可能會獲取一筆盈利。\n",
    "\n",
    "圖 34.1：價漲量增\n",
    "\n",
    "如圖 34.3 所示，解析味全 2015 年 4 月 16 日到 19 日的Ｋ線和成交量圖，可以看出，價格上漲的同時成交量也在上漲，成交量越大時，價格上漲的幅度越大。"
   ]
  },
  {
   "cell_type": "code",
   "execution_count": 2,
   "metadata": {},
   "outputs": [
    {
     "name": "stdout",
     "output_type": "stream",
     "text": [
      "            Close   Open   High    Low  Volume\n",
      "Date                                          \n",
      "2014-01-02  50.47  51.76  51.86  50.28     918\n",
      "2014-01-03  50.37  50.67  50.67  49.98     798\n",
      "2014-01-06  49.78  50.37  50.37  49.58     836\n",
      "2014-01-07  49.98  49.88  50.18  49.68     734\n",
      "2014-01-08  49.49  50.18  50.18  49.39    1321\n"
     ]
    }
   ],
   "source": [
    "# 抓取味全的日度交易資料\n",
    "import pandas as pd\n",
    "import numpy as np\n",
    "WeiChuan=pd.read_csv('.\\\\PythonBook_code_data\\\\part5\\\\34\\\\1201.csv',sep='\\t',index_col='Date')\n",
    "WeiChuan.index=pd.to_datetime(WeiChuan.index)\n",
    "print(WeiChuan.head())"
   ]
  },
  {
   "cell_type": "markdown",
   "metadata": {},
   "source": [
    "為了方便繪製Ｋ線與成交量柱狀圖，首先定義一個函數 candleVolume()，函數形式如下：\n",
    "\n",
    "`candleVolume(seriesData,candletitle='a',bartitle='b')`\n",
    "\n",
    "* 參數 seriesData：資料為 DataFrame 類別，以日期為 index，含有收盤價、最高價、開盤價、最低價以及成交量資料；\n",
    "\n",
    "* 參數 candletitle：表示Ｋ線圖的標題；\n",
    "\n",
    "* 參數 bartitle：表示成交量柱狀圖的標題。\n",
    "\n",
    "candleVolume() 函數具體定義如下："
   ]
  },
  {
   "cell_type": "code",
   "execution_count": 3,
   "metadata": {},
   "outputs": [
    {
     "ename": "ModuleNotFoundError",
     "evalue": "No module named 'matplotlib.finance'",
     "output_type": "error",
     "traceback": [
      "\u001b[1;31m---------------------------------------------------------------------------\u001b[0m",
      "\u001b[1;31mModuleNotFoundError\u001b[0m                       Traceback (most recent call last)",
      "\u001b[1;32m<ipython-input-3-f71e4289350b>\u001b[0m in \u001b[0;36m<module>\u001b[1;34m\u001b[0m\n\u001b[0;32m      3\u001b[0m \u001b[1;32mfrom\u001b[0m \u001b[0mmatplotlib\u001b[0m\u001b[1;33m.\u001b[0m\u001b[0mdates\u001b[0m \u001b[1;32mimport\u001b[0m \u001b[0mDateFormatter\u001b[0m\u001b[1;33m,\u001b[0m \u001b[0mWeekdayLocator\u001b[0m\u001b[1;33m,\u001b[0m\u001b[0;31m\\\u001b[0m\u001b[1;33m\u001b[0m\u001b[0m\n\u001b[0;32m      4\u001b[0m     \u001b[0mDayLocator\u001b[0m\u001b[1;33m,\u001b[0m \u001b[0mMONDAY\u001b[0m\u001b[1;33m,\u001b[0m \u001b[0mdate2num\u001b[0m\u001b[1;33m\u001b[0m\u001b[0m\n\u001b[1;32m----> 5\u001b[1;33m \u001b[1;32mfrom\u001b[0m \u001b[0mmatplotlib\u001b[0m\u001b[1;33m.\u001b[0m\u001b[0mfinance\u001b[0m \u001b[1;32mimport\u001b[0m \u001b[0mcandlestick_ohlc\u001b[0m\u001b[1;33m\u001b[0m\u001b[0m\n\u001b[0m\u001b[0;32m      6\u001b[0m \u001b[1;32mimport\u001b[0m \u001b[0mnumpy\u001b[0m \u001b[1;32mas\u001b[0m \u001b[0mnp\u001b[0m\u001b[1;33m\u001b[0m\u001b[0m\n\u001b[0;32m      7\u001b[0m \u001b[1;31m#plt.rcParams['font.sans-serif'] = ['Microsoft JhengHei']\u001b[0m\u001b[1;33m\u001b[0m\u001b[1;33m\u001b[0m\u001b[0m\n",
      "\u001b[1;31mModuleNotFoundError\u001b[0m: No module named 'matplotlib.finance'"
     ]
    }
   ],
   "source": [
    "import pandas as pd\n",
    "import matplotlib.pyplot as plt\n",
    "from matplotlib.dates import DateFormatter, WeekdayLocator,\\\n",
    "    DayLocator, MONDAY, date2num\n",
    "from matplotlib.finance import candlestick_ohlc\n",
    "import numpy as np\n",
    "#plt.rcParams['font.sans-serif'] = ['Microsoft JhengHei']\n",
    "#plt.rcParams['axes.unicode_minus'] = False\n",
    "def candleVolume(SeriesData,candletitle='a',bartitle=''):\n",
    "    Date=[date2num(date) for date in seriesData.index]\n",
    "    seriesData.index=list(range(len(Date)))\n",
    "    seriesData['Date']=Date\n",
    "    listData=zip(seriesData.Date,seriesData.Open,SeriesData.High,seriesData.Low,seriesData.Close)\n",
    "    ax1 = plt.subplot(211)\n",
    "    ax2 = plt.subplot(212)\n",
    "    for ax in ax1,ax2:\n",
    "        mondays = WeekdayLocator(MONDAY)\n",
    "        weekFormatter = DateFormatter('%m/%d/%Y')\n",
    "        ax.xaxis.set_major_locator(mondays)\n",
    "        ax.xaxis.set_minor_locator(DayLocator())\n",
    "        ax.xaxis.set_major_formatter(weekFormatter)\n",
    "        ax.grid(True)\n",
    "    ax1.set_ylim(seriesData.Low.min()-2,seriesData.High.max()+2)\n",
    "    ax1.set_ylabel('蠟燭圖及收盤價線')\n",
    "    candlestick_ohlc(ax1,listData,width=0.7,colorup='r',colordown='g')\n",
    "    plt.setp(plt.gca().get_xticklabels(),\\\n",
    "            rotation=20,horizontalalignment='center')\n",
    "    ax1.autoscale_view()\n",
    "    ax1.set_title(candletitle)\n",
    "    ax1.plot(seriesData.Date,seriesData.Close,\\\n",
    "                color='black',label='收盤價')\n",
    "    ax1.legend(loc='best')\n",
    "    ax2.set_ylabel('成交量')\n",
    "    ax2.set_ylim(0,seriesData.Volume.max()*3)\n",
    "    ax2.bar(np.array(Date)[np.array(seriesData.Close>=seriesData.Open)],height=seriesData.iloc[:,4][np.array(seriesData.Close>=seriesOpen)],color='r',align='center')\n",
    "    ax2.bar(np.array(Date)[np.array(seriesData.Close<seriesData.Open)],height=seriesData.iloc[:,4][np.array(seriesData.Close<seriesData.Open)],color='g',align='center')\n",
    "    ax2.set_title(bartitle)\n",
    "    return(plt.show())"
   ]
  },
  {
   "cell_type": "markdown",
   "metadata": {},
   "source": [
    "將上述 candleVolume() 函數的定義程式碼擺入之前定義的 candle 模組內，透過滙入 candle 模組來呼叫此函數。若繪製味全 2015 年 4 月份的Ｋ線與成交量圖，則透過以下方式："
   ]
  },
  {
   "cell_type": "code",
   "execution_count": null,
   "metadata": {},
   "outputs": [],
   "source": [
    "# 從 candle 模組中滙入 candleVolume() 函數\n",
    "from candle import candleVolume\n",
    "candleVolume(WeiChuan['2014-07'],candletitle='味全2014年7月份蠟燭圖',bartitle='味全2014年7月份日成交量')"
   ]
  },
  {
   "cell_type": "markdown",
   "metadata": {},
   "source": [
    "### 34.2.2 價漲量平\n",
    "\n",
    "「價漲量平」表明當價格在持續上漲時，股票的成交量卻不再上漲而處於持平狀態。通常成交量的變化會帶動價格的變化，當成交量變化不大時，市場中價格上漲的動能有可能會不再増加。價漲量平體現出一種量價背離關係，量價的背離釋放出市場可能反轉的訊號。上漲行情中價格持續上漲，成交量保持不變，可能預示著價格即將到達頂部。如果成交量繼續持平或者減少，價格可能會從頂部反轉為下跌態勢。此外，價漲量平的量價背離不一定都是反轉情形，市場也有可能處於調整期。市場經過一番調整後，有可能會出現價漲量平的情形。還有一種情形是，當價格上漲過猛（例如價格連續多天漲停），投資者對市場一致看好，買盤很多，但賣盤很少，成交量呈現比對溫和的狀態，此時成交量會失去反映市場動能的意義。"
   ]
  },
  {
   "cell_type": "code",
   "execution_count": null,
   "metadata": {},
   "outputs": [],
   "source": [
    "# 截取味全股票2014年12月到2015年1月的日度交易資料；\n",
    "WeiChuan2=WeiChuan['2014-12':'2015-01']\n",
    "candleVolume(WeiChuan2,candletitle='味全2014年12月和2015年1月份蠟燭圖',\\\n",
    "            bartitle='味全2014年12月和2015年1月份日成交量')"
   ]
  },
  {
   "cell_type": "markdown",
   "metadata": {},
   "source": [
    "觀察味全 2014 年 12 月 23 日附近的蠟燭圖和成交量，股價在上漲，而成交量較低而且變化不大，價格上漲的動能較小，到 2014 年 12 月 29 日以後，價格幾乎也持平，然後再轉變成下跌趨勢。"
   ]
  },
  {
   "cell_type": "markdown",
   "metadata": {},
   "source": [
    "### 34.2.3 價漲量縮\n",
    "\n",
    "「價漲量縮亅表示價格上漲成交量卻在縮小，「價漲量縮」也是一種量價背離關係。市場橫盤調整完有可能會出現價漲量縮的情形，一些投資者會賣出股票離開市場。盤整結束後，市場初期行情看好，價格上漲，但賣盤較少，成交量呈現收縮的情形。"
   ]
  },
  {
   "cell_type": "code",
   "execution_count": null,
   "metadata": {},
   "outputs": [],
   "source": [
    "# 截取味全股票2014年2月份的日度交易資料\n",
    "# 畫Ｋ線圖\n",
    "candleVolume(WeiChuan['2014-02'],candletitle='味全2014年2月份蠟燭圖',\\\n",
    "            bartitle='味全2014年2月份日成交量')"
   ]
  },
  {
   "cell_type": "markdown",
   "metadata": {},
   "source": [
    "圖 34.3.價漲量縮\n",
    "\n",
    "觀察味全 2014 年 2 月份的Ｋ線圖，如圖 34.3 所示，2 月初價格出於上升趨勢，而對應的成交量卻在減少，直到 2 月 12 日，價格不再上升而是出現小幅下跌。成交量雖然處於下降狀態，但依舊很高，這說明價格上升的動能減少，價格處於緩慢上升的趨勢。等到 2 月 14 日，成交量突然放大，價格進而又轉頭向上。"
   ]
  },
  {
   "cell_type": "markdown",
   "metadata": {},
   "source": [
    "### 34.2.4 價平量增\n",
    "\n",
    "「價平量增」一般出現在下跌行情的底部可能反轉的情形中。在下跌行情中，價格不再下跌而是持平，成交量増大，市場中出現了一些利好訊息，多方力量逐漸増強，多方投資者預測到未來行情可能出現向上走勢，在低位進場推動成交量上漲。此外，在上漲行情中，「價平量增」可能表明市場出現「高位滯漲」情形，價格處在高位段時，價格不再上漲，而成交量卻在增加。\n",
    "\n",
    "圖 34.4：價平量増"
   ]
  },
  {
   "cell_type": "code",
   "execution_count": null,
   "metadata": {},
   "outputs": [],
   "source": [
    "candleVolume(WeiChuan['2014-08'],candletitle='味全2014年8月份蠟燭圖',\\\n",
    "            bartitle='味全2014年8月份日成交量')"
   ]
  },
  {
   "cell_type": "markdown",
   "metadata": {},
   "source": [
    "### 34.2.5 價平量縮\n",
    "\n",
    "「價平量縮」形態一般出現在新一輪的上漲行情初期，價格保持穩定而成交量在減少。當巿場進行調整時，可能會出現「價平量縮」的情形。"
   ]
  },
  {
   "cell_type": "code",
   "execution_count": null,
   "metadata": {},
   "outputs": [],
   "source": [
    "candleVolume(WeiChuan['2014-03'],candletitle='味全2014年3月份蠟燭圖',\\\n",
    "            bartitle='味全2014年3月份日成交量')"
   ]
  },
  {
   "cell_type": "markdown",
   "metadata": {},
   "source": [
    "### 34.2.6 價跌量增\n",
    "\n",
    "「價跌量増」指成交量増加的情況下，股票價格反而下跌。「價跌量增」形態一般出現在市場高價位下跌行情的初期，價格下跌表明投資者不看好市場，賣方力量較大，投資者大量賣出股票。「價跌量增」形態出現的另一種可能情形是在市場下跌末期，市場中做多力量慢慢增強時，成交量會增加，但是多空力量的較量還不至於抬高股價，價格依舊下跌。"
   ]
  },
  {
   "cell_type": "code",
   "execution_count": null,
   "metadata": {},
   "outputs": [],
   "source": [
    "candleVolume(WeiChuan['2014-01':'2014-03'],candletitle='味全2014年前3個月份蠟燭圖',\\\n",
    "            bartitle='味全2014年前3個月份日成交量')"
   ]
  },
  {
   "cell_type": "markdown",
   "metadata": {},
   "source": [
    "### 34.2.7 價跌量平\n",
    "\n",
    "「價跌量平」表示價格下跌時，成交量保持定態狀態。在下跌行情中，價跌量平釋放出趨勢回穩的訊號，但無法預測後市的價格走勢。如果「價跌量平」跟隨在「價平量平」的後面，這種情形預示著投資者可能要考慮及時出逃。"
   ]
  },
  {
   "cell_type": "markdown",
   "metadata": {},
   "source": [
    "### 34.2.8 價跌量縮\n",
    "\n",
    "「價跌量縮」形態表明股價下跌的同時成交量也在收縮。當市場處於盤整階段，市場價格下跌，一部分投資者逃離市場，會出現「價跌量縮」的情形。另一方面，在單邊下跌行情階段，「價跌量跌」形態體現出市場即將出現止跌的情形，空方力量逐漸耗盡，市場中賣出量較小，成交量也在減小。此外，在單邊下跌行情階段，市場行情不好，買方力量極弱，也會出現出「價跌量縮」的情形。\n",
    "\n",
    "圖34.5：價跌量增、價跌量平和價跌量縮\n",
    "\n",
    "觀察味全股票 2014 年前 3 個月的Ｋ線圖，價格整體上處於下跌行情中，1 月份初，價格有一個明顯的下跌趨勢。從短期看，出現了「價跌量縮」的形態，接著股票價格上漲，成交量也略微增加，而後成交量繼續下跌，股價也跟著處於下跌行情中。2 月中旬，股價和成交量呈現出「價跌量增」的形態，市場處於下跌趨勢。「價跌量增」形態以後，股價大幅下跌，成交量也處於縮量狀態，市場短期盤整以後繼續下跌。3 月末期，股價下跌的同時，成交量變化較小，出現了「價跌量平」的形態。"
   ]
  },
  {
   "cell_type": "markdown",
   "metadata": {},
   "source": [
    "## 34.3 不同價格段位的成交量\n",
    "\n",
    "由量價關係情況可以看出，上漲行情初期和末期的成交量會有所不同，市場橫盤調整期的成交量也有差異，在不同價格區問內，累積成交量是不是也有所不同？我們用 Python 寫程式來探討味全股票的量價關係情況。"
   ]
  },
  {
   "cell_type": "code",
   "execution_count": null,
   "metadata": {},
   "outputs": [],
   "source": [
    "# 抓取收盤價資料\n",
    "close=WeiChuan.Close\n",
    "close.decribe()\n",
    "# 調整收盤價資料\n",
    "BreakClose=np.ceil(close/3)*3\n",
    "BreakClose.name='BreakClose'\n",
    "pd.DataFrame({'BreakClose':BreakClose,\\\n",
    "            'Close':close}).head(n=2)\n",
    "# 抓取成交量資料\n",
    "volume=WeiChuan.Volume\n",
    "# 計算價格變化量\n",
    "PrcChange=close.diff()\n",
    "# 選取價格増大所對應交易日期的成交量\n",
    "UpVol=volume.replace(volume[PrcChange<0],0)\n",
    "UpVol[0]=0\n",
    "# 抓取價格下降所對應交易日期的成交量\n",
    "DownVol=volume.replace(volume[PrcChange>=0],0)\n",
    "DownVol[0]=0\n",
    "# 建構函數，計算價格變化區間中的成交量之和\n",
    "def VOblock(vol,BreakClose=BreakClose):\n",
    "    return([np.sum(vol[BreakClose==x]) for x in np.unique(BreakClose)])\n",
    "# 計算價格變化區間中的價格上漲日期的成交量之和\n",
    "cumUpVol=VOblock(UpVol)\n",
    "# 計算價格變化區間中的價格下跌日期成交量之和\n",
    "cumDownVol=VOblock(DownVol)\n",
    "# 按照行來合併VOP、VON資料\n",
    "ALLVol=np.array([cumUpVol,cumDownVol]).transpose()\n",
    "# 繪製價格變化量折線圖並在原圖的基礎上畫新的柱狀圖\n",
    "import matplotlib.pyplot as plt\n",
    "fig,ax=plt.subplots()\n",
    "ax1=ax.twiny()\n",
    "ax.plot(close)\n",
    "ax.set_title('不同價格區間的累積成交量圖')\n",
    "ax.set_ylabel('價格')\n",
    "ax.set_ylim(16,52)\n",
    "ax.set_xlabel('時間')\n",
    "plt.setp(ax.get_xticklabels(),rotation=20,horizontalalignment='center')\n",
    "ax1.barh(bottom=range(16,52,3),width=ALLVol[:,0],\\\n",
    "        height=3,color='g',alpha=0.2)\n",
    "ax1.barh(bottom=range(16,52,3),width=ALLVol[:,1],\\\n",
    "        height=3,left=ALLVol[:,0],color='r',alpha=0.2)\n",
    "plt.show()"
   ]
  },
  {
   "cell_type": "markdown",
   "metadata": {},
   "source": [
    "圖 34.6：不同價格區間的成交量條形圖\n",
    "\n",
    "觀察圖 34.6，整體上看，在不同的價格區間，價漲的累積成交量會比價跌的累成交量大。再觀察味全收盤價時序圖，味全的價格在 16 到 50 元之間變動，價格處在最低段（16 元附近）和最高段（50 元附近）的累積成交量都相對較小。"
   ]
  },
  {
   "cell_type": "markdown",
   "metadata": {},
   "source": [
    "## 34.4 成交量與均線思想結合制定交易策略\n",
    "\n",
    "在本小節，我們嘗試結合均線思想，運用成交量與價格資料制定交易策略，具體交易步驟如下：\n",
    "\n",
    "獲取成交量資料 volume，計算成交量的 5 日簡單移動平均數 VolSMA5 和 10 日簡單移動平均數 VolSMA10，然後計算成交量均值 VolSMA，VolSMA的計算公式為：\n",
    "\n",
    "$$\\mathrm{VolSMA}=\\frac{\\mathrm{VolSMA5}+\\mathrm{VolSMA10}}{2}.$$\n",
    "\n",
    "獲取價格資料，計算價格 5 日簡單移動均數和 12 日簡單移動平均數。根據成交量制定成交量訊號，當成交量 volume 大於成交量均值 VolSMA 時，釋放出買入訊號；當成交量 volume 小於等於成交量均值 VolSMA 時，釋放出賣出訊號；根據價格 5 日均線和 12 日均線制定交易訊號，當 5 日均線向上穿破 20 日均線時，釋放出買入訊號；當 5 日均線向下穿破 12 日均線時，釋放出賣出訊號；合併成交量交易訊號與均線交易訊號，當成交量與均線都釋放出買入訊號時，才買入；當兩者都釋放出賣出訊號時，才賣出、進行交易策略評價。\n",
    "\n",
    "用 Python 實現這一交易策略，具體程式碼如下："
   ]
  },
  {
   "cell_type": "code",
   "execution_count": null,
   "metadata": {},
   "outputs": [],
   "source": [
    "# 抓取成交量資料\n",
    "volume=WeiChuan.Volume\n",
    "# 求成交量均值 VolSMA\n",
    "VolSMA5=pd.rolling_apply(volume,5,np.mean).dropna()\n",
    "VolSMA10=pd.rolling_apply(volume,10,np.mean).dropna()\n",
    "VolSMA=((VolSMA5+VolSMA10)/2).dropna()\n",
    "VolSMA.head(n=3)\n",
    "# 制定成交量交易訊號\n",
    "VolSignal=(volume[-len(VolSMA):]>VolSMA)*1\n",
    "VolSignal[VolSignal==0]=-1\n",
    "VolSignal.head()\n",
    "# 計算價格5日和12日簡單移動平均數\n",
    "close=WeiChuan.Close\n",
    "PrcSMA5=pd.rolling_apply(close,5,np.mean).dropna()\n",
    "PrcSMA12=pd.rolling_apply(close,12,np.mean).dropna()\n",
    "# 定義向上突破函數\n",
    "def upbreak(Line,RefLine):\n",
    "    signal=np.all([Line>RefLine,Line.shift(1)<RefLine.shift(1)],axis=0)\n",
    "    return(pd.Series(signal[1:],index=Line.index[1:]))\n",
    "# 定義向下突破函數\n",
    "def downbreak(Line,RefLine):\n",
    "    signal=np.all([Line<RefLine,Line.shift(1)>RefLine.shift(1)],axis=0)\n",
    "    return(pd.Series(signal[1:],index=Line.index[1:]))\n",
    "# 捕捉價格5日均線向下突破12日均線的日期\n",
    "UpSMA=upbreak(PrcSMA5[-len(PrcSMA12):],PrcSMA12)*1\n",
    "DownSMA=downbreak(PrcSMA5[-len(PrcSMA12):],PrcSMA12)*(-1)\n",
    "SMAsignal=UpSMA+DownSMA\n",
    "# 對成交量訊號與價格均線訊號進行加總\n",
    "VolSignal=VolSignal[-len(SMASignal):]\n",
    "signal=VolSignal+SMAsignal\n",
    "signal.describe()\n",
    "# 當成交量和價格信號都為1時，才進行買入；\n",
    "# 當成交量和價格信號都為-1時，才進行賣出。\n",
    "trade=signal.replace([2,-2,1,-1,0],[1,-1,0,0,0])\n",
    "trade=trade.shift(1).dropna()\n",
    "trade.head()"
   ]
  },
  {
   "cell_type": "markdown",
   "metadata": {},
   "source": [
    "最後進行模擬交易，此次交易既可以做多也可以做空股票，做多時，最多持有股票不超過 5 張；做空畤，最多借入股票也不超過 5 張。\n",
    "\n",
    "具體操作為，當 trade 的取值為 1 時，買入股票。買入時、單次買入 1 張股票，當持有股票張數等於 5 張時，不再進行買入股票，但可以賣出股票。當 trade 的取值為 -1 時、賣出股票，如果當前沒有持有股票，則做空賣出股票，當做空 5 張股票以後，不再進行繼續做空，可以買入股票。"
   ]
  },
  {
   "cell_type": "code",
   "execution_count": null,
   "metadata": {},
   "outputs": [],
   "source": [
    "def TradeSim(price,signal,initial=200000):\n",
    "    share=pd.Series(np.zeros(len(signal)),index=price.index)\n",
    "    cash=initial*np.ones(len(signal))\n",
    "    for i in range(1,len(signal)):\n",
    "        cash[i] = cash[i-1]\n",
    "        share[i] = share[i-1]\n",
    "        case1 = (share[i]>=5000)&(signal[i] ==-1)\n",
    "        case2 = (share[i]<=-5000)&(signal[i] ==1)\n",
    "        case3 = (share[i]!=0)&(abs(signal[i])<5000)\n",
    "        if any([case1,case2,case3]):\n",
    "            cash[i] -= signal[i]*price[i]*1000\n",
    "            share[i] += signal[i]*1000\n",
    "    asset=cash+price*share\n",
    "    asset.name='asset'\n",
    "    account=pd.DataFrame({'asset':asset,'cash':cash,'share':share})\n",
    "    return(account)\n",
    "\n",
    "TradeAccount=TradeSim(close[trade.index],trade)\n",
    "TradeAccount.tail()\n",
    "# 繪製賬戶曲線圖\n",
    "TradeAccount.plot(subplots=True,\\\n",
    "        title='味全量價關係策略交易帳戶表現')\n",
    "plt.show()"
   ]
  },
  {
   "cell_type": "markdown",
   "metadata": {},
   "source": [
    "圖 34.7：交易賬戶曲線圖"
   ]
  }
 ],
 "metadata": {
  "kernelspec": {
   "display_name": "Python 3",
   "language": "python",
   "name": "python3"
  },
  "language_info": {
   "codemirror_mode": {
    "name": "ipython",
    "version": 3
   },
   "file_extension": ".py",
   "mimetype": "text/x-python",
   "name": "python",
   "nbconvert_exporter": "python",
   "pygments_lexer": "ipython3",
   "version": "3.6.5"
  }
 },
 "nbformat": 4,
 "nbformat_minor": 4
}
