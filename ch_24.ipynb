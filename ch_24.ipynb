{
 "cells": [
  {
   "cell_type": "markdown",
   "metadata": {},
   "source": [
    "## 24 時間序列的基本性質\n",
    "\n",
    "古希歷史學家修昔底德曾這樣說過：「歷史會重演」。投資界也是如此。1630 年左右荷蘭發生了著名的「鬱金香泡沫」事件，當時由奧斯曼土耳其引進的鬱金香球根供需不平衡，這種現象引起了投機者的注意，他們開始囤積鬱金香球根以期價格提高，投機者的行為吸引了普通大眾的搶購，最終導致鬱金香球根價格瘋狂飆高，到 1637 年時，一株鬱金香居然可以換得一棟豪宅，然而在泡沫化過後，鬱金香價格僅剩餘高峰時的百分之一，許多人家財盡失。類似的事情在不到 100 年後又發生在英國，1711 年英國有家南海公司成立，這家公司表面上經營英國與南美洲等地貿易，實際上做的是協助政府融資的業務，後來南海虛報其業務前景，其股票大受追捧，股價從 1720 年年初約 120 英鎊急升至同年 7 月的 1,000 鎊以上，全民瘋狂炒股，這種現象導致很多「泡沫公司」散佈虛假訊息渾水摸魚，之後英國國會在 6 月頒布法令規管這些不法公司，全民炒股熱潮隨之減退，南海公司股價也急挫下跌，至 9 月暴跌回 190 鎊以下的水平，很多人（包括科學家牛頓）血本無歸。近三百年過去之後，泡沫經濟這樣極端的事件依舊發生，例如 1980 年代日本經歷的泡沫經濟、2000 年前後美國發生了網際網路泡沫。\n",
    "\n",
    "歷史會以與過去相似場景的方式不斷重演。基於同樣的思想，只有一種變數從過去到未來，都維持相同或者相似特徴；我們才能根據該變數過去的規律來預測未來的特徵。本章節將介紹時間序列的一些性質，並依據這些性質來判斷哽研究的時間序列物件是否有維持不變的特徴。\n",
    "\n",
    "### 24.1 自相關性\n",
    "\n",
    "用過去推測未來，未來首先要跟過去有一定的聯繫。在時間序列分析中，一般用自相關性來衡量這種聯繫。一般而言，用相關性（Correlation）衡量兩個變數之間是否具有某種關聯，而自相關性（Autocorrelation）則指一個時間序列的兩個不同時間點的變數是否相關聯。時間序列具有自相關性是我們能夠進行分析的前提，若時間序列的自相關性為 0，即各個時點的變數不相互關聯，未來與現在、與過去沒有聯繫，那麼，根據過去推測未來毫無根據和意義。\n",
    "\n",
    "時間序列的自相關性一般用時間序列的自變異數函數（Autocovariance Function）、自相關係數函數（Autocorrelation Coefficient Function，ACF）和偏自相關係數函數（Partial Autocorrelation Coefficient Function，PACF）等統計量來體現。序列的自相關性常常用來解譯經濟金融系統中經濟行為在時間上的慣性，例如在經濟高漲時期，較高的經濟增長率會持續一段時間，而在經濟衰退期，較高的失業率也會持續一段時間；也可以用來解譯經濟現行的落後效應，例如，人們消費或者投資行為會受到習慣的影響，並不會由於收入増加或減少而立刻調整，而是呈現一定程度的自我相關。\n",
    "\n",
    "#### 24.1.1 自變異數\n",
    "\n",
    "隨機變數 $X_t$ 在時點 $k$、$k-l$取值分別為 $X_k、X_{k-l}$，序列的 $l$ 階自變異數（Autocovariance）是變數 $X_k$ 與其落後 $l$ 期的隨機變數 $X_{kl}$ 之間的共變異數，由定義可知自變異數本質上仍然是共變異數，「自」字只是為了重點突出變數與其自身落後值的關係。如果 $X_t$ 在不同時點分別有對應的均值 $\\mu_t$，則 $l$ 階自變異數的數學表示式為：\n",
    "\n",
    "$$\\gamma_l=\\mathrm{E}[(X_k-\\mu_k)(X_{k-l}-\\mu_{k-l})]=\\mathrm{Cov}(X_k,X_{k-l}),\\quad l=0,1,2,...,\\label{eq:24.1}\\tag{24.1}$$\n",
    "\n",
    "當 $l$ 取值不同時可以得到不同 $\\gamma_l$，所以 $\\gamma_l$ 是時間差 $l$ 的函數，所以式 ($\\ref{eq:24.1}$) 被稱為自變異數函數，後面的自相關係數函數、偏自相關係數函數也是如此，之後為了方便起見，我們會把這些統計量簡稱為自變異數、自相關係數、偏自相關係數。當 $l=0$ 時，式 ($\\ref{eq:24.1}$) 退化為 $\\gamma_0=\\mathrm{E}[(X_k-\\mu_k)^2]$，即 $X_k$ 的變異數。\n",
    "\n",
    "#### 24.1.2 自相關係數\n",
    "\n",
    "從式 ($\\ref{eq:24.1}$) 可以看出，當 $X_t$ 放大 $n$ 倍時，$\\gamma_l$ 會放大至 $n^2$ 倍，因此自變異數會與變數的度量單位有關係，其大小並不足以說明變數與其落後項的關聯性的大小。與相關係數係數類似，自相關係數（Autocorrelation Coefficient）的引入是為了消除變數的度量單位，更好地刻畫關聯性的大小。\n",
    "\n",
    "自相關係數由自變異數除以變數的變異數而得到的，若用 $\\rho_l$ 表示 $X_k$ 與落後 $l$ 期的 $X_{kl}$ 之間 $l$ 階自相關係數，則\n",
    "\n",
    "$$\\rho_l=\\frac{\\mathrm{Cov}(X_k,X_{k-l})}{\\mathrm{Var}(X_k)}=\\frac{\\gamma_l}{\\gamma_0}$$\n",
    "\n",
    "式中變數的自變異數 $\\gamma_l$ 和變異數 $\\gamma_0$ 的度量單位相同，兩者比值的度量單位為單位 1，因此自相關係數不依賴於時間序列 $X_t$ 的度量單位。一般意義的共變異數和自相關係數用於說明兩個不同事物特徵的變數之間的相互影響，而自變異數和自相關係數主要衡量一個事物特徵的變數在不同時期取值的相關程度。通俗地說，自變異數和自相關係數刻畫的是自己過去的行為對自己現在的影響。\n",
    "\n",
    "#### 24.1.3 偏自相關係數\n",
    "\n",
    "假設資產價格 $p_1,p_2,...,p_t,...$ 的一階自相關係數 $\\rho_1>0$，也就是今天的價格 $p_t$與昨天的價格 $p_{t-1}$ 相關，不過 $p_{t-1}$ 又與 $p_{t-2}$ 相關，$p_{t-2}$ 也會受到 $p_{t-3}$ 的影響，...。所以當我們計算 $p_{t}$ 與 $p_{t-1}$ 的字相關係數時，我們捕捉到了 $t-1$ 期資訊對 $t$ 期的影響，也考慮了 $t-2$ 期資訊透過 $t-1$ 期對 $t$ 期的影響，...，依此推類，整體來說，$p_t$ 與 $p_{t-1}$ 的自相關係數刻畫的不單純是昨天對今天的直接影響，也包含了更早之前所有各期的資訊對今天的間接影響，衡量的是前面所有期加總的影響效果。\n",
    "\n",
    "為了衡量過去單期對現在的影響效果，剔除其他期的作用，我們引入偏自相關係數（Partial Autocorrelation Coefficient）。變數 $X_t$ 的 $l$ 階偏自相關係數 $\\rho_{ll}$ 是 $X_k$ 與 $X_{k-l}$ 的條件自相關係數，即\n",
    "\n",
    "$$\\rho_{ll}=\\mathrm{Corr}(X_k,X_{k-l}|X_{k-1},X_{k-2},...,X_{k-l+1})$$\n",
    "\n",
    "它的計算方式比較複雜，在這裡僅介紹其觀念。在實際應用中，自相關係數和偏自相關係數常用來刻畫時間序列自相關性的高低，若相關係數比較大，說明未來、現在跟過去的關聯性比較強。\n",
    "\n",
    "#### 24.1.4 acf() 函數與 pacf() 函數\n",
    "\n",
    "在 Python 中，我們可以分別用 statsmodels 套件中的 acf() 和 pacf() 這兩個函數來計算時間序列的自相關係數和偏自相關係數。acf() 具體的參數如下：\n",
    "\n",
    "`1. acf(x, unbiased=False, nlags=40, qstat=False, fft=False, alpha=None)`\n",
    "\n",
    "* x 為一個時間序列物件；\n",
    "\n",
    "* unbiased 的值是一個邏輯值。如果該參數的值為 True，Python 在計算自相關係數時會對分母進行調整，使得結果為無偏的估計值；\n",
    "\n",
    "* nlags 是數值型參數，表示計算自相關係數的最大落後期數；\n",
    "\n",
    "* qstat 表示 acf() 函數是否會傳回 Ljung-Box 檢定的結果，我們會在後面介紹關於 Ljung-Box 檢定的知識；\n",
    "\n",
    "* fft 是邏輯型參數，預設是 False，表明要使用的演算法；\n",
    "\n",
    "* alpha 參數表示計算自相關係數的信賴區間所用的信心水準，預設為 None，即不計算信賴區間。\n",
    "\n",
    "pacf() 的用法與 acf() 的用法類似：\n",
    "\n",
    "`1. pacf(x, nlags=40，method='ywunbiased', alpha=None)`\n",
    "\n",
    "#### 24.1.5 加權股價指數的收益率的自相關性判斷\n",
    "\n",
    "我們現在使用 acf() 和 pacf() 這兩個函數對加權股價指數的收益率資料進行自相關性判斷。"
   ]
  },
  {
   "cell_type": "code",
   "execution_count": 1,
   "metadata": {},
   "outputs": [
    {
     "data": {
      "text/plain": [
       "Date\n",
       "2014-01-02         NaN\n",
       "2014-01-03   -0.007722\n",
       "2014-01-06   -0.005474\n",
       "2014-01-07    0.001444\n",
       "2014-01-08    0.005109\n",
       "Name: Close, dtype: float64"
      ]
     },
     "execution_count": 1,
     "metadata": {},
     "output_type": "execute_result"
    }
   ],
   "source": [
    "import pandas as pd\n",
    "from statsmodels.tsa import stattools\n",
    "\n",
    "# 截取加權股價指數資料\n",
    "taiex = pd.read_csv('.\\\\PythonBook_code_data\\\\part4\\\\taiex.csv',sep='\\t')\n",
    "taiex.index=pd.to_datetime(taiex.Date)\n",
    "\n",
    "# 計算單期收益率\n",
    "close=taiex.Close\n",
    "taiexRet = (close-close.shift(1))/close\n",
    "taiexRet.head()"
   ]
  },
  {
   "cell_type": "code",
   "execution_count": 2,
   "metadata": {},
   "outputs": [
    {
     "data": {
      "text/plain": [
       "Date\n",
       "2015-12-25    0.004654\n",
       "2015-12-28   -0.000573\n",
       "2015-12-29   -0.007786\n",
       "2015-12-30   -0.001681\n",
       "2015-12-31    0.006964\n",
       "Name: Close, dtype: float64"
      ]
     },
     "execution_count": 2,
     "metadata": {},
     "output_type": "execute_result"
    }
   ],
   "source": [
    "taiexRet.tail()"
   ]
  },
  {
   "cell_type": "code",
   "execution_count": 4,
   "metadata": {},
   "outputs": [
    {
     "data": {
      "text/plain": [
       "array([ 1.        ,  0.04331678, -0.03590232,  0.05274551, -0.0692361 ])"
      ]
     },
     "execution_count": 4,
     "metadata": {},
     "output_type": "execute_result"
    }
   ],
   "source": [
    "taiexRet=taiexRet.dropna()\n",
    "\n",
    "# 計算自相關係數\n",
    "acfs=stattools.acf(taiexRet)\n",
    "acfs[:5]"
   ]
  },
  {
   "cell_type": "code",
   "execution_count": 6,
   "metadata": {},
   "outputs": [
    {
     "data": {
      "text/plain": [
       "array([ 1.        ,  0.04340518, -0.03800477,  0.05653156, -0.076725  ])"
      ]
     },
     "execution_count": 6,
     "metadata": {},
     "output_type": "execute_result"
    }
   ],
   "source": [
    "# 計算偏自相關係數\n",
    "pacfs=stattools.pacf(taiexRet)\n",
    "pacfs[:5]"
   ]
  },
  {
   "cell_type": "markdown",
   "metadata": {},
   "source": [
    "為了直觀發現自相關係數與偏自相關係數變化的趨勢，我們可以繪製自相關係數圖與偏自相關係數圖。"
   ]
  },
  {
   "cell_type": "code",
   "execution_count": 10,
   "metadata": {},
   "outputs": [
    {
     "data": {
      "image/png": "[encoded data removed]",
      "text/plain": [
       "<Figure size 432x288 with 1 Axes>"
      ]
     },
     "execution_count": 10,
     "metadata": {},
     "output_type": "execute_result"
    },
    {
     "data": {
      "image/png": "[encoded data removed]",
      "text/plain": [
       "<Figure size 432x288 with 1 Axes>"
      ]
     },
     "metadata": {
      "needs_background": "light"
     },
     "output_type": "display_data"
    }
   ],
   "source": [
    "# 繪製自相關係數圖\n",
    "from statsmodels.graphics.tsaplots import *\n",
    "plot_acf(taiexRet,use_vlines=True,lags=30)"
   ]
  },
  {
   "cell_type": "markdown",
   "metadata": {},
   "source": [
    "圖 24.1：2014 年和 2015 年加權股價指數日收益率的自相關係數（ACF）圖\n",
    "\n",
    "圖 24.1 反映的是加權股價指數日收益率序列的各階自相關係數 $\\rho_0,\\rho_1,\\rho_2,...$ 的大小，該圖的柱形高度值對應的是各階自相關係數的值。根據自相關係數的計算公式，$\\rho_0=\\frac{\\rho_0}{\\rho_0}=1$，故任何時間序列的 ACF 圖中第一個柱條高度均為 1。圖中的藍色區域的上界與下界對應的是 95% 信賴區間，也就是 $[-1.96/\\sqrt{N},+1.96/\\sqrt{N}]$，其中 $N$ 為時間序列觀測值的個數，這兩條界線是檢定自相關係數是否為 0 時所用的判別標準：當代表自相關係數的柱條超過這兩條界線時，我們可以認定自相關係數顯著不為 0。觀察圖 24.1 可知，絕大部分的自相關係數都落在 95% 信賴區間內，而 5 階自相關係數（從左邊開始地 6 根條柱）落在了 95% 信賴區間外，所以初步判斷該序列可能存在短期自相關性。\n",
    "\n",
    "我們還可以繪製出序列的偏自相關係數圖。"
   ]
  },
  {
   "cell_type": "code",
   "execution_count": 11,
   "metadata": {},
   "outputs": [
    {
     "data": {
      "image/png": "[encoded data removed]",
      "text/plain": [
       "<Figure size 432x288 with 1 Axes>"
      ]
     },
     "execution_count": 11,
     "metadata": {},
     "output_type": "execute_result"
    },
    {
     "data": {
      "image/png": "[encoded data removed]",
      "text/plain": [
       "<Figure size 432x288 with 1 Axes>"
      ]
     },
     "metadata": {
      "needs_background": "light"
     },
     "output_type": "display_data"
    }
   ],
   "source": [
    "# 繪製偏自相關圖\n",
    "plot_pacf(taiexRet,use_vlines=True,lags=30)"
   ]
  },
  {
   "cell_type": "markdown",
   "metadata": {},
   "source": [
    "圖24.2：2014 年和 2015 年加權股價指數日收益率的偏自相關係數（PACF）圖\n",
    "\n",
    "偏自相關係數圖反映了序列的各階偏自相關係數的大小，圖中的柱形高度對應的是各階偏自相關係數的值。同樣地，觀察圖 24.2 可知，序列絕大部分的偏自相關係數都落在 95% 信賴區問的範圍內，5 階和 20 階偏自相關係數落在 95% 信賴區間外。因此，剔除了其他期資訊的影響，5 階落後收益率與當期收益率的相關性是顯著的。"
   ]
  }
 ],
 "metadata": {
  "kernelspec": {
   "display_name": "Python 3",
   "language": "python",
   "name": "python3"
  },
  "language_info": {
   "codemirror_mode": {
    "name": "ipython",
    "version": 3
   },
   "file_extension": ".py",
   "mimetype": "text/x-python",
   "name": "python",
   "nbconvert_exporter": "python",
   "pygments_lexer": "ipython3",
   "version": "3.6.5"
  }
 },
 "nbformat": 4,
 "nbformat_minor": 4
}
