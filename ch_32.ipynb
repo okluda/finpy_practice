{
 "cells": [
  {
   "cell_type": "code",
   "execution_count": null,
   "metadata": {},
   "outputs": [],
   "source": [
    "# This allows multiple outputs from a single jupyter notebook cell:\n",
    "from IPython.core.interactiveshell import InteractiveShell\n",
    "InteractiveShell.ast_node_interactivity = \"all\"\n",
    "\n",
    "%matplotlib inline"
   ]
  },
  {
   "cell_type": "markdown",
   "metadata": {},
   "source": [
    "## 第32章 通道突破策略\n",
    "\n",
    "### 32.1 通道突破簡介\n",
    "\n",
    "股票市場的行情是隨機而起的，價格線的走勢往往給人一種「橫看成嶺側成峰，遠近高低各不同」的感覺。一個震盪到底隱含了趨勢或只是雜訊，那可真是言人人殊。通道模型適度解決了此一難題。它利用過去一定時間段內的價格訊息，繪製出上下兩條通道線（上、下軌），藉此設定股價的相對高、低界限。通道線可以包容市場波動行情的部分訊息，過濾震盪行情中均線系統「假」突破的信號。除了涵蓋了市場價格高低的訊息以外，兩條通道線的距離也體現了股票價格震盪的幅度；價格波動幅度較小時，通道的頻寬較小，當價格震蕩較大時，通道的頻寬也相應變大。通道突破模型將價格高低與價格震盪的幅度融合在一起，成為判斷市場中長期趨勢的常用技術分析指標。對於價格通道的刻畫，根據數據期數的不同和計算方式的迥異，模型的設定可以有諸多變化。本書在此介紹唐奇安通道（Donchian Channel）和布林帶通道（Bollinger Band）兩種技術分析常用的通道形式，並示範通道突破的思想。\n",
    "\n",
    "### 32.2 唐奇安通道\n",
    "\n",
    "唐奇安通道流行於二十世紀七十年代，由著名的海龜交易員 Richard Donchian 發明，最早用於日內交易。其主要思想是尋找一定時間內（比如 20 日）出現的最高價和最低價，將最高價和最低價分別作為通道的上下軌道。當價格突破通道的上軌道時，說明股價運動較為強勢，則釋放出買入信號；當價格線向下突破通道的下軌道時，空頭巿場較為強勢，市場下跌趨勢較為明顯，則釋放出賣出信號。\n",
    "\n",
    "#### 32.2.1 唐奇安通道刻畫\n",
    "\n",
    "唐奇安通道由三條軌道線構成，上下軌道分別由20日的最高價和最低價來刻畫，中軌道是上下軌道的平均線，具體計算過程如下：\n",
    "\n",
    "通道上界由 20 日的蠟燭圖的最高點構成，即\n",
    "\n",
    "$$\\mbox{通道上界}=\\mbox{過去 20 日內的最高價}$$\n",
    "\n",
    "通道下界由 20 日的蠟燭圖的最低點構成，即\n",
    "\n",
    "$$\\mbox{通道下界}=\\mbox{過去 20 日內的最低價}$$\n",
    "\n",
    "中軌道計算公式為：\n",
    "\n",
    "$$\\mbox{中軌道}=\\frac{\\mbox{通道上界}+\\mbox{通道下界}}{2}$$\n",
    "\n",
    "運用黑松（股票程式碼為「600050」）2010 年 1 月 4 日到 2013 年 12 月 31 日股票交易的日度數據，用 Python 來計算唐奇安通道的上中下三條軌道線。"
   ]
  },
  {
   "cell_type": "code",
   "execution_count": 7,
   "metadata": {},
   "outputs": [
    {
     "data": {
      "text/html": [
       "<div>\n",
       "<style scoped>\n",
       "    .dataframe tbody tr th:only-of-type {\n",
       "        vertical-align: middle;\n",
       "    }\n",
       "\n",
       "    .dataframe tbody tr th {\n",
       "        vertical-align: top;\n",
       "    }\n",
       "\n",
       "    .dataframe thead th {\n",
       "        text-align: right;\n",
       "    }\n",
       "</style>\n",
       "<table border=\"1\" class=\"dataframe\">\n",
       "  <thead>\n",
       "    <tr style=\"text-align: right;\">\n",
       "      <th></th>\n",
       "      <th>upboundDC</th>\n",
       "      <th>downboundDC</th>\n",
       "      <th>midboundDC</th>\n",
       "    </tr>\n",
       "    <tr>\n",
       "      <th>Date</th>\n",
       "      <th></th>\n",
       "      <th></th>\n",
       "      <th></th>\n",
       "    </tr>\n",
       "  </thead>\n",
       "  <tbody>\n",
       "    <tr>\n",
       "      <th>2015-02-02</th>\n",
       "      <td>35.79</td>\n",
       "      <td>34.59</td>\n",
       "      <td>35.190</td>\n",
       "    </tr>\n",
       "    <tr>\n",
       "      <th>2015-02-03</th>\n",
       "      <td>35.79</td>\n",
       "      <td>34.68</td>\n",
       "      <td>35.235</td>\n",
       "    </tr>\n",
       "    <tr>\n",
       "      <th>2015-02-04</th>\n",
       "      <td>35.79</td>\n",
       "      <td>34.87</td>\n",
       "      <td>35.330</td>\n",
       "    </tr>\n",
       "    <tr>\n",
       "      <th>2015-02-05</th>\n",
       "      <td>35.79</td>\n",
       "      <td>34.87</td>\n",
       "      <td>35.330</td>\n",
       "    </tr>\n",
       "    <tr>\n",
       "      <th>2015-02-06</th>\n",
       "      <td>35.79</td>\n",
       "      <td>34.87</td>\n",
       "      <td>35.330</td>\n",
       "    </tr>\n",
       "  </tbody>\n",
       "</table>\n",
       "</div>"
      ],
      "text/plain": [
       "            upboundDC  downboundDC  midboundDC\n",
       "Date                                          \n",
       "2015-02-02      35.79        34.59      35.190\n",
       "2015-02-03      35.79        34.68      35.235\n",
       "2015-02-04      35.79        34.87      35.330\n",
       "2015-02-05      35.79        34.87      35.330\n",
       "2015-02-06      35.79        34.87      35.330"
      ]
     },
     "execution_count": 7,
     "metadata": {},
     "output_type": "execute_result"
    }
   ],
   "source": [
    "# 讀取黑松的股票數據\n",
    "import pandas as pd\n",
    "import numpy as np\n",
    "import matplotlib.pyplot as plt\n",
    "HeySong = pd.read_csv('.\\\\PythonBook_code_data\\\\part5\\\\32\\\\1234.csv',sep='\\t')\n",
    "HeySong.index=pd.to_datetime(HeySong.Date, format='%Y-%m-%d')\n",
    "# 提取收盤價、最高價和最低價數據\n",
    "Close = HeySong.Close\n",
    "High =  HeySong.High\n",
    "Low =  HeySong.Low\n",
    "# 求唐奇安上、中、下通道\n",
    "upboundDC=[max(High[(i-20):i]) for i in range(20,len(Close))]\n",
    "downboundDC = [min(Low[(i-20):i]) for i in range(20,len(Close))]\n",
    "boundDC = pd.DataFrame()\n",
    "boundDC['upboundDC']=upboundDC\n",
    "boundDC['downboundDC']=downboundDC\n",
    "boundDC['midboundDC']=0.5*(boundDC['upboundDC']+boundDC['downboundDC'])\n",
    "boundDC.index = Close.index[20:]\n",
    "boundDC.head()"
   ]
  },
  {
   "cell_type": "code",
   "execution_count": 9,
   "metadata": {},
   "outputs": [
    {
     "ename": "NameError",
     "evalue": "name 'midboundDC' is not defined",
     "output_type": "error",
     "traceback": [
      "\u001b[1;31m-------------------------\u001b[0m",
      "\u001b[1;31mNameError\u001b[0mTraceback (most recent call last)",
      "\u001b[1;32m<ipython-input-9-8c428d17add1>\u001b[0m in \u001b[0;36m<module>\u001b[1;34m\u001b[0m\n\u001b[0;32m      2\u001b[0m \u001b[0mplt\u001b[0m\u001b[1;33m.\u001b[0m\u001b[0mplot\u001b[0m\u001b[1;33m(\u001b[0m\u001b[0mClose\u001b[0m\u001b[1;33m[\u001b[0m\u001b[1;34m'2015'\u001b[0m\u001b[1;33m]\u001b[0m\u001b[1;33m,\u001b[0m\u001b[0mlabel\u001b[0m\u001b[1;33m=\u001b[0m\u001b[1;34m\"Close\"\u001b[0m\u001b[1;33m,\u001b[0m\u001b[0mcolor\u001b[0m\u001b[1;33m=\u001b[0m\u001b[1;34m'k'\u001b[0m\u001b[1;33m)\u001b[0m\u001b[1;33m\u001b[0m\u001b[0m\n\u001b[0;32m      3\u001b[0m \u001b[1;31m#plt.plot(upboundDC['2015'],label=\"upboundDC\",color='b',linestyle='dashed')\u001b[0m\u001b[1;33m\u001b[0m\u001b[1;33m\u001b[0m\u001b[0m\n\u001b[1;32m----> 4\u001b[1;33m \u001b[0mplt\u001b[0m\u001b[1;33m.\u001b[0m\u001b[0mplot\u001b[0m\u001b[1;33m(\u001b[0m\u001b[0mmidboundDC\u001b[0m\u001b[1;33m[\u001b[0m\u001b[1;34m'2015'\u001b[0m\u001b[1;33m]\u001b[0m\u001b[1;33m,\u001b[0m\u001b[0mlabel\u001b[0m\u001b[1;33m=\u001b[0m\u001b[1;34m\"midboundDC\"\u001b[0m\u001b[1;33m,\u001b[0m\u001b[0mcolor\u001b[0m\u001b[1;33m=\u001b[0m\u001b[1;34m'r'\u001b[0m\u001b[1;33m,\u001b[0m\u001b[0mlinestyle\u001b[0m\u001b[1;33m=\u001b[0m\u001b[1;34m'-.'\u001b[0m\u001b[1;33m)\u001b[0m\u001b[1;33m\u001b[0m\u001b[0m\n\u001b[0m\u001b[0;32m      5\u001b[0m \u001b[0mplt\u001b[0m\u001b[1;33m.\u001b[0m\u001b[0mplot\u001b[0m\u001b[1;33m(\u001b[0m\u001b[0mdownboundDC\u001b[0m\u001b[1;33m[\u001b[0m\u001b[1;34m'2015'\u001b[0m\u001b[1;33m]\u001b[0m\u001b[1;33m,\u001b[0m\u001b[0mlabel\u001b[0m\u001b[1;33m=\u001b[0m\u001b[1;34m\"downboundDC\"\u001b[0m\u001b[1;33m,\u001b[0m\u001b[0mcolor\u001b[0m\u001b[1;33m=\u001b[0m\u001b[1;34m'b'\u001b[0m\u001b[1;33m,\u001b[0m\u001b[0mlinestyle\u001b[0m\u001b[1;33m=\u001b[0m\u001b[1;34m'dashed'\u001b[0m\u001b[1;33m)\u001b[0m\u001b[1;33m\u001b[0m\u001b[0m\n\u001b[0;32m      6\u001b[0m \u001b[0mplt\u001b[0m\u001b[1;33m.\u001b[0m\u001b[0mtit1e\u001b[0m\u001b[1;33m(\u001b[0m\u001b[1;34m\"2015年上半年黑松股價唐奇安通道\"\u001b[0m\u001b[1;33m)\u001b[0m\u001b[1;33m\u001b[0m\u001b[0m\n",
      "\u001b[1;31mNameError\u001b[0m: name 'midboundDC' is not defined"
     ]
    },
    {
     "data": {
      "image/png": "[encoded data removed]",
      "text/plain": [
       "<Figure size 432x288 with 1 Axes>"
      ]
     },
     "metadata": {
      "needs_background": "light"
     },
     "output_type": "display_data"
    }
   ],
   "source": [
    "# 繪製2015年上半年黑松價格唐奇安通道上中下軌道線圖\n",
    "plt.plot(Close['2015'],label=\"Close\",color='k')\n",
    "plt.plot(upboundDC['2015'],label=\"upboundDC\",color='b',linestyle='dashed')\n",
    "plt.plot(midboundDC['2015'],label=\"midboundDC\",color='r',linestyle='-.')\n",
    "plt.plot(downboundDC['2015'],label=\"downboundDC\",color='b',linestyle='dashed')\n",
    "plt.tit1e(\"2015年上半年黑松股價唐奇安通道\")\n",
    "plt.ylim(2.9,3.9)\n",
    "plt.legend()"
   ]
  },
  {
   "cell_type": "markdown",
   "metadata": {},
   "source": [
    "圖 32.1：2015年上半年黑松股價唐奇安通道線\n",
    "\n",
    "從圖 32.1 來看，以價格運動的趨勢來觀察，2015 年 4 月以前，價格波動較小，價格線上下兩條通道內部運動，上下兩條通道的間距也較小。2015 年 4 月份以後，價格首先突然上升，然後又急劇下降，價格波動較大，價格線先後突破了上下兩條通道，上下兩條通道的距離也變大很多。\n",
    "\n",
    "若要看到更多價格訊息和股票價格運動情況，可以在Ｋ線圖中繪製唐奇安的上下通道線，具體實現程式如下所示："
   ]
  },
  {
   "cell_type": "code",
   "execution_count": null,
   "metadata": {},
   "outputs": [],
   "source": [
    "# 繪製黑松2013年上半年的Ｋ線圖及唐奇安通道\n",
    "import candle\n",
    "candel.candleLinePlots(candleData=HeySong[:'2015-06-30'],\n",
    "        candleTitle='2015年上半年黑松股票的Ｋ線圖及唐奇安通道',\n",
    "        splitFigures=False,\n",
    "        Data=boundDC[:'2015-06-30'][['upboundDC','downboundDC']])"
   ]
  },
  {
   "cell_type": "markdown",
   "metadata": {},
   "source": [
    "圖 32.2：2015年上半年黑松股票的Ｋ線圖及唐奇安通道\n",
    "\n",
    "#### 32.2.2 Python 捕捉唐奇安通道突破\n",
    "\n",
    "唐奇安通道突破的主要規則是當價格線走強而突破前 $n$ 期的最高價時，做多；當價格線向下運動，價格低於前 $n$ 期的最低價時，做空。\n",
    "\n",
    "以黑松 2015 年到 2016 年股價數據為例，設定時間段 $n=20$，捕捉唐奇安通道突破日期，設定買賣點交易，並計算交易獲勝率。\n",
    "\n",
    "首先，先定義向上突破函數 upbreak() 和向下突破函數 downbreak()。"
   ]
  },
  {
   "cell_type": "code",
   "execution_count": null,
   "metadata": {},
   "outputs": [],
   "source": [
    "# upbreak()函數\n",
    "def upbreak(tsLine,tsRefLine):\n",
    "    n=min(len(tsLine),len(tsRefLine))\n",
    "    tsLine=tsLine[-n:]\n",
    "    tsRefLine=tsRefLine[-n:]\n",
    "    signal=pd.Series(0,index=tsLine.index)\n",
    "    for i in range(1,len(tsLine)):\n",
    "        if all([tsLine[i]>tsRefLine[i],tsLine[i-1]<tsRefLine[i-1]]):\n",
    "            signal[i]=1\n",
    "    return(signal)\n",
    "\n",
    "# downbreak()函數\n",
    "def downbreak(tsLine,tsRefLine):\n",
    "    n=min(len(tsLine),len(tsRefLine))\n",
    "    tsLine=tsLine[-n:]\n",
    "    tsRefLine=tsRefLine[-n:]\n",
    "    signal=pd.Series(0,index=tsLine.index)\n",
    "    for i in range(1,len(tsLine)):\n",
    "        if all([tsLine[i]<tsRefLine[i],tsLine[i-1]>tsRefLine[i-1]]):\n",
    "            signal[i]=1\n",
    "    return(signal)"
   ]
  },
  {
   "cell_type": "markdown",
   "metadata": {},
   "source": [
    "用 Python 撰寫程式模擬唐奇安通道策略。"
   ]
  },
  {
   "cell_type": "code",
   "execution_count": null,
   "metadata": {},
   "outputs": [],
   "source": [
    "# 唐奇安通道突破策略\n",
    "UpBreak=upbreak(Close[boundDC.index[0]:],boundDC.upboundDC)\n",
    "DownBreak=downbreak(Close[boundDC.index[0]:],boundDC.downboundDC)\n",
    "# 制定交易策略\n",
    "# 上穿，signal為1；\n",
    "# 下穿，signal為-1。\n",
    "# 合併上下穿破總信號\n",
    "BreakSig=UpBreak-DownBreak\n",
    "# 計算預測獲勝率\n",
    "tradeSig=BreakSig.shift(1)\n",
    "ret=Close/Close.shift(1)-1\n",
    "tradeRet=(ret*tradeSig).dropna()\n",
    "tradeRet[tradeRet==-0]=0\n",
    "winRate=len(tradeRet[tradeRet>0])/len(tradeRet[tradeRet!=0])\n",
    "winRate"
   ]
  },
  {
   "cell_type": "markdown",
   "metadata": {},
   "source": [
    "唐奇安通道突破策略的規則相對較簡單，但要注意，時間段 $n$ 的選擇尤為重要；在同一市場中 $n$ 取對於一支特定的股票，通道線的時間段設定，會影響通道的形狀和交易策略績效；相同的時間段也不見得適用於不同的股票。\n",
    "\n",
    "### 32.3 布林帶通道\n",
    "\n",
    "「布林通道」又稱布林帶狀（Bollinger Bands，BBands）或者保力加通道，是通道的形式之一；與唐奇安通道類似，布林帶通道也有刻畫股票價格變化情況和波動幅度大小的作用。布林帶通道是美國投資者約翰.布林格（John Bollinger）在 20 世紀後期結合統計學理論發明的一種技術分析指標。分析股價運動情況時，一般以股價平均線作為參照線，而布林帶在均線的基礎上増添上下兩條「股價通道」線。布林帶的中軌線是股價的平均線，上通道為股價的均線加上一定倍數的標準差，而下通道則由均線減去一定倍數的標準差得到。\n",
    "\n",
    "布林帶通道的趨勢主要由中軌道平均線決定，當平均線呈現向上趨勢時，布林帶通道也會向上走，當平均線走低時，布林帶通道也會有向下趨勢。布林帶通道的頻寬由股價的標準差決定；而股價的標準差刻畫了股價波動範圍的大小，當股價波動較大時，標準差較大，進而布林帶上下通道的頻寬越大；反之，當股價波動幅度較小時，標準差越小，布林帶頻寬則會相應變窄。\n",
    "\n",
    "#### 32.3.1 布林帶通道的計算方式\n",
    "\n",
    "令 $p_{t+1-n},p_{t+2-n},...,p_{t}$ 表示股票在第 $t$ 期觀測到的前 $n$ 期（包括第 $t$ 期）的股票價格，據此數據，可以計算股票的 $n$ 期均值（即布林帶的中軌線 $u_t$）為：\n",
    "\n",
    "$$u_n=\\frac{1}{n}\\sum_{i=1}^np_i$$\n",
    "\n",
    "用 $\\overline{B}_n$ 表示布林帶的上軌線值，其可由下式計算而得。\n",
    "\n",
    "$$\\overline{B}_n=u_n+a\\times\\sigma_n$$\n",
    "\n",
    "同理，用 $\\underline{B}_n$ 表示布林的下軌線值，則\n",
    "\n",
    "$$\\underline{B}_n=u_n-a\\times\\sigma_n$$\n",
    "\n",
    "其中，$\\sigma_n$ 表示股票價格在過去 $n$ 期的標準差，計算公式為：\n",
    "\n",
    "$$\\sigma_n=\\sqrt{\\frac{1}{n}\\sum_{i=1}^n(p_i-u_n)^2}$$\n",
    "\n",
    "而 $a$ 表示標準差的倍數。\n",
    "\n",
    "從上述計算公式中，可以看出時間區間 $n$ 和標準差倍數 $a$ 的取值，會影響到布林帶三條通道的計算結果。一般而言，$n$ 取值為 20 天，$a$ 取值為 2，依此設定，布林帶通道線的計算如下：\n",
    "\n",
    "中軌道：\n",
    "\n",
    "$$\\mbox{均值}=\\mbox{過去 20 天股價的算數平均值}$$\n",
    "\n",
    "數學式可寫為：\n",
    "\n",
    "$$u_{20}=\\frac{1}{20}\\sum_{i=1}^{20}p_i$$\n",
    "\n",
    "股價的標準差為：\n",
    "\n",
    "$$\\sigma_{20}=\\sqrt{\\frac{1}{20}\\sum_{i=1}^{20}(p_i-u_{20})^2}$$\n",
    "\n",
    "上通道線：\n",
    "\n",
    "$$\\mbox{通界}=\\mbox{均值}+2\\times\\mbox{過去 20 天股價的標準差}$$\n",
    "\n",
    "計算公式為：\n",
    "\n",
    "$$\\overline{B}_{20}=u_{20}+2\\times\\sigma_{20}$$\n",
    "\n",
    "下通道線：\n",
    "\n",
    "$$\\mbox{通道下界}=\\mbox{均值}-2\\times\\mbox{過去 20 天股價的標準差}$$\n",
    "\n",
    "計算公式為：\n",
    "\n",
    "$$\\underline{B}_{20}=u_{20}-2\\times\\sigma_{20}$$\n",
    "\n",
    "接下來，設定 $n=20$，$a=2$ 用 Python 撰寫程式繪製黑松股價的布林帶通道線。首先定義布林帶通道函數 bbands()。"
   ]
  },
  {
   "cell_type": "code",
   "execution_count": null,
   "metadata": {},
   "outputs": [],
   "source": [
    "def bbands(tsPrice,period=20,times=2):\n",
    "    upBBand=pd.Series(0.0,index=tsPrice.index)\n",
    "    midBBand=pd.Series(0.0,index=tsPrice.index)\n",
    "    downBBand=pd.Series(0.0,index=tsPrice.index)\n",
    "    sigma=pd.Series(0.0,index=tsPrice.index)\n",
    "    for i in range(period-1,len(tsPrice)):\n",
    "        midBBand[i]=np.nanmean(tsPrice[i-(period-1):(i+1)])\n",
    "        sigma[i]=np.nanstd(tsPrice[i-(period-1):(i+1)])\n",
    "        upBBand[i]=midBBand[i]+times*sigma[i]\n",
    "        downBBand[i]=midBBand[i]-times*sigma[i]\n",
    "    BBands=pd.DataFrame({'upBBand':upBBand[(period-1):],\\\n",
    "                         'midBBand':midBBand[(period-1):],\\\n",
    "                         'downBBand':downBBand[(period-1):],\\\n",
    "                         'sigma':sigma[(period-1):]})\n",
    "    return(BBands)"
   ]
  },
  {
   "cell_type": "markdown",
   "metadata": {},
   "source": [
    "接下來，計算 20 日布林帶通道線。"
   ]
  },
  {
   "cell_type": "code",
   "execution_count": null,
   "metadata": {},
   "outputs": [],
   "source": [
    "HeySongBBands=bbands(Close,20,2)\n",
    "HeySongBBands.head()\n",
    "\n",
    "# 繪製2013年布林帶上下通道線\n",
    "import candle\n",
    "candle.candleLinePlots(candleData=HeySong[:'2015-06-3-'],candleTitle='2015年上半年黑松股票的Ｋ線圖及布林帶通道',splitFigures=False,Data=HeySongBBands[:'2015-6-30'][['downBBand','upBBand']])"
   ]
  },
  {
   "cell_type": "markdown",
   "metadata": {},
   "source": [
    "圖 32.3：2015年上半年黑松股票的Ｋ線圖及布林帶通道\n",
    "\n",
    "觀察圖 32.3，整體上而言，2015 年上半年Ｋ線圖大都在布林帶通道內部運動，2015 年 2 月到 3 月份，黑松股價變換較小，股價基本上在布林帶通道內部運動，3 月 16 左右，蠟燭圖下穿了布林帶下通道，進而蠟燭圖反轉向上運動，而不久有上穿布林帶通道，隨後Ｋ線圖的走勢也轉而向下。2015 年 4 月 20 日，蠟燭圖轉而大幅向上，布林帶通道的頻寬增大，接下來有一段較為明顯的上漲行情。\n",
    "\n",
    "### 32.4 布林帶通道與市場風險\n",
    "\n",
    "布林帶通道的設定蘊含著統計學原理，假設股票價格走勢呈現正態分佈[<sup>3</sup>](#fn3)，如圖 32.4 所示，均值加減兩倍標準差範圍內的數據大概佔據了整個數據的 95.44%。布林帶通道以價格的平均值加減兩個標準差來設定上下通道，從正態分佈的角度來看，布林帶通道刻畫了股票價格的主要變化範圍，即大部分情況下股票價格應該在布林帶通道內部運動，只有大約 5% 的概率股價會突破布林帶通道的上軌道或者下軌道。因此在正常情況下，當價格線超出布林帶通道上下線時，可以認為價格線有偏離，未來價格很有可能回落到布林帶通道的內部。\n",
    "\n",
    "圖 32.4：正態分佈域\n",
    "\n",
    "由於布林帶通道的設定與標準差的倍數相關，有學者[<sup>4</sup>](#fn4)將布林帶通道與股市風險聯繫在一起分析市場行情。在股價運動分佈情況呈現出正態分佈的前提下，布林帶通道由平均線加減 2 倍標準差刻畫，由圖 32.4可推知，正常情況下，有 95.44% 的概率股價在正負兩倍標準差內部運動，當股價突破布林帶上下界時，說明股價出現了異常波動，異常波動的概率為 4.56%。將股價異常波動到布林帶上下通道外部的情況定義成「布林帶風險」（Bollinger Risk）。\n",
    "\n",
    "<span id=\"fn3\"><sup>3</sup> 這個假設是否合理，從邏輯的角度而言並不重要，重點在於讀者視它為「有待驗證的假設（Refutable Hypothesis）」</span>\n",
    "\n",
    "<span id=\"fn4\"><sup>4</sup> 陳慧藝，宴春寧《採用布林帶分析比較股市風險》當代經濟，2008 年第 2 期</span>\n",
    "\n",
    "\n",
    "根據統計學原理，在信心水準為 $\\alpha$ 的條件下，布林帶風險 $\\mathit{BR}_\\alpha$ 的計算公式為：\n",
    "\n",
    "$$\\mathit{BR}_\\alpha=\\frac{d_m}{d_t}\\times 100\\%$$\n",
    "\n",
    "其中，$d_t$ 表示觀察的股價數據總期數，$d_m$ 表示觀察期內股價在布林帶上下通道外部的總期數。一般而言，信心水準 $\\alpha$ 的可以取值為 1%，5% 或者 10%。在不同的信心水準下，布林帶上下通道的界定不同。\n",
    "\n",
    "當 $\\alpha=10\\%$時，布林帶上通道線為 $\\overline{B}_n=u_n+1.65\\times\\sigma_n$；布林帶的下通道為 $\\underline{B}_n=u_n-1.65\\times\\sigma_n$；\n",
    "\n",
    "當 $\\alpha=5\\%$時，布林帶上通道線為 $\\overline{B}_n=u_n+1.96\\times\\sigma_n$；布林帶的下通道為 $\\underline{B}_n=u_n-1.96\\times\\sigma_n$；\n",
    "\n",
    "當 $\\alpha=1\\%$時，布林帶上通道線為 $\\overline{B}_n=u_n+2.58\\times\\sigma_n$；布林帶的下通道為 $\\underline{B}_n=u_n-2.58\\times\\sigma_n$；\n",
    "\n",
    "下面設定不同的信心水準，來比較黑松股市年度布林帶風險。\n",
    "\n",
    "首先構造布林帶風險函數 CalBollRisk() 函數"
   ]
  },
  {
   "cell_type": "code",
   "execution_count": null,
   "metadata": {},
   "outputs": [],
   "source": [
    "def CalBollRisk(tsPrice,k,multiplier):\n",
    "    n=len(tsPrice)\n",
    "    m=len(multiplier)\n",
    "    tsPrice=tsPrice[k:]\n",
    "    BollRisk=[]\n",
    "    for i in range(m):\n",
    "        BBands=bbands(tsPrice,k,multiplier[i])\n",
    "        a=0\n",
    "        b=0\n",
    "        for j in range(len(BBands)):\n",
    "            if tsPrice[j]>BBands.upBBand[j]:\n",
    "                a+=1\n",
    "            elif tsPrice[j]<BBands.downBBand[j]\n",
    "                b+=1\n",
    "        BollRisk.append(100*(a+b)/n)\n",
    "    return(BollRisk)"
   ]
  },
  {
   "cell_type": "markdown",
   "metadata": {},
   "source": [
    "接下來，計算黑松股市不同年份的布林帶風險。"
   ]
  },
  {
   "cell_type": "code",
   "execution_count": null,
   "metadata": {},
   "outputs": [],
   "source": [
    "# 設定標準差的倍數向量\n",
    "multiplier=[1,1.65,1.96,2,2.58]\n",
    "\n",
    "# 計算不同年度的布林帶風險\n",
    "# 2015年\n",
    "price2015=Close['2015']\n",
    "CalBollRisk(price2015,20,multiplier)\n",
    "# 2016年\n",
    "price2015=Close['2016']\n",
    "CalBollRisk(price2016,20,multiplier)"
   ]
  },
  {
   "cell_type": "markdown",
   "metadata": {},
   "source": [
    "在不同信心水準下，黑松股市不同年度的的布林帶風險數據整理成如表 32.1 所示：\n",
    "\n",
    ">表 32.1：黑松股市年度布林帶風險\n",
    "\n",
    "　    |2015年|2016年\n",
    ":----:|:----:|:----:\n",
    "$\\alpha=31.74\\%,\\mathrm{sd}=1$|44.262|47.951\n",
    "$\\alpha=10\\%,\\mathrm{sd}=1.65$|21.311|21.721\n",
    "$\\alpha=5\\%,\\mathrm{sd}=1.96$ |13.525|10.656\n",
    "$\\alpha=4.56\\%,\\mathrm{sd}=2$ |12.705|10.246\n",
    "$\\alpha=1\\%,\\mathrm{sd}=2.58$ | 2.459| 2.049\n",
    "\n",
    "分析表 32.1 中的數據，對於年度布林帶風險數據，信心水準 $\\alpha$ 取值越大時，對應的布林帶越窄，股價突破布林帶上下界的機會就越大，因此呈現出來的布林帶風險也隨之變大。整體上來看，黑松股票 2016 年的布林帶風險比 2015 年高。\n",
    "\n",
    "### 32.5 通道突破交易策略的制定\n",
    "\n",
    "#### 32.5.1 一般布林帶上下通道突破策略\n",
    "\n",
    "布林帶通道最常見的策略，就是根據價格線突破布林帶通道上下界來制定交易策略。\n",
    "\n",
    "* 當股價向上突破布林帶上通道時，股票可能產生了異常上漲，未來股價會跌落到布林帶通道內部，此時宜做空；\n",
    "\n",
    "* 當股價向下突破布林帶上通道時，股票可能產生了異常跌勢，未來股價會上升到布林帶通道內部，此時宜做多。\n",
    "\n",
    "運用黑松股票的交易數據，用 Python 撰寫程式來捕捉價格突破布林帶上下通道日期，制定交易策略並計算平均獲勝收益率。"
   ]
  },
  {
   "cell_type": "code",
   "execution_count": null,
   "metadata": {},
   "outputs": [],
   "source": [
    "# 布林帶上下通道突破策略\n",
    "BBands=bbands(Close,20,2)\n",
    "upbreakBB1=upbreak(Close,BBands.upBBand)\n",
    "downbreakBB1=downbreak(Close,BBands.downBBand)\n",
    "\n",
    "# 信號出現2天后進行交易\n",
    "upBBSig1=-upbreakBB1.shift(2)\n",
    "downBBSig1=downbreakBB1.shift(2)\n",
    "tradSignal1=upBBSig1+downBBSig1\n",
    "tradSignal1[tradSignal1==-0]=0"
   ]
  },
  {
   "cell_type": "markdown",
   "metadata": {},
   "source": [
    "進行交易評價之前，先構造交易評價函數 perform()，設定函數參數為價格 tsPrice 和交易信號 tsTradSig。"
   ]
  },
  {
   "cell_type": "code",
   "execution_count": null,
   "metadata": {},
   "outputs": [],
   "source": [
    "def perform(tsPrice,tsTradSig):\n",
    "    ret=tsPrice/tsPrice.shift(1)-1\n",
    "    tradRet=(ret*tsTradSig).dropna()\n",
    "    ret=ret[-len(tradRet):]\n",
    "    winRate=[len(ret[ret>0])/len(ret[ret!=0]),\\\n",
    "             len(tradRet[tradRet>0])/len(tradRet[tradRet!=0])]\n",
    "    meanWin=[np.mean(ret[ret>0]),\\\n",
    "             np.mean(tradRet[tradRet>0])]\n",
    "    meanLoss=[np.mean(ret[ret<0]),\\\n",
    "             np.mean(tradRet[tradRet<0])]\n",
    "    Performance.index=['Stock','Trade']\n",
    "    return(Performance)"
   ]
  },
  {
   "cell_type": "markdown",
   "metadata": {},
   "source": [
    "接下來運用績效表現函數 perform() 來計算布林帶交易的績效表現以及股票本身的績效表現。下列程式結果第一列「row」表示布林帶交易策略的績效表現，第二列表示股票本身的績效表現。"
   ]
  },
  {
   "cell_type": "code",
   "execution_count": null,
   "metadata": {},
   "outputs": [],
   "source": [
    "# 計算平均損失收益率、平均獲勝收益率以及交易獲勝率\n",
    "Performance1= perform(Close,tradSigna1)\n",
    "Performance1"
   ]
  },
  {
   "cell_type": "markdown",
   "metadata": {},
   "source": [
    "#### 32.5.2 另一種布林帶通道突破策略\n",
    "\n",
    "布林帶通道的上下軌道線的刻畫，由選取的時間週期和標準差倍數兩部分決定。不同的時間週期參數和標準差倍數可以刻畫出不同的上下軌道線，進而股價穿破布林帶上下軌道的情形則會不同。如果布林帶通道線設定不夠合理，股票價格向上穿過布林帶上通道線以後，中短期內一直處於上升趨勢，而不會回落到通道線內部，或者股價跌破布林帶下通道線以後可能會比較晚回升到下通道線上方。為了降低「回落到通道內部」這個期望落空的風險，可以改變布林帶通道突破交易策略。\n",
    "\n",
    "交易規則如下：\n",
    "\n",
    "* 當價格線由布林帶上通道線的上方下穿到布林帶通道內部時，說明股價從異常上升行期中將要回覆到正常波動行期，股價短期有下跌趨勢，此時才做空；\n",
    "\n",
    "* 當價格線由布林帶下通道線的下方上穿到布林帶通道內部時，說明股價從異常下跌行期中將要回覆到正常波動行期，股價短期有上升趨勢，此時才做多；\n",
    "\n",
    "運用黑松股票的交易數據，撰寫 Python 程式模擬此策略，並計算策略績效。"
   ]
  },
  {
   "cell_type": "code",
   "execution_count": null,
   "metadata": {},
   "outputs": [],
   "source": [
    "# 另一種布林帶通道突破策略\n",
    "# 價格向上穿下通道，做多\n",
    "# 價格向下穿上通道，做空\n",
    "upbreakBB2=upbreak(Close,BBands.downBBand)\n",
    "downbreakBB2=downbreak(Close,BBands.upBBand)\n",
    "# 交易執行\n",
    "upBBSig2=upbreakBB2.shift(2)\n",
    "downBBSig2=-downbreakBB2.shift(2)\n",
    "tradSignal2=upBBSig2+downBBSig2\n",
    "tradSignal2[tradSignal2==-0]=0\n",
    "Performance2= perform(Close,tradSignal2)\n",
    "Performance2"
   ]
  },
  {
   "cell_type": "markdown",
   "metadata": {},
   "source": [
    "從表現結果看，針對該股票，此交易策略的績效表現與前面一般布林帶策略的績效表現差異不大，但其為我們提供一種新的布林帶交易策略的思考方向，如果用此策略測試其他股票或者設定不同的布林帶間隔日期，說不定會獲得不錯的效果。"
   ]
  }
 ],
 "metadata": {
  "kernelspec": {
   "display_name": "Python 3",
   "language": "python",
   "name": "python3"
  },
  "language_info": {
   "codemirror_mode": {
    "name": "ipython",
    "version": 3
   },
   "file_extension": ".py",
   "mimetype": "text/x-python",
   "name": "python",
   "nbconvert_exporter": "python",
   "pygments_lexer": "ipython3",
   "version": "3.6.5"
  }
 },
 "nbformat": 4,
 "nbformat_minor": 4
}
